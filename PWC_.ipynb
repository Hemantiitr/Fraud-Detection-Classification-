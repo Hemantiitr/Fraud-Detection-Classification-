{
 "cells": [
  {
   "cell_type": "code",
   "execution_count": 1,
   "metadata": {},
   "outputs": [],
   "source": [
    "import numpy as np\n",
    "import pandas as pd\n",
    "\n",
    "import matplotlib.pyplot as plt\n",
    "from pylab import rcParams\n",
    "import seaborn  as sns\n",
    "\n",
    "import scipy\n",
    "from scipy import stats"
   ]
  },
  {
   "cell_type": "code",
   "execution_count": 2,
   "metadata": {},
   "outputs": [],
   "source": [
    "import sklearn\n",
    "from sklearn import preprocessing\n",
    "from sklearn.preprocessing import scale"
   ]
  },
  {
   "cell_type": "code",
   "execution_count": 3,
   "metadata": {},
   "outputs": [],
   "source": [
    "%matplotlib inline\n",
    "rcParams['figure.figsize']=13,6"
   ]
  },
  {
   "cell_type": "code",
   "execution_count": 5,
   "metadata": {},
   "outputs": [],
   "source": [
    "data=pd.read_csv('PWC Hotel and Flight Transactions - 1 Jan 2018 to 21 May 2019.csv')\n",
    "Designation_data=pd.read_csv('PWC User Designation Data.csv')\n",
    "Travel_class_data=pd.read_csv('PWC Travel Class Data.csv')"
   ]
  },
  {
   "cell_type": "code",
   "execution_count": 6,
   "metadata": {},
   "outputs": [
    {
     "data": {
      "text/plain": [
       "Verified by Finance     15150\n",
       "Return to update         1008\n",
       "Saved                     399\n",
       "Partially Verified        393\n",
       "Pending for Audit         242\n",
       "Rejected                  157\n",
       "Pending for Approval      133\n",
       "Data Enrichment           122\n",
       "In-Queue                   48\n",
       "Name: report_status, dtype: int64"
      ]
     },
     "execution_count": 6,
     "metadata": {},
     "output_type": "execute_result"
    }
   ],
   "source": [
    "data.report_status.value_counts()"
   ]
  },
  {
   "cell_type": "code",
   "execution_count": 7,
   "metadata": {},
   "outputs": [
    {
     "data": {
      "text/html": [
       "<div>\n",
       "<style scoped>\n",
       "    .dataframe tbody tr th:only-of-type {\n",
       "        vertical-align: middle;\n",
       "    }\n",
       "\n",
       "    .dataframe tbody tr th {\n",
       "        vertical-align: top;\n",
       "    }\n",
       "\n",
       "    .dataframe thead th {\n",
       "        text-align: right;\n",
       "    }\n",
       "</style>\n",
       "<table border=\"1\" class=\"dataframe\">\n",
       "  <thead>\n",
       "    <tr style=\"text-align: right;\">\n",
       "      <th></th>\n",
       "      <th>user_id</th>\n",
       "      <th>user_name</th>\n",
       "      <th>designation</th>\n",
       "    </tr>\n",
       "  </thead>\n",
       "  <tbody>\n",
       "    <tr>\n",
       "      <th>0</th>\n",
       "      <td>HP2019211141759911243539HP</td>\n",
       "      <td>A Saketh Ram Chandar</td>\n",
       "      <td>Intern/Trainee</td>\n",
       "    </tr>\n",
       "    <tr>\n",
       "      <th>1</th>\n",
       "      <td>HP201922357211732922512HP</td>\n",
       "      <td>A Syed Suhail</td>\n",
       "      <td>Specialist</td>\n",
       "    </tr>\n",
       "    <tr>\n",
       "      <th>2</th>\n",
       "      <td>HP20192111530578970962088HP</td>\n",
       "      <td>A Vishnu Aryanand</td>\n",
       "      <td>Specialist</td>\n",
       "    </tr>\n",
       "    <tr>\n",
       "      <th>3</th>\n",
       "      <td>HP2019211155481479131253HP</td>\n",
       "      <td>AAKASH JAIN</td>\n",
       "      <td>Associate</td>\n",
       "    </tr>\n",
       "    <tr>\n",
       "      <th>4</th>\n",
       "      <td>HP20192111515184091443327HP</td>\n",
       "      <td>AARUSHI GOEL</td>\n",
       "      <td>Senior Associate</td>\n",
       "    </tr>\n",
       "  </tbody>\n",
       "</table>\n",
       "</div>"
      ],
      "text/plain": [
       "                       user_id             user_name       designation\n",
       "0   HP2019211141759911243539HP  A Saketh Ram Chandar    Intern/Trainee\n",
       "1    HP201922357211732922512HP         A Syed Suhail        Specialist\n",
       "2  HP20192111530578970962088HP     A Vishnu Aryanand        Specialist\n",
       "3   HP2019211155481479131253HP           AAKASH JAIN         Associate\n",
       "4  HP20192111515184091443327HP          AARUSHI GOEL  Senior Associate"
      ]
     },
     "execution_count": 7,
     "metadata": {},
     "output_type": "execute_result"
    }
   ],
   "source": [
    "Designation_data['designation']=Designation_data['designation'].apply(lambda x:x[4:len(Designation_data['designation'])])\n",
    "Designation_data.head()"
   ]
  },
  {
   "cell_type": "code",
   "execution_count": 8,
   "metadata": {},
   "outputs": [
    {
     "data": {
      "text/html": [
       "<div>\n",
       "<style scoped>\n",
       "    .dataframe tbody tr th:only-of-type {\n",
       "        vertical-align: middle;\n",
       "    }\n",
       "\n",
       "    .dataframe tbody tr th {\n",
       "        vertical-align: top;\n",
       "    }\n",
       "\n",
       "    .dataframe thead th {\n",
       "        text-align: right;\n",
       "    }\n",
       "</style>\n",
       "<table border=\"1\" class=\"dataframe\">\n",
       "  <thead>\n",
       "    <tr style=\"text-align: right;\">\n",
       "      <th></th>\n",
       "      <th>txn_id</th>\n",
       "      <th>travel_class</th>\n",
       "    </tr>\n",
       "  </thead>\n",
       "  <tbody>\n",
       "    <tr>\n",
       "      <th>0</th>\n",
       "      <td>HPHED2019220641386912455526HP</td>\n",
       "      <td>Economy</td>\n",
       "    </tr>\n",
       "    <tr>\n",
       "      <th>1</th>\n",
       "      <td>HPHED2019221132950292192574HP</td>\n",
       "      <td>Economy</td>\n",
       "    </tr>\n",
       "    <tr>\n",
       "      <th>2</th>\n",
       "      <td>HED20192181452581922097686HP</td>\n",
       "      <td>Economy</td>\n",
       "    </tr>\n",
       "    <tr>\n",
       "      <th>3</th>\n",
       "      <td>HPPCE2019222932373370313148HP</td>\n",
       "      <td>Economy</td>\n",
       "    </tr>\n",
       "    <tr>\n",
       "      <th>4</th>\n",
       "      <td>HPPCE20193121952279752744037HP</td>\n",
       "      <td>Economy</td>\n",
       "    </tr>\n",
       "  </tbody>\n",
       "</table>\n",
       "</div>"
      ],
      "text/plain": [
       "                           txn_id travel_class\n",
       "0   HPHED2019220641386912455526HP      Economy\n",
       "1   HPHED2019221132950292192574HP      Economy\n",
       "2    HED20192181452581922097686HP      Economy\n",
       "3   HPPCE2019222932373370313148HP      Economy\n",
       "4  HPPCE20193121952279752744037HP      Economy"
      ]
     },
     "execution_count": 8,
     "metadata": {},
     "output_type": "execute_result"
    }
   ],
   "source": [
    "Travel_class_data.head()"
   ]
  },
  {
   "cell_type": "code",
   "execution_count": 9,
   "metadata": {},
   "outputs": [
    {
     "data": {
      "text/plain": [
       "array(['Intern/Trainee', 'Specialist', 'Associate', 'Senior Associate',\n",
       "       'Manager', 'Director', 'Administrative', 'Senior Manager',\n",
       "       'Partner', 'Managing Director', 'Executive Director'], dtype=object)"
      ]
     },
     "execution_count": 9,
     "metadata": {},
     "output_type": "execute_result"
    }
   ],
   "source": [
    "Designation_data['designation'].unique()"
   ]
  },
  {
   "cell_type": "code",
   "execution_count": 10,
   "metadata": {},
   "outputs": [],
   "source": [
    "data=pd.merge(data, Designation_data[['user_id','designation']], on=['user_id'])\n",
    "data=data[data['designation'].isnull()==False]\n",
    "\n",
    "data=pd.merge(data, Travel_class_data[['txn_id','travel_class']],how='left', on=['txn_id'])"
   ]
  },
  {
   "cell_type": "code",
   "execution_count": 11,
   "metadata": {},
   "outputs": [
    {
     "data": {
      "text/html": [
       "<div>\n",
       "<style scoped>\n",
       "    .dataframe tbody tr th:only-of-type {\n",
       "        vertical-align: middle;\n",
       "    }\n",
       "\n",
       "    .dataframe tbody tr th {\n",
       "        vertical-align: top;\n",
       "    }\n",
       "\n",
       "    .dataframe thead th {\n",
       "        text-align: right;\n",
       "    }\n",
       "</style>\n",
       "<table border=\"1\" class=\"dataframe\">\n",
       "  <thead>\n",
       "    <tr style=\"text-align: right;\">\n",
       "      <th></th>\n",
       "      <th>city</th>\n",
       "      <th>country</th>\n",
       "    </tr>\n",
       "  </thead>\n",
       "  <tbody>\n",
       "    <tr>\n",
       "      <th>0</th>\n",
       "      <td>A Coruña</td>\n",
       "      <td>Spain</td>\n",
       "    </tr>\n",
       "    <tr>\n",
       "      <th>1</th>\n",
       "      <td>Aachen</td>\n",
       "      <td>Germany</td>\n",
       "    </tr>\n",
       "  </tbody>\n",
       "</table>\n",
       "</div>"
      ],
      "text/plain": [
       "       city  country\n",
       "0  A Coruña    Spain\n",
       "1    Aachen  Germany"
      ]
     },
     "execution_count": 11,
     "metadata": {},
     "output_type": "execute_result"
    }
   ],
   "source": [
    "countries_data=pd.read_csv('Cities.csv')\n",
    "countries_data.head(2)"
   ]
  },
  {
   "cell_type": "code",
   "execution_count": 12,
   "metadata": {},
   "outputs": [],
   "source": [
    "\n",
    "data=pd.merge(data, countries_data,how='left', on=['city'])"
   ]
  },
  {
   "cell_type": "code",
   "execution_count": 13,
   "metadata": {
    "scrolled": true
   },
   "outputs": [
    {
     "name": "stdout",
     "output_type": "stream",
     "text": [
      "<class 'pandas.core.frame.DataFrame'>\n",
      "Int64Index: 18217 entries, 0 to 18216\n",
      "Data columns (total 44 columns):\n",
      "txn_id                    18217 non-null object\n",
      "description               2219 non-null object\n",
      "txn_date                  18217 non-null object\n",
      "payee_merchant            18216 non-null object\n",
      "amount                    18217 non-null float64\n",
      "channel                   0 non-null float64\n",
      "mcc                       0 non-null float64\n",
      "merchant_id               0 non-null float64\n",
      "txn_type_id               18217 non-null int64\n",
      "user_id                   18217 non-null object\n",
      "wallet_id                 18217 non-null object\n",
      "comments                  18217 non-null object\n",
      "txn_type                  18217 non-null object\n",
      "is_org                    18217 non-null bool\n",
      "report_id                 17652 non-null object\n",
      "report_submission_date    17262 non-null object\n",
      "report_approved_date      15148 non-null object\n",
      "expense_category          18217 non-null object\n",
      "report_status             17652 non-null object\n",
      "city                      18168 non-null object\n",
      "city_group                18168 non-null object\n",
      "policy_id_1               1530 non-null float64\n",
      "policy_id_2               95 non-null float64\n",
      "policy_id_3               29 non-null float64\n",
      "policy_id_4               2 non-null float64\n",
      "attribute_id_1            1530 non-null float64\n",
      "attribute_id_2            95 non-null float64\n",
      "attribute_id_3            29 non-null float64\n",
      "attribute_id_4            2 non-null float64\n",
      "msg_1                     1530 non-null object\n",
      "msg_2                     95 non-null object\n",
      "msg_3                     29 non-null object\n",
      "msg_4                     2 non-null object\n",
      "value_1                   1530 non-null float64\n",
      "value_2                   95 non-null float64\n",
      "value_3                   29 non-null float64\n",
      "value_4                   2 non-null float64\n",
      "notification_1            1530 non-null object\n",
      "notification_2            95 non-null object\n",
      "notification_3            29 non-null object\n",
      "notification_4            2 non-null object\n",
      "designation               18217 non-null object\n",
      "travel_class              9171 non-null object\n",
      "country                   18168 non-null object\n",
      "dtypes: bool(1), float64(16), int64(1), object(26)\n",
      "memory usage: 6.1+ MB\n"
     ]
    }
   ],
   "source": [
    "data.info()"
   ]
  },
  {
   "cell_type": "code",
   "execution_count": 14,
   "metadata": {},
   "outputs": [],
   "source": [
    "import datetime as dt\n",
    "\n",
    "data['txn_date']=pd.to_datetime(data['txn_date'])\n",
    "data['report_submission_date']=pd.to_datetime(data['report_submission_date'])\n",
    "\n",
    "delta=dt.timedelta(90)\n",
    "data['last_date_of_submission']=data['txn_date']+delta"
   ]
  },
  {
   "cell_type": "code",
   "execution_count": 15,
   "metadata": {
    "scrolled": true
   },
   "outputs": [
    {
     "data": {
      "text/html": [
       "<div>\n",
       "<style scoped>\n",
       "    .dataframe tbody tr th:only-of-type {\n",
       "        vertical-align: middle;\n",
       "    }\n",
       "\n",
       "    .dataframe tbody tr th {\n",
       "        vertical-align: top;\n",
       "    }\n",
       "\n",
       "    .dataframe thead th {\n",
       "        text-align: right;\n",
       "    }\n",
       "</style>\n",
       "<table border=\"1\" class=\"dataframe\">\n",
       "  <thead>\n",
       "    <tr style=\"text-align: right;\">\n",
       "      <th></th>\n",
       "      <th></th>\n",
       "      <th></th>\n",
       "      <th>msg_1</th>\n",
       "    </tr>\n",
       "    <tr>\n",
       "      <th>policy_id_1</th>\n",
       "      <th>attribute_id_1</th>\n",
       "      <th></th>\n",
       "      <th></th>\n",
       "    </tr>\n",
       "  </thead>\n",
       "  <tbody>\n",
       "    <tr>\n",
       "      <th>13563.0</th>\n",
       "      <th>12145.0</th>\n",
       "      <th>0</th>\n",
       "      <td>Please attach only Foreign travel expenses in ...</td>\n",
       "    </tr>\n",
       "    <tr>\n",
       "      <th>15862.0</th>\n",
       "      <th>13703.0</th>\n",
       "      <th>0</th>\n",
       "      <td>Not eligible for Room rent per day exceeding 1...</td>\n",
       "    </tr>\n",
       "    <tr>\n",
       "      <th>15863.0</th>\n",
       "      <th>13707.0</th>\n",
       "      <th>0</th>\n",
       "      <td>Not eligible for Room rent per day exceeding 7...</td>\n",
       "    </tr>\n",
       "    <tr>\n",
       "      <th>15864.0</th>\n",
       "      <th>13708.0</th>\n",
       "      <th>0</th>\n",
       "      <td>Not eligible for Room rent per day exceeding 5...</td>\n",
       "    </tr>\n",
       "    <tr>\n",
       "      <th>15865.0</th>\n",
       "      <th>13708.0</th>\n",
       "      <th>0</th>\n",
       "      <td>Not eligible for Room rent per day exceeding 5...</td>\n",
       "    </tr>\n",
       "    <tr>\n",
       "      <th>15867.0</th>\n",
       "      <th>13710.0</th>\n",
       "      <th>0</th>\n",
       "      <td>Not eligible for Room rent per day exceeding 4...</td>\n",
       "    </tr>\n",
       "    <tr>\n",
       "      <th>15868.0</th>\n",
       "      <th>13709.0</th>\n",
       "      <th>0</th>\n",
       "      <td>Not eligible for Room rent per day exceeding 4...</td>\n",
       "    </tr>\n",
       "    <tr>\n",
       "      <th>15869.0</th>\n",
       "      <th>13711.0</th>\n",
       "      <th>0</th>\n",
       "      <td>Not eligible for Room rent per day exceeding 3...</td>\n",
       "    </tr>\n",
       "    <tr>\n",
       "      <th>15876.0</th>\n",
       "      <th>13719.0</th>\n",
       "      <th>0</th>\n",
       "      <td>Not eligible for particular class of Air Travel</td>\n",
       "    </tr>\n",
       "    <tr>\n",
       "      <th>15913.0</th>\n",
       "      <th>13748.0</th>\n",
       "      <th>0</th>\n",
       "      <td>Please accept the Terms and Conditions</td>\n",
       "    </tr>\n",
       "    <tr>\n",
       "      <th>15922.0</th>\n",
       "      <th>13757.0</th>\n",
       "      <th>0</th>\n",
       "      <td>Please select the City of Expense</td>\n",
       "    </tr>\n",
       "    <tr>\n",
       "      <th>15923.0</th>\n",
       "      <th>13758.0</th>\n",
       "      <th>0</th>\n",
       "      <td>At-least 1 project should match</td>\n",
       "    </tr>\n",
       "    <tr>\n",
       "      <th>15924.0</th>\n",
       "      <th>13759.0</th>\n",
       "      <th>0</th>\n",
       "      <td>Project Name/ID is mandatory on report</td>\n",
       "    </tr>\n",
       "    <tr>\n",
       "      <th>15940.0</th>\n",
       "      <th>13774.0</th>\n",
       "      <th>0</th>\n",
       "      <td>This is a Duplicate expense</td>\n",
       "    </tr>\n",
       "    <tr>\n",
       "      <th>16546.0</th>\n",
       "      <th>14329.0</th>\n",
       "      <th>0</th>\n",
       "      <td>Expense Date should be between Project Start D...</td>\n",
       "    </tr>\n",
       "    <tr>\n",
       "      <th>16547.0</th>\n",
       "      <th>14331.0</th>\n",
       "      <th>0</th>\n",
       "      <td>Expense Date should be between Project Start D...</td>\n",
       "    </tr>\n",
       "    <tr>\n",
       "      <th>16882.0</th>\n",
       "      <th>14577.0</th>\n",
       "      <th>0</th>\n",
       "      <td>Your expense is older than 90 days and has bee...</td>\n",
       "    </tr>\n",
       "  </tbody>\n",
       "</table>\n",
       "</div>"
      ],
      "text/plain": [
       "                                                                          msg_1\n",
       "policy_id_1 attribute_id_1                                                     \n",
       "13563.0     12145.0        0  Please attach only Foreign travel expenses in ...\n",
       "15862.0     13703.0        0  Not eligible for Room rent per day exceeding 1...\n",
       "15863.0     13707.0        0  Not eligible for Room rent per day exceeding 7...\n",
       "15864.0     13708.0        0  Not eligible for Room rent per day exceeding 5...\n",
       "15865.0     13708.0        0  Not eligible for Room rent per day exceeding 5...\n",
       "15867.0     13710.0        0  Not eligible for Room rent per day exceeding 4...\n",
       "15868.0     13709.0        0  Not eligible for Room rent per day exceeding 4...\n",
       "15869.0     13711.0        0  Not eligible for Room rent per day exceeding 3...\n",
       "15876.0     13719.0        0    Not eligible for particular class of Air Travel\n",
       "15913.0     13748.0        0             Please accept the Terms and Conditions\n",
       "15922.0     13757.0        0                  Please select the City of Expense\n",
       "15923.0     13758.0        0                    At-least 1 project should match\n",
       "15924.0     13759.0        0             Project Name/ID is mandatory on report\n",
       "15940.0     13774.0        0                        This is a Duplicate expense\n",
       "16546.0     14329.0        0  Expense Date should be between Project Start D...\n",
       "16547.0     14331.0        0  Expense Date should be between Project Start D...\n",
       "16882.0     14577.0        0  Your expense is older than 90 days and has bee..."
      ]
     },
     "execution_count": 15,
     "metadata": {},
     "output_type": "execute_result"
    }
   ],
   "source": [
    "\n",
    "data[['policy_id_1','attribute_id_1','msg_1']].groupby(['policy_id_1','attribute_id_1'])['msg_1'].apply(pd.Series.mode).to_frame()"
   ]
  },
  {
   "cell_type": "code",
   "execution_count": 16,
   "metadata": {},
   "outputs": [],
   "source": [
    "import warnings\n",
    "warnings.filterwarnings('ignore')"
   ]
  },
  {
   "cell_type": "code",
   "execution_count": 17,
   "metadata": {
    "scrolled": false
   },
   "outputs": [
    {
     "data": {
      "text/html": [
       "<div>\n",
       "<style scoped>\n",
       "    .dataframe tbody tr th:only-of-type {\n",
       "        vertical-align: middle;\n",
       "    }\n",
       "\n",
       "    .dataframe tbody tr th {\n",
       "        vertical-align: top;\n",
       "    }\n",
       "\n",
       "    .dataframe thead th {\n",
       "        text-align: right;\n",
       "    }\n",
       "</style>\n",
       "<table border=\"1\" class=\"dataframe\">\n",
       "  <thead>\n",
       "    <tr style=\"text-align: right;\">\n",
       "      <th></th>\n",
       "      <th>user_id</th>\n",
       "      <th>expense_category</th>\n",
       "      <th>amount</th>\n",
       "      <th>designation</th>\n",
       "      <th>travel_class</th>\n",
       "      <th>txn_type</th>\n",
       "      <th>report_status</th>\n",
       "      <th>txn_date</th>\n",
       "      <th>last_date_of_submission</th>\n",
       "      <th>report_submission_date</th>\n",
       "      <th>policy_id_1</th>\n",
       "      <th>policy_id_2</th>\n",
       "      <th>policy_id_3</th>\n",
       "      <th>policy_id_4</th>\n",
       "      <th>city</th>\n",
       "      <th>city_group</th>\n",
       "      <th>country</th>\n",
       "    </tr>\n",
       "  </thead>\n",
       "  <tbody>\n",
       "    <tr>\n",
       "      <th>0</th>\n",
       "      <td>HP2019211104039332593324HP</td>\n",
       "      <td>Airfare Expense</td>\n",
       "      <td>21719.0</td>\n",
       "      <td>Partner</td>\n",
       "      <td>Economy</td>\n",
       "      <td>HDFC Expense Dr</td>\n",
       "      <td>Data Enrichment</td>\n",
       "      <td>2019-05-16</td>\n",
       "      <td>2019-08-14</td>\n",
       "      <td>2019-05-21</td>\n",
       "      <td>nan</td>\n",
       "      <td>nan</td>\n",
       "      <td>nan</td>\n",
       "      <td>nan</td>\n",
       "      <td>Gurgaon</td>\n",
       "      <td>Metro</td>\n",
       "      <td>India</td>\n",
       "    </tr>\n",
       "    <tr>\n",
       "      <th>1</th>\n",
       "      <td>HP2019211104039332593324HP</td>\n",
       "      <td>Airfare Expense</td>\n",
       "      <td>6467.0</td>\n",
       "      <td>Partner</td>\n",
       "      <td>Economy</td>\n",
       "      <td>HDFC Expense Dr</td>\n",
       "      <td>Verified by Finance</td>\n",
       "      <td>2019-11-02</td>\n",
       "      <td>2020-01-31</td>\n",
       "      <td>2019-02-25</td>\n",
       "      <td>nan</td>\n",
       "      <td>nan</td>\n",
       "      <td>nan</td>\n",
       "      <td>nan</td>\n",
       "      <td>Gurgaon</td>\n",
       "      <td>Metro</td>\n",
       "      <td>India</td>\n",
       "    </tr>\n",
       "    <tr>\n",
       "      <th>2</th>\n",
       "      <td>HP2019211104039332593324HP</td>\n",
       "      <td>Airfare Expense</td>\n",
       "      <td>4170.0</td>\n",
       "      <td>Partner</td>\n",
       "      <td>Economy</td>\n",
       "      <td>HDFC Expense Dr</td>\n",
       "      <td>Verified by Finance</td>\n",
       "      <td>2019-02-13</td>\n",
       "      <td>2019-05-14</td>\n",
       "      <td>2019-02-25</td>\n",
       "      <td>nan</td>\n",
       "      <td>nan</td>\n",
       "      <td>nan</td>\n",
       "      <td>nan</td>\n",
       "      <td>Gurgaon</td>\n",
       "      <td>Metro</td>\n",
       "      <td>India</td>\n",
       "    </tr>\n",
       "    <tr>\n",
       "      <th>3</th>\n",
       "      <td>HP2019211104039332593324HP</td>\n",
       "      <td>Airfare Expense</td>\n",
       "      <td>6968.0</td>\n",
       "      <td>Partner</td>\n",
       "      <td>Economy</td>\n",
       "      <td>HDFC Expense Dr</td>\n",
       "      <td>Verified by Finance</td>\n",
       "      <td>2019-02-13</td>\n",
       "      <td>2019-05-14</td>\n",
       "      <td>2019-02-25</td>\n",
       "      <td>nan</td>\n",
       "      <td>nan</td>\n",
       "      <td>nan</td>\n",
       "      <td>nan</td>\n",
       "      <td>Gurgaon</td>\n",
       "      <td>Metro</td>\n",
       "      <td>India</td>\n",
       "    </tr>\n",
       "    <tr>\n",
       "      <th>4</th>\n",
       "      <td>HP2019211104039332593324HP</td>\n",
       "      <td>Airfare Expense</td>\n",
       "      <td>4170.0</td>\n",
       "      <td>Partner</td>\n",
       "      <td>Economy</td>\n",
       "      <td>HDFC Expense Dr</td>\n",
       "      <td>Verified by Finance</td>\n",
       "      <td>2019-11-02</td>\n",
       "      <td>2020-01-31</td>\n",
       "      <td>2019-02-25</td>\n",
       "      <td>nan</td>\n",
       "      <td>nan</td>\n",
       "      <td>nan</td>\n",
       "      <td>nan</td>\n",
       "      <td>Gurgaon</td>\n",
       "      <td>Metro</td>\n",
       "      <td>India</td>\n",
       "    </tr>\n",
       "  </tbody>\n",
       "</table>\n",
       "</div>"
      ],
      "text/plain": [
       "                      user_id expense_category   amount designation  \\\n",
       "0  HP2019211104039332593324HP  Airfare Expense  21719.0     Partner   \n",
       "1  HP2019211104039332593324HP  Airfare Expense   6467.0     Partner   \n",
       "2  HP2019211104039332593324HP  Airfare Expense   4170.0     Partner   \n",
       "3  HP2019211104039332593324HP  Airfare Expense   6968.0     Partner   \n",
       "4  HP2019211104039332593324HP  Airfare Expense   4170.0     Partner   \n",
       "\n",
       "  travel_class         txn_type        report_status   txn_date  \\\n",
       "0      Economy  HDFC Expense Dr      Data Enrichment 2019-05-16   \n",
       "1      Economy  HDFC Expense Dr  Verified by Finance 2019-11-02   \n",
       "2      Economy  HDFC Expense Dr  Verified by Finance 2019-02-13   \n",
       "3      Economy  HDFC Expense Dr  Verified by Finance 2019-02-13   \n",
       "4      Economy  HDFC Expense Dr  Verified by Finance 2019-11-02   \n",
       "\n",
       "  last_date_of_submission report_submission_date policy_id_1 policy_id_2  \\\n",
       "0              2019-08-14             2019-05-21         nan         nan   \n",
       "1              2020-01-31             2019-02-25         nan         nan   \n",
       "2              2019-05-14             2019-02-25         nan         nan   \n",
       "3              2019-05-14             2019-02-25         nan         nan   \n",
       "4              2020-01-31             2019-02-25         nan         nan   \n",
       "\n",
       "  policy_id_3 policy_id_4     city city_group country  \n",
       "0         nan         nan  Gurgaon      Metro   India  \n",
       "1         nan         nan  Gurgaon      Metro   India  \n",
       "2         nan         nan  Gurgaon      Metro   India  \n",
       "3         nan         nan  Gurgaon      Metro   India  \n",
       "4         nan         nan  Gurgaon      Metro   India  "
      ]
     },
     "execution_count": 17,
     "metadata": {},
     "output_type": "execute_result"
    }
   ],
   "source": [
    "data2=data[['user_id','expense_category','amount','designation','travel_class','txn_type','report_status','txn_date','last_date_of_submission','report_submission_date',\n",
    "     'policy_id_1','policy_id_2','policy_id_3','policy_id_4','city','city_group','country']]\n",
    "\n",
    "data2[['policy_id_1','policy_id_2','policy_id_3','policy_id_4']]=data2[['policy_id_1','policy_id_2','policy_id_3','policy_id_4']].astype('str')\n",
    "\n",
    "\n",
    "data2.head()"
   ]
  },
  {
   "cell_type": "code",
   "execution_count": 18,
   "metadata": {},
   "outputs": [
    {
     "name": "stdout",
     "output_type": "stream",
     "text": [
      "            expense_category       amount        report_status\n",
      "15127        Airfare Expense  13456765.00                Saved\n",
      "17113  Hotel Booking Expense    560000.00  Verified by Finance\n",
      "3842   Hotel Booking Expense    533588.00  Verified by Finance\n",
      "4928         Airfare Expense    478480.19  Verified by Finance\n",
      "3705         Airfare Expense    413691.00  Verified by Finance\n"
     ]
    }
   ],
   "source": [
    "print (data2[['expense_category','amount','report_status']].sort_values('amount',ascending=False).head())\n",
    "data2.drop([15127],axis=0,inplace=True)"
   ]
  },
  {
   "cell_type": "code",
   "execution_count": 19,
   "metadata": {},
   "outputs": [
    {
     "name": "stdout",
     "output_type": "stream",
     "text": [
      "<class 'pandas.core.frame.DataFrame'>\n",
      "Int64Index: 1530 entries, 25 to 18216\n",
      "Data columns (total 17 columns):\n",
      "user_id                    1530 non-null object\n",
      "expense_category           1530 non-null object\n",
      "amount                     1530 non-null float64\n",
      "designation                1530 non-null object\n",
      "travel_class               339 non-null object\n",
      "txn_type                   1530 non-null object\n",
      "report_status              1530 non-null object\n",
      "txn_date                   1530 non-null datetime64[ns]\n",
      "last_date_of_submission    1530 non-null datetime64[ns]\n",
      "report_submission_date     1320 non-null datetime64[ns]\n",
      "policy_id_1                1530 non-null object\n",
      "policy_id_2                1530 non-null object\n",
      "policy_id_3                1530 non-null object\n",
      "policy_id_4                1530 non-null object\n",
      "city                       1528 non-null object\n",
      "city_group                 1528 non-null object\n",
      "country                    1528 non-null object\n",
      "dtypes: datetime64[ns](3), float64(1), object(13)\n",
      "memory usage: 215.2+ KB\n"
     ]
    }
   ],
   "source": [
    "data_pol=data2[data2['policy_id_1']!='nan']\n",
    "data_pol.info()"
   ]
  },
  {
   "cell_type": "code",
   "execution_count": 20,
   "metadata": {},
   "outputs": [
    {
     "data": {
      "text/plain": [
       "user_id                       0\n",
       "expense_category              0\n",
       "amount                        0\n",
       "designation                   0\n",
       "travel_class               1191\n",
       "txn_type                      0\n",
       "report_status                 0\n",
       "txn_date                      0\n",
       "last_date_of_submission       0\n",
       "report_submission_date      210\n",
       "policy_id_1                   0\n",
       "policy_id_2                   0\n",
       "policy_id_3                   0\n",
       "policy_id_4                   0\n",
       "city                          2\n",
       "city_group                    2\n",
       "country                       2\n",
       "dtype: int64"
      ]
     },
     "execution_count": 20,
     "metadata": {},
     "output_type": "execute_result"
    }
   ],
   "source": [
    "data_pol.isnull().sum()"
   ]
  },
  {
   "cell_type": "code",
   "execution_count": 21,
   "metadata": {},
   "outputs": [
    {
     "data": {
      "text/html": [
       "<div>\n",
       "<style scoped>\n",
       "    .dataframe tbody tr th:only-of-type {\n",
       "        vertical-align: middle;\n",
       "    }\n",
       "\n",
       "    .dataframe tbody tr th {\n",
       "        vertical-align: top;\n",
       "    }\n",
       "\n",
       "    .dataframe thead th {\n",
       "        text-align: right;\n",
       "    }\n",
       "</style>\n",
       "<table border=\"1\" class=\"dataframe\">\n",
       "  <thead>\n",
       "    <tr style=\"text-align: right;\">\n",
       "      <th></th>\n",
       "      <th>user_id</th>\n",
       "      <th>expense_category</th>\n",
       "      <th>amount</th>\n",
       "      <th>designation</th>\n",
       "      <th>travel_class</th>\n",
       "      <th>txn_type</th>\n",
       "      <th>report_status</th>\n",
       "      <th>txn_date</th>\n",
       "      <th>last_date_of_submission</th>\n",
       "      <th>report_submission_date</th>\n",
       "      <th>policy_id_1</th>\n",
       "      <th>policy_id_2</th>\n",
       "      <th>policy_id_3</th>\n",
       "      <th>policy_id_4</th>\n",
       "      <th>city</th>\n",
       "      <th>city_group</th>\n",
       "      <th>country</th>\n",
       "    </tr>\n",
       "  </thead>\n",
       "  <tbody>\n",
       "    <tr>\n",
       "      <th>3087</th>\n",
       "      <td>HP2019211111521504979719HP</td>\n",
       "      <td>Airfare Expense</td>\n",
       "      <td>5137.0</td>\n",
       "      <td>Manager</td>\n",
       "      <td>Economy</td>\n",
       "      <td>HDFC Expense Dr</td>\n",
       "      <td>Saved</td>\n",
       "      <td>2018-03-12</td>\n",
       "      <td>2018-06-10</td>\n",
       "      <td>NaT</td>\n",
       "      <td>15922.0</td>\n",
       "      <td>16882.0</td>\n",
       "      <td>nan</td>\n",
       "      <td>nan</td>\n",
       "      <td>NaN</td>\n",
       "      <td>NaN</td>\n",
       "      <td>NaN</td>\n",
       "    </tr>\n",
       "    <tr>\n",
       "      <th>15120</th>\n",
       "      <td>HP201882492014573715291HP</td>\n",
       "      <td>Airfare Expense</td>\n",
       "      <td>2.0</td>\n",
       "      <td>Partner</td>\n",
       "      <td>NaN</td>\n",
       "      <td>HDFC Expense Dr</td>\n",
       "      <td>Saved</td>\n",
       "      <td>2019-12-03</td>\n",
       "      <td>2020-03-02</td>\n",
       "      <td>NaT</td>\n",
       "      <td>15922.0</td>\n",
       "      <td>nan</td>\n",
       "      <td>nan</td>\n",
       "      <td>nan</td>\n",
       "      <td>NaN</td>\n",
       "      <td>NaN</td>\n",
       "      <td>NaN</td>\n",
       "    </tr>\n",
       "  </tbody>\n",
       "</table>\n",
       "</div>"
      ],
      "text/plain": [
       "                          user_id expense_category  amount designation  \\\n",
       "3087   HP2019211111521504979719HP  Airfare Expense  5137.0     Manager   \n",
       "15120   HP201882492014573715291HP  Airfare Expense     2.0     Partner   \n",
       "\n",
       "      travel_class         txn_type report_status   txn_date  \\\n",
       "3087       Economy  HDFC Expense Dr         Saved 2018-03-12   \n",
       "15120          NaN  HDFC Expense Dr         Saved 2019-12-03   \n",
       "\n",
       "      last_date_of_submission report_submission_date policy_id_1 policy_id_2  \\\n",
       "3087               2018-06-10                    NaT     15922.0     16882.0   \n",
       "15120              2020-03-02                    NaT     15922.0         nan   \n",
       "\n",
       "      policy_id_3 policy_id_4 city city_group country  \n",
       "3087          nan         nan  NaN        NaN     NaN  \n",
       "15120         nan         nan  NaN        NaN     NaN  "
      ]
     },
     "execution_count": 21,
     "metadata": {},
     "output_type": "execute_result"
    }
   ],
   "source": [
    "data_pol[data_pol['city'].isnull()==True ]"
   ]
  },
  {
   "cell_type": "code",
   "execution_count": 22,
   "metadata": {},
   "outputs": [
    {
     "data": {
      "text/html": [
       "<div>\n",
       "<style scoped>\n",
       "    .dataframe tbody tr th:only-of-type {\n",
       "        vertical-align: middle;\n",
       "    }\n",
       "\n",
       "    .dataframe tbody tr th {\n",
       "        vertical-align: top;\n",
       "    }\n",
       "\n",
       "    .dataframe thead th {\n",
       "        text-align: right;\n",
       "    }\n",
       "</style>\n",
       "<table border=\"1\" class=\"dataframe\">\n",
       "  <thead>\n",
       "    <tr style=\"text-align: right;\">\n",
       "      <th></th>\n",
       "      <th>city_group</th>\n",
       "      <th>city</th>\n",
       "      <th>payee_merchant</th>\n",
       "    </tr>\n",
       "  </thead>\n",
       "  <tbody>\n",
       "    <tr>\n",
       "      <th>3087</th>\n",
       "      <td>NaN</td>\n",
       "      <td>NaN</td>\n",
       "      <td>YATRA ONLINE PVT LTD   GURGAON      IND</td>\n",
       "    </tr>\n",
       "    <tr>\n",
       "      <th>15120</th>\n",
       "      <td>NaN</td>\n",
       "      <td>NaN</td>\n",
       "      <td>TEST MOHIT EXPENSE</td>\n",
       "    </tr>\n",
       "  </tbody>\n",
       "</table>\n",
       "</div>"
      ],
      "text/plain": [
       "      city_group city                           payee_merchant\n",
       "3087         NaN  NaN  YATRA ONLINE PVT LTD   GURGAON      IND\n",
       "15120        NaN  NaN                       TEST MOHIT EXPENSE"
      ]
     },
     "execution_count": 22,
     "metadata": {},
     "output_type": "execute_result"
    }
   ],
   "source": [
    "data.loc[[3087,15120]][['city_group','city','payee_merchant']]"
   ]
  },
  {
   "cell_type": "code",
   "execution_count": 23,
   "metadata": {},
   "outputs": [],
   "source": [
    "data_pol.loc[3087,['city','city_group','country']]=[\"Gurgaon\",\"Metro\",'India']"
   ]
  },
  {
   "cell_type": "code",
   "execution_count": 24,
   "metadata": {},
   "outputs": [
    {
     "data": {
      "text/html": [
       "<div>\n",
       "<style scoped>\n",
       "    .dataframe tbody tr th:only-of-type {\n",
       "        vertical-align: middle;\n",
       "    }\n",
       "\n",
       "    .dataframe tbody tr th {\n",
       "        vertical-align: top;\n",
       "    }\n",
       "\n",
       "    .dataframe thead th {\n",
       "        text-align: right;\n",
       "    }\n",
       "</style>\n",
       "<table border=\"1\" class=\"dataframe\">\n",
       "  <thead>\n",
       "    <tr style=\"text-align: right;\">\n",
       "      <th></th>\n",
       "      <th>user_id</th>\n",
       "      <th>expense_category</th>\n",
       "      <th>amount</th>\n",
       "      <th>designation</th>\n",
       "      <th>travel_class</th>\n",
       "      <th>txn_type</th>\n",
       "      <th>report_status</th>\n",
       "      <th>txn_date</th>\n",
       "      <th>last_date_of_submission</th>\n",
       "      <th>report_submission_date</th>\n",
       "      <th>policy_id_1</th>\n",
       "      <th>policy_id_2</th>\n",
       "      <th>policy_id_3</th>\n",
       "      <th>policy_id_4</th>\n",
       "      <th>city</th>\n",
       "      <th>city_group</th>\n",
       "      <th>country</th>\n",
       "    </tr>\n",
       "  </thead>\n",
       "  <tbody>\n",
       "    <tr>\n",
       "      <th>15120</th>\n",
       "      <td>HP201882492014573715291HP</td>\n",
       "      <td>Airfare Expense</td>\n",
       "      <td>2.0</td>\n",
       "      <td>Partner</td>\n",
       "      <td>NaN</td>\n",
       "      <td>HDFC Expense Dr</td>\n",
       "      <td>Saved</td>\n",
       "      <td>2019-12-03</td>\n",
       "      <td>2020-03-02</td>\n",
       "      <td>NaT</td>\n",
       "      <td>15922.0</td>\n",
       "      <td>nan</td>\n",
       "      <td>nan</td>\n",
       "      <td>nan</td>\n",
       "      <td>NaN</td>\n",
       "      <td>NaN</td>\n",
       "      <td>NaN</td>\n",
       "    </tr>\n",
       "  </tbody>\n",
       "</table>\n",
       "</div>"
      ],
      "text/plain": [
       "                         user_id expense_category  amount designation  \\\n",
       "15120  HP201882492014573715291HP  Airfare Expense     2.0     Partner   \n",
       "\n",
       "      travel_class         txn_type report_status   txn_date  \\\n",
       "15120          NaN  HDFC Expense Dr         Saved 2019-12-03   \n",
       "\n",
       "      last_date_of_submission report_submission_date policy_id_1 policy_id_2  \\\n",
       "15120              2020-03-02                    NaT     15922.0         nan   \n",
       "\n",
       "      policy_id_3 policy_id_4 city city_group country  \n",
       "15120         nan         nan  NaN        NaN     NaN  "
      ]
     },
     "execution_count": 24,
     "metadata": {},
     "output_type": "execute_result"
    }
   ],
   "source": [
    "data_pol[data_pol['city'].isnull()==True ]"
   ]
  },
  {
   "cell_type": "code",
   "execution_count": 25,
   "metadata": {},
   "outputs": [
    {
     "data": {
      "text/plain": [
       "txn_id                     18217\n",
       "description                 2054\n",
       "txn_date                     343\n",
       "payee_merchant              7687\n",
       "amount                     10259\n",
       "channel                        0\n",
       "mcc                            0\n",
       "merchant_id                    0\n",
       "txn_type_id                    5\n",
       "user_id                     3350\n",
       "wallet_id                   3350\n",
       "comments                       1\n",
       "txn_type                       5\n",
       "is_org                         1\n",
       "report_id                   8744\n",
       "report_submission_date        96\n",
       "report_approved_date          80\n",
       "expense_category               2\n",
       "report_status                  9\n",
       "city                         519\n",
       "city_group                     2\n",
       "policy_id_1                   17\n",
       "policy_id_2                    8\n",
       "policy_id_3                    3\n",
       "policy_id_4                    1\n",
       "attribute_id_1                16\n",
       "attribute_id_2                 8\n",
       "attribute_id_3                 3\n",
       "attribute_id_4                 1\n",
       "msg_1                         16\n",
       "msg_2                          7\n",
       "msg_3                          2\n",
       "msg_4                          1\n",
       "value_1                      471\n",
       "value_2                       12\n",
       "value_3                       19\n",
       "value_4                        2\n",
       "notification_1                 2\n",
       "notification_2                 2\n",
       "notification_3                 1\n",
       "notification_4                 1\n",
       "designation                   11\n",
       "travel_class                   3\n",
       "country                       65\n",
       "last_date_of_submission      343\n",
       "dtype: int64"
      ]
     },
     "execution_count": 25,
     "metadata": {},
     "output_type": "execute_result"
    }
   ],
   "source": [
    "data.nunique()"
   ]
  },
  {
   "cell_type": "markdown",
   "metadata": {},
   "source": [
    "# EDA"
   ]
  },
  {
   "cell_type": "code",
   "execution_count": 26,
   "metadata": {},
   "outputs": [
    {
     "data": {
      "text/plain": [
       "Text(0.5, 1.0, 'Policy violation Expense category')"
      ]
     },
     "execution_count": 26,
     "metadata": {},
     "output_type": "execute_result"
    },
    {
     "data": {
      "image/png": "[encoded data removed]",
      "text/plain": [
       "<Figure size 936x432 with 2 Axes>"
      ]
     },
     "metadata": {
      "needs_background": "light"
     },
     "output_type": "display_data"
    }
   ],
   "source": [
    "plt.subplot(1,2,1)\n",
    "sns.countplot(data['expense_category'],order=['Airfare Expense','Hotel Booking Expense'])\n",
    "plt.title('Expense category ')\n",
    "\n",
    "plt.subplot(1,2,2)\n",
    "sns.countplot(data_pol['expense_category'],order=['Airfare Expense','Hotel Booking Expense'])\n",
    "plt.title('Policy violation Expense category')"
   ]
  },
  {
   "cell_type": "code",
   "execution_count": 27,
   "metadata": {},
   "outputs": [
    {
     "data": {
      "text/plain": [
       "HP20192111339325262603159HP    42\n",
       "HP20192111232233002644428HP    35\n",
       "HP20192111057189483552403HP    27\n",
       "HP201921112254174175289HP      22\n",
       "HP2019211111888410094398HP     21\n",
       "HP2019211121545472651096HP     21\n",
       "HP20192111232248656162932HP    19\n",
       "Name: user_id, dtype: int64"
      ]
     },
     "execution_count": 27,
     "metadata": {},
     "output_type": "execute_result"
    }
   ],
   "source": [
    "# most policy voilated user in both expenses\n",
    "k=data_pol['user_id'].value_counts().head(7)\n",
    "k"
   ]
  },
  {
   "cell_type": "code",
   "execution_count": 28,
   "metadata": {},
   "outputs": [
    {
     "data": {
      "text/html": [
       "<div>\n",
       "<style scoped>\n",
       "    .dataframe tbody tr th:only-of-type {\n",
       "        vertical-align: middle;\n",
       "    }\n",
       "\n",
       "    .dataframe tbody tr th {\n",
       "        vertical-align: top;\n",
       "    }\n",
       "\n",
       "    .dataframe thead th {\n",
       "        text-align: right;\n",
       "    }\n",
       "</style>\n",
       "<table border=\"1\" class=\"dataframe\">\n",
       "  <thead>\n",
       "    <tr style=\"text-align: right;\">\n",
       "      <th></th>\n",
       "      <th></th>\n",
       "      <th></th>\n",
       "      <th></th>\n",
       "      <th></th>\n",
       "      <th></th>\n",
       "      <th>policy_id_1</th>\n",
       "    </tr>\n",
       "    <tr>\n",
       "      <th>user_id</th>\n",
       "      <th>expense_category</th>\n",
       "      <th>city_group</th>\n",
       "      <th>txn_type</th>\n",
       "      <th>report_status</th>\n",
       "      <th>policy_id_1</th>\n",
       "      <th></th>\n",
       "    </tr>\n",
       "  </thead>\n",
       "  <tbody>\n",
       "    <tr>\n",
       "      <th rowspan=\"10\" valign=\"top\">HP20192111057189483552403HP</th>\n",
       "      <th rowspan=\"4\" valign=\"top\">Airfare Expense</th>\n",
       "      <th rowspan=\"4\" valign=\"top\">Metro</th>\n",
       "      <th>Cash</th>\n",
       "      <th>Verified by Finance</th>\n",
       "      <th>nan</th>\n",
       "      <td>11</td>\n",
       "    </tr>\n",
       "    <tr>\n",
       "      <th rowspan=\"3\" valign=\"top\">Personal Card</th>\n",
       "      <th rowspan=\"2\" valign=\"top\">Saved</th>\n",
       "      <th>16882.0</th>\n",
       "      <td>11</td>\n",
       "    </tr>\n",
       "    <tr>\n",
       "      <th>15940.0</th>\n",
       "      <td>1</td>\n",
       "    </tr>\n",
       "    <tr>\n",
       "      <th>Verified by Finance</th>\n",
       "      <th>nan</th>\n",
       "      <td>15</td>\n",
       "    </tr>\n",
       "    <tr>\n",
       "      <th rowspan=\"6\" valign=\"top\">Hotel Booking Expense</th>\n",
       "      <th rowspan=\"6\" valign=\"top\">Metro</th>\n",
       "      <th rowspan=\"2\" valign=\"top\">Cash</th>\n",
       "      <th>Pending for Approval</th>\n",
       "      <th>15868.0</th>\n",
       "      <td>1</td>\n",
       "    </tr>\n",
       "    <tr>\n",
       "      <th>Verified by Finance</th>\n",
       "      <th>15868.0</th>\n",
       "      <td>1</td>\n",
       "    </tr>\n",
       "    <tr>\n",
       "      <th rowspan=\"4\" valign=\"top\">Personal Card</th>\n",
       "      <th>Pending for Approval</th>\n",
       "      <th>15868.0</th>\n",
       "      <td>2</td>\n",
       "    </tr>\n",
       "    <tr>\n",
       "      <th>Pending for Audit</th>\n",
       "      <th>15868.0</th>\n",
       "      <td>2</td>\n",
       "    </tr>\n",
       "    <tr>\n",
       "      <th>Rejected</th>\n",
       "      <th>15868.0</th>\n",
       "      <td>1</td>\n",
       "    </tr>\n",
       "    <tr>\n",
       "      <th>Return to update</th>\n",
       "      <th>15868.0</th>\n",
       "      <td>3</td>\n",
       "    </tr>\n",
       "  </tbody>\n",
       "</table>\n",
       "</div>"
      ],
      "text/plain": [
       "                                                                                                             policy_id_1\n",
       "user_id                     expense_category      city_group txn_type      report_status        policy_id_1             \n",
       "HP20192111057189483552403HP Airfare Expense       Metro      Cash          Verified by Finance  nan                   11\n",
       "                                                             Personal Card Saved                16882.0               11\n",
       "                                                                                                15940.0                1\n",
       "                                                                           Verified by Finance  nan                   15\n",
       "                            Hotel Booking Expense Metro      Cash          Pending for Approval 15868.0                1\n",
       "                                                                           Verified by Finance  15868.0                1\n",
       "                                                             Personal Card Pending for Approval 15868.0                2\n",
       "                                                                           Pending for Audit    15868.0                2\n",
       "                                                                           Rejected             15868.0                1\n",
       "                                                                           Return to update     15868.0                3"
      ]
     },
     "execution_count": 28,
     "metadata": {},
     "output_type": "execute_result"
    }
   ],
   "source": [
    "df_piv=data2[['user_id','expense_category','city_group','txn_type','report_status','policy_id_1']].groupby(['user_id','expense_category','city_group','txn_type','report_status'])['policy_id_1'].value_counts().to_frame()\n",
    "df_piv.loc[k.index].head(10)"
   ]
  },
  {
   "cell_type": "code",
   "execution_count": 29,
   "metadata": {},
   "outputs": [],
   "source": [
    "#Separating data in Airfare and Hotel Expenses\n",
    "\n",
    "data_airfare = data2[data2['expense_category']=='Airfare Expense'].copy()\n",
    "data_hotel = data2[data2['expense_category']=='Hotel Booking Expense'].copy()\n",
    "\n",
    "data_pol_airfare = data_pol[data_pol['expense_category']=='Airfare Expense'].copy()\n",
    "data_pol_hotel = data_pol[data_pol['expense_category']=='Hotel Booking Expense'].copy()"
   ]
  },
  {
   "cell_type": "markdown",
   "metadata": {},
   "source": [
    "# Airfare Expenses"
   ]
  },
  {
   "cell_type": "code",
   "execution_count": 30,
   "metadata": {},
   "outputs": [
    {
     "data": {
      "text/html": [
       "<div>\n",
       "<style scoped>\n",
       "    .dataframe tbody tr th:only-of-type {\n",
       "        vertical-align: middle;\n",
       "    }\n",
       "\n",
       "    .dataframe tbody tr th {\n",
       "        vertical-align: top;\n",
       "    }\n",
       "\n",
       "    .dataframe thead th {\n",
       "        text-align: right;\n",
       "    }\n",
       "</style>\n",
       "<table border=\"1\" class=\"dataframe\">\n",
       "  <thead>\n",
       "    <tr style=\"text-align: right;\">\n",
       "      <th></th>\n",
       "      <th>amount</th>\n",
       "    </tr>\n",
       "  </thead>\n",
       "  <tbody>\n",
       "    <tr>\n",
       "      <th>count</th>\n",
       "      <td>9194</td>\n",
       "    </tr>\n",
       "    <tr>\n",
       "      <th>mean</th>\n",
       "      <td>9852</td>\n",
       "    </tr>\n",
       "    <tr>\n",
       "      <th>std</th>\n",
       "      <td>18904</td>\n",
       "    </tr>\n",
       "    <tr>\n",
       "      <th>min</th>\n",
       "      <td>0</td>\n",
       "    </tr>\n",
       "    <tr>\n",
       "      <th>25%</th>\n",
       "      <td>4556</td>\n",
       "    </tr>\n",
       "    <tr>\n",
       "      <th>50%</th>\n",
       "      <td>6966</td>\n",
       "    </tr>\n",
       "    <tr>\n",
       "      <th>75%</th>\n",
       "      <td>9578</td>\n",
       "    </tr>\n",
       "    <tr>\n",
       "      <th>max</th>\n",
       "      <td>478480</td>\n",
       "    </tr>\n",
       "  </tbody>\n",
       "</table>\n",
       "</div>"
      ],
      "text/plain": [
       "       amount\n",
       "count    9194\n",
       "mean     9852\n",
       "std     18904\n",
       "min         0\n",
       "25%      4556\n",
       "50%      6966\n",
       "75%      9578\n",
       "max    478480"
      ]
     },
     "execution_count": 30,
     "metadata": {},
     "output_type": "execute_result"
    }
   ],
   "source": [
    "data_airfare.describe().astype('int64')"
   ]
  },
  {
   "cell_type": "code",
   "execution_count": 31,
   "metadata": {},
   "outputs": [
    {
     "data": {
      "text/plain": [
       "Text(0.5, 1.0, 'boxplot')"
      ]
     },
     "execution_count": 31,
     "metadata": {},
     "output_type": "execute_result"
    },
    {
     "data": {
      "image/png": "[encoded data removed]",
      "text/plain": [
       "<Figure size 936x432 with 2 Axes>"
      ]
     },
     "metadata": {
      "needs_background": "light"
     },
     "output_type": "display_data"
    }
   ],
   "source": [
    "\n",
    "plt.subplot(1,2,1)\n",
    "sns.distplot(data_pol_airfare['amount'])\n",
    "plt.title('distplot')\n",
    "\n",
    "plt.subplot(1,2,2)\n",
    "data_airfare.boxplot('amount')\n",
    "plt.title('boxplot')"
   ]
  },
  {
   "cell_type": "code",
   "execution_count": 32,
   "metadata": {},
   "outputs": [
    {
     "data": {
      "text/plain": [
       "16882.0    207\n",
       "16546.0     75\n",
       "15876.0     37\n",
       "15940.0     18\n",
       "15924.0      3\n",
       "15922.0      2\n",
       "16547.0      1\n",
       "15913.0      1\n",
       "Name: policy_id_1, dtype: int64"
      ]
     },
     "execution_count": 32,
     "metadata": {},
     "output_type": "execute_result"
    }
   ],
   "source": [
    "#policy count in airfare data\n",
    "data_pol_airfare['policy_id_1'].value_counts().head(10)"
   ]
  },
  {
   "cell_type": "markdown",
   "metadata": {},
   "source": [
    "In Case of AirExpenses most of user voilating same policy 16882('Your expense is older than 90 days and has been prohibited from submission') ,16546 ('Expense Date should be between Project Start Date and Project Completion Date') and 15876('Not eligible for particular class of Air Travel')"
   ]
  },
  {
   "cell_type": "code",
   "execution_count": 33,
   "metadata": {},
   "outputs": [
    {
     "data": {
      "text/plain": [
       "HP20192111339325262603159HP    42\n",
       "HP2019211111888410094398HP     21\n",
       "HP20192111129207894625120HP    13\n",
       "HP201882492014573715291HP      12\n",
       "HP20192111057189483552403HP    12\n",
       "HP20192111033565604867486HP    11\n",
       "Name: user_id, dtype: int64"
      ]
     },
     "execution_count": 33,
     "metadata": {},
     "output_type": "execute_result"
    }
   ],
   "source": [
    "# most policy voilated users in airfare data\n",
    "k=data_pol_airfare['user_id'].value_counts().head(6)\n",
    "k"
   ]
  },
  {
   "cell_type": "code",
   "execution_count": 34,
   "metadata": {},
   "outputs": [
    {
     "data": {
      "text/html": [
       "<div>\n",
       "<style scoped>\n",
       "    .dataframe tbody tr th:only-of-type {\n",
       "        vertical-align: middle;\n",
       "    }\n",
       "\n",
       "    .dataframe tbody tr th {\n",
       "        vertical-align: top;\n",
       "    }\n",
       "\n",
       "    .dataframe thead th {\n",
       "        text-align: right;\n",
       "    }\n",
       "</style>\n",
       "<table border=\"1\" class=\"dataframe\">\n",
       "  <thead>\n",
       "    <tr style=\"text-align: right;\">\n",
       "      <th></th>\n",
       "      <th></th>\n",
       "      <th></th>\n",
       "      <th></th>\n",
       "      <th></th>\n",
       "      <th>policy_id_1</th>\n",
       "    </tr>\n",
       "    <tr>\n",
       "      <th>user_id</th>\n",
       "      <th>expense_category</th>\n",
       "      <th>city_group</th>\n",
       "      <th>report_status</th>\n",
       "      <th>policy_id_1</th>\n",
       "      <th></th>\n",
       "    </tr>\n",
       "  </thead>\n",
       "  <tbody>\n",
       "    <tr>\n",
       "      <th rowspan=\"2\" valign=\"top\">HP201882492014573715291HP</th>\n",
       "      <th rowspan=\"2\" valign=\"top\">Airfare Expense</th>\n",
       "      <th>Metro</th>\n",
       "      <th>Saved</th>\n",
       "      <th>16546.0</th>\n",
       "      <td>8</td>\n",
       "    </tr>\n",
       "    <tr>\n",
       "      <th>Non-Metro</th>\n",
       "      <th>Saved</th>\n",
       "      <th>16546.0</th>\n",
       "      <td>3</td>\n",
       "    </tr>\n",
       "    <tr>\n",
       "      <th rowspan=\"3\" valign=\"top\">HP20192111033565604867486HP</th>\n",
       "      <th rowspan=\"3\" valign=\"top\">Airfare Expense</th>\n",
       "      <th rowspan=\"3\" valign=\"top\">Metro</th>\n",
       "      <th>Pending for Approval</th>\n",
       "      <th>16882.0</th>\n",
       "      <td>6</td>\n",
       "    </tr>\n",
       "    <tr>\n",
       "      <th>Return to update</th>\n",
       "      <th>16882.0</th>\n",
       "      <td>4</td>\n",
       "    </tr>\n",
       "    <tr>\n",
       "      <th>Saved</th>\n",
       "      <th>16882.0</th>\n",
       "      <td>1</td>\n",
       "    </tr>\n",
       "    <tr>\n",
       "      <th rowspan=\"2\" valign=\"top\">HP20192111057189483552403HP</th>\n",
       "      <th rowspan=\"2\" valign=\"top\">Airfare Expense</th>\n",
       "      <th rowspan=\"2\" valign=\"top\">Metro</th>\n",
       "      <th rowspan=\"2\" valign=\"top\">Saved</th>\n",
       "      <th>16882.0</th>\n",
       "      <td>11</td>\n",
       "    </tr>\n",
       "    <tr>\n",
       "      <th>15940.0</th>\n",
       "      <td>1</td>\n",
       "    </tr>\n",
       "    <tr>\n",
       "      <th rowspan=\"2\" valign=\"top\">HP2019211111888410094398HP</th>\n",
       "      <th rowspan=\"2\" valign=\"top\">Airfare Expense</th>\n",
       "      <th rowspan=\"2\" valign=\"top\">Metro</th>\n",
       "      <th rowspan=\"2\" valign=\"top\">Saved</th>\n",
       "      <th>16882.0</th>\n",
       "      <td>19</td>\n",
       "    </tr>\n",
       "    <tr>\n",
       "      <th>15940.0</th>\n",
       "      <td>2</td>\n",
       "    </tr>\n",
       "    <tr>\n",
       "      <th>HP20192111129207894625120HP</th>\n",
       "      <th>Airfare Expense</th>\n",
       "      <th>Metro</th>\n",
       "      <th>Saved</th>\n",
       "      <th>16882.0</th>\n",
       "      <td>13</td>\n",
       "    </tr>\n",
       "    <tr>\n",
       "      <th rowspan=\"2\" valign=\"top\">HP20192111339325262603159HP</th>\n",
       "      <th rowspan=\"2\" valign=\"top\">Airfare Expense</th>\n",
       "      <th rowspan=\"2\" valign=\"top\">Metro</th>\n",
       "      <th>Saved</th>\n",
       "      <th>15876.0</th>\n",
       "      <td>1</td>\n",
       "    </tr>\n",
       "    <tr>\n",
       "      <th>Verified by Finance</th>\n",
       "      <th>16882.0</th>\n",
       "      <td>41</td>\n",
       "    </tr>\n",
       "  </tbody>\n",
       "</table>\n",
       "</div>"
      ],
      "text/plain": [
       "                                                                                          policy_id_1\n",
       "user_id                     expense_category city_group report_status        policy_id_1             \n",
       "HP201882492014573715291HP   Airfare Expense  Metro      Saved                16546.0                8\n",
       "                                             Non-Metro  Saved                16546.0                3\n",
       "HP20192111033565604867486HP Airfare Expense  Metro      Pending for Approval 16882.0                6\n",
       "                                                        Return to update     16882.0                4\n",
       "                                                        Saved                16882.0                1\n",
       "HP20192111057189483552403HP Airfare Expense  Metro      Saved                16882.0               11\n",
       "                                                                             15940.0                1\n",
       "HP2019211111888410094398HP  Airfare Expense  Metro      Saved                16882.0               19\n",
       "                                                                             15940.0                2\n",
       "HP20192111129207894625120HP Airfare Expense  Metro      Saved                16882.0               13\n",
       "HP20192111339325262603159HP Airfare Expense  Metro      Saved                15876.0                1\n",
       "                                                        Verified by Finance  16882.0               41"
      ]
     },
     "execution_count": 34,
     "metadata": {},
     "output_type": "execute_result"
    }
   ],
   "source": [
    "df_piv=data_pol_airfare[['user_id','expense_category','city_group','report_status','policy_id_1']].groupby(['user_id','expense_category','city_group','report_status'])['policy_id_1'].value_counts().to_frame()\n",
    "df_piv.loc[k.index]"
   ]
  },
  {
   "cell_type": "code",
   "execution_count": 35,
   "metadata": {},
   "outputs": [
    {
     "data": {
      "text/html": [
       "<div>\n",
       "<style scoped>\n",
       "    .dataframe tbody tr th:only-of-type {\n",
       "        vertical-align: middle;\n",
       "    }\n",
       "\n",
       "    .dataframe tbody tr th {\n",
       "        vertical-align: top;\n",
       "    }\n",
       "\n",
       "    .dataframe thead th {\n",
       "        text-align: right;\n",
       "    }\n",
       "</style>\n",
       "<table border=\"1\" class=\"dataframe\">\n",
       "  <thead>\n",
       "    <tr style=\"text-align: right;\">\n",
       "      <th></th>\n",
       "      <th></th>\n",
       "      <th>user_id</th>\n",
       "    </tr>\n",
       "    <tr>\n",
       "      <th>city_group</th>\n",
       "      <th>report_status</th>\n",
       "      <th></th>\n",
       "    </tr>\n",
       "  </thead>\n",
       "  <tbody>\n",
       "    <tr>\n",
       "      <th rowspan=\"6\" valign=\"top\">Metro</th>\n",
       "      <th>Partially Verified</th>\n",
       "      <td>1</td>\n",
       "    </tr>\n",
       "    <tr>\n",
       "      <th>Pending for Approval</th>\n",
       "      <td>6</td>\n",
       "    </tr>\n",
       "    <tr>\n",
       "      <th>Rejected</th>\n",
       "      <td>4</td>\n",
       "    </tr>\n",
       "    <tr>\n",
       "      <th>Return to update</th>\n",
       "      <td>25</td>\n",
       "    </tr>\n",
       "    <tr>\n",
       "      <th>Saved</th>\n",
       "      <td>174</td>\n",
       "    </tr>\n",
       "    <tr>\n",
       "      <th>Verified by Finance</th>\n",
       "      <td>104</td>\n",
       "    </tr>\n",
       "    <tr>\n",
       "      <th rowspan=\"3\" valign=\"top\">Non-Metro</th>\n",
       "      <th>Return to update</th>\n",
       "      <td>5</td>\n",
       "    </tr>\n",
       "    <tr>\n",
       "      <th>Saved</th>\n",
       "      <td>14</td>\n",
       "    </tr>\n",
       "    <tr>\n",
       "      <th>Verified by Finance</th>\n",
       "      <td>10</td>\n",
       "    </tr>\n",
       "  </tbody>\n",
       "</table>\n",
       "</div>"
      ],
      "text/plain": [
       "                                 user_id\n",
       "city_group report_status                \n",
       "Metro      Partially Verified          1\n",
       "           Pending for Approval        6\n",
       "           Rejected                    4\n",
       "           Return to update           25\n",
       "           Saved                     174\n",
       "           Verified by Finance       104\n",
       "Non-Metro  Return to update            5\n",
       "           Saved                      14\n",
       "           Verified by Finance        10"
      ]
     },
     "execution_count": 35,
     "metadata": {},
     "output_type": "execute_result"
    }
   ],
   "source": [
    "data_pol_airfare.pivot_table(['user_id'],\n",
    "               ['city_group','report_status'], aggfunc={'user_id':len})\n"
   ]
  },
  {
   "cell_type": "code",
   "execution_count": 36,
   "metadata": {},
   "outputs": [
    {
     "data": {
      "text/plain": [
       "<matplotlib.axes._subplots.AxesSubplot at 0x20ef9840160>"
      ]
     },
     "execution_count": 36,
     "metadata": {},
     "output_type": "execute_result"
    },
    {
     "data": {
      "image/png": "[encoded data removed]",
      "text/plain": [
       "<Figure size 936x432 with 1 Axes>"
      ]
     },
     "metadata": {
      "needs_background": "light"
     },
     "output_type": "display_data"
    }
   ],
   "source": [
    "sns.countplot('city_group',hue='report_status',data=data_pol_airfare)"
   ]
  },
  {
   "cell_type": "markdown",
   "metadata": {},
   "source": [
    "Partially verified, Rejected,Pending For Approval and comparatively high saved requests available only in Metro citys"
   ]
  },
  {
   "cell_type": "markdown",
   "metadata": {},
   "source": [
    "# Hotel Expenses"
   ]
  },
  {
   "cell_type": "code",
   "execution_count": 37,
   "metadata": {},
   "outputs": [
    {
     "data": {
      "text/html": [
       "<div>\n",
       "<style scoped>\n",
       "    .dataframe tbody tr th:only-of-type {\n",
       "        vertical-align: middle;\n",
       "    }\n",
       "\n",
       "    .dataframe tbody tr th {\n",
       "        vertical-align: top;\n",
       "    }\n",
       "\n",
       "    .dataframe thead th {\n",
       "        text-align: right;\n",
       "    }\n",
       "</style>\n",
       "<table border=\"1\" class=\"dataframe\">\n",
       "  <thead>\n",
       "    <tr style=\"text-align: right;\">\n",
       "      <th></th>\n",
       "      <th>amount</th>\n",
       "    </tr>\n",
       "  </thead>\n",
       "  <tbody>\n",
       "    <tr>\n",
       "      <th>count</th>\n",
       "      <td>9022</td>\n",
       "    </tr>\n",
       "    <tr>\n",
       "      <th>mean</th>\n",
       "      <td>17740</td>\n",
       "    </tr>\n",
       "    <tr>\n",
       "      <th>std</th>\n",
       "      <td>28224</td>\n",
       "    </tr>\n",
       "    <tr>\n",
       "      <th>min</th>\n",
       "      <td>0</td>\n",
       "    </tr>\n",
       "    <tr>\n",
       "      <th>25%</th>\n",
       "      <td>4433</td>\n",
       "    </tr>\n",
       "    <tr>\n",
       "      <th>50%</th>\n",
       "      <td>9062</td>\n",
       "    </tr>\n",
       "    <tr>\n",
       "      <th>75%</th>\n",
       "      <td>19200</td>\n",
       "    </tr>\n",
       "    <tr>\n",
       "      <th>max</th>\n",
       "      <td>560000</td>\n",
       "    </tr>\n",
       "  </tbody>\n",
       "</table>\n",
       "</div>"
      ],
      "text/plain": [
       "       amount\n",
       "count    9022\n",
       "mean    17740\n",
       "std     28224\n",
       "min         0\n",
       "25%      4433\n",
       "50%      9062\n",
       "75%     19200\n",
       "max    560000"
      ]
     },
     "execution_count": 37,
     "metadata": {},
     "output_type": "execute_result"
    }
   ],
   "source": [
    "data_hotel.describe().astype('int64')"
   ]
  },
  {
   "cell_type": "code",
   "execution_count": 38,
   "metadata": {},
   "outputs": [
    {
     "data": {
      "text/plain": [
       "<matplotlib.axes._subplots.AxesSubplot at 0x20ef98d3828>"
      ]
     },
     "execution_count": 38,
     "metadata": {},
     "output_type": "execute_result"
    },
    {
     "data": {
      "image/png": "[encoded data removed]",
      "text/plain": [
       "<Figure size 936x432 with 1 Axes>"
      ]
     },
     "metadata": {
      "needs_background": "light"
     },
     "output_type": "display_data"
    }
   ],
   "source": [
    "sns.distplot(data_hotel['amount'])"
   ]
  },
  {
   "cell_type": "markdown",
   "metadata": {},
   "source": [
    "Right Skiwed data,need more variables to Explore."
   ]
  },
  {
   "cell_type": "code",
   "execution_count": 39,
   "metadata": {},
   "outputs": [
    {
     "data": {
      "text/plain": [
       "15868.0    467\n",
       "15869.0    318\n",
       "15865.0    147\n",
       "15867.0     74\n",
       "15862.0     73\n",
       "15863.0     39\n",
       "16882.0     28\n",
       "15864.0     21\n",
       "15940.0      9\n",
       "16546.0      4\n",
       "Name: policy_id_1, dtype: int64"
      ]
     },
     "execution_count": 39,
     "metadata": {},
     "output_type": "execute_result"
    }
   ],
   "source": [
    "#policy count in Hotel expenses data\n",
    "data_pol_hotel['policy_id_1'].value_counts().head(10)"
   ]
  },
  {
   "cell_type": "markdown",
   "metadata": {},
   "source": [
    "15868 (\"Not eligible for Room rent per day exceeding 4,500 INR\"),15869('Not eligible for Room rent per day exceeding 3,000 INR'), 15865(\"Not eligible for Room rent per day exceeding 5,000 INR\")"
   ]
  },
  {
   "cell_type": "code",
   "execution_count": 40,
   "metadata": {},
   "outputs": [
    {
     "data": {
      "text/plain": [
       "HP20192111232233002644428HP    35\n",
       "HP2019211121545472651096HP     20\n",
       "HP20192111232248656162932HP    19\n",
       "HP201921112254174175289HP      18\n",
       "HP20192111035384850954433HP    15\n",
       "HP20192111057189483552403HP    15\n",
       "HP20192111425304458322644HP    14\n",
       "HP20192111359484209962883HP    14\n",
       "Name: user_id, dtype: int64"
      ]
     },
     "execution_count": 40,
     "metadata": {},
     "output_type": "execute_result"
    }
   ],
   "source": [
    "# most policy voilated users in airfare data\n",
    "k=data_pol_hotel['user_id'].value_counts().head(8)\n",
    "k"
   ]
  },
  {
   "cell_type": "code",
   "execution_count": 41,
   "metadata": {
    "scrolled": true
   },
   "outputs": [
    {
     "data": {
      "text/html": [
       "<div>\n",
       "<style scoped>\n",
       "    .dataframe tbody tr th:only-of-type {\n",
       "        vertical-align: middle;\n",
       "    }\n",
       "\n",
       "    .dataframe tbody tr th {\n",
       "        vertical-align: top;\n",
       "    }\n",
       "\n",
       "    .dataframe thead th {\n",
       "        text-align: right;\n",
       "    }\n",
       "</style>\n",
       "<table border=\"1\" class=\"dataframe\">\n",
       "  <thead>\n",
       "    <tr style=\"text-align: right;\">\n",
       "      <th></th>\n",
       "      <th></th>\n",
       "      <th>user_id</th>\n",
       "    </tr>\n",
       "    <tr>\n",
       "      <th>city_group</th>\n",
       "      <th>report_status</th>\n",
       "      <th></th>\n",
       "    </tr>\n",
       "  </thead>\n",
       "  <tbody>\n",
       "    <tr>\n",
       "      <th rowspan=\"9\" valign=\"top\">Metro</th>\n",
       "      <th>Data Enrichment</th>\n",
       "      <td>7</td>\n",
       "    </tr>\n",
       "    <tr>\n",
       "      <th>In-Queue</th>\n",
       "      <td>2</td>\n",
       "    </tr>\n",
       "    <tr>\n",
       "      <th>Partially Verified</th>\n",
       "      <td>10</td>\n",
       "    </tr>\n",
       "    <tr>\n",
       "      <th>Pending for Approval</th>\n",
       "      <td>38</td>\n",
       "    </tr>\n",
       "    <tr>\n",
       "      <th>Pending for Audit</th>\n",
       "      <td>18</td>\n",
       "    </tr>\n",
       "    <tr>\n",
       "      <th>Rejected</th>\n",
       "      <td>19</td>\n",
       "    </tr>\n",
       "    <tr>\n",
       "      <th>Return to update</th>\n",
       "      <td>40</td>\n",
       "    </tr>\n",
       "    <tr>\n",
       "      <th>Saved</th>\n",
       "      <td>14</td>\n",
       "    </tr>\n",
       "    <tr>\n",
       "      <th>Verified by Finance</th>\n",
       "      <td>626</td>\n",
       "    </tr>\n",
       "    <tr>\n",
       "      <th rowspan=\"8\" valign=\"top\">Non-Metro</th>\n",
       "      <th>Data Enrichment</th>\n",
       "      <td>1</td>\n",
       "    </tr>\n",
       "    <tr>\n",
       "      <th>Partially Verified</th>\n",
       "      <td>12</td>\n",
       "    </tr>\n",
       "    <tr>\n",
       "      <th>Pending for Approval</th>\n",
       "      <td>27</td>\n",
       "    </tr>\n",
       "    <tr>\n",
       "      <th>Pending for Audit</th>\n",
       "      <td>16</td>\n",
       "    </tr>\n",
       "    <tr>\n",
       "      <th>Rejected</th>\n",
       "      <td>9</td>\n",
       "    </tr>\n",
       "    <tr>\n",
       "      <th>Return to update</th>\n",
       "      <td>25</td>\n",
       "    </tr>\n",
       "    <tr>\n",
       "      <th>Saved</th>\n",
       "      <td>9</td>\n",
       "    </tr>\n",
       "    <tr>\n",
       "      <th>Verified by Finance</th>\n",
       "      <td>313</td>\n",
       "    </tr>\n",
       "  </tbody>\n",
       "</table>\n",
       "</div>"
      ],
      "text/plain": [
       "                                 user_id\n",
       "city_group report_status                \n",
       "Metro      Data Enrichment             7\n",
       "           In-Queue                    2\n",
       "           Partially Verified         10\n",
       "           Pending for Approval       38\n",
       "           Pending for Audit          18\n",
       "           Rejected                   19\n",
       "           Return to update           40\n",
       "           Saved                      14\n",
       "           Verified by Finance       626\n",
       "Non-Metro  Data Enrichment             1\n",
       "           Partially Verified         12\n",
       "           Pending for Approval       27\n",
       "           Pending for Audit          16\n",
       "           Rejected                    9\n",
       "           Return to update           25\n",
       "           Saved                       9\n",
       "           Verified by Finance       313"
      ]
     },
     "execution_count": 41,
     "metadata": {},
     "output_type": "execute_result"
    }
   ],
   "source": [
    "data_pol_hotel.pivot_table(['user_id'],\n",
    "               ['city_group','report_status'], aggfunc={'user_id':len})"
   ]
  },
  {
   "cell_type": "code",
   "execution_count": 42,
   "metadata": {},
   "outputs": [
    {
     "data": {
      "text/plain": [
       "<matplotlib.axes._subplots.AxesSubplot at 0x20ef9f4c7f0>"
      ]
     },
     "execution_count": 42,
     "metadata": {},
     "output_type": "execute_result"
    },
    {
     "data": {
      "image/png": "[encoded data removed]",
      "text/plain": [
       "<Figure size 936x432 with 1 Axes>"
      ]
     },
     "metadata": {
      "needs_background": "light"
     },
     "output_type": "display_data"
    }
   ],
   "source": [
    "sns.countplot('city_group',hue='report_status',data=data_pol_hotel)"
   ]
  },
  {
   "cell_type": "code",
   "execution_count": 43,
   "metadata": {},
   "outputs": [
    {
     "data": {
      "text/html": [
       "<div>\n",
       "<style scoped>\n",
       "    .dataframe tbody tr th:only-of-type {\n",
       "        vertical-align: middle;\n",
       "    }\n",
       "\n",
       "    .dataframe tbody tr th {\n",
       "        vertical-align: top;\n",
       "    }\n",
       "\n",
       "    .dataframe thead th {\n",
       "        text-align: right;\n",
       "    }\n",
       "</style>\n",
       "<table border=\"1\" class=\"dataframe\">\n",
       "  <thead>\n",
       "    <tr style=\"text-align: right;\">\n",
       "      <th></th>\n",
       "      <th></th>\n",
       "      <th></th>\n",
       "      <th></th>\n",
       "      <th></th>\n",
       "      <th></th>\n",
       "      <th>report_status</th>\n",
       "      <th>user_id</th>\n",
       "    </tr>\n",
       "    <tr>\n",
       "      <th>policy_id_1</th>\n",
       "      <th>policy_id_2</th>\n",
       "      <th>policy_id_3</th>\n",
       "      <th>policy_id_4</th>\n",
       "      <th>expense_category</th>\n",
       "      <th>city_group</th>\n",
       "      <th></th>\n",
       "      <th></th>\n",
       "    </tr>\n",
       "  </thead>\n",
       "  <tbody>\n",
       "    <tr>\n",
       "      <th rowspan=\"2\" valign=\"top\">13563.0</th>\n",
       "      <th rowspan=\"2\" valign=\"top\">nan</th>\n",
       "      <th rowspan=\"2\" valign=\"top\">nan</th>\n",
       "      <th rowspan=\"2\" valign=\"top\">nan</th>\n",
       "      <th rowspan=\"2\" valign=\"top\">Hotel Booking Expense</th>\n",
       "      <th>Metro</th>\n",
       "      <td>[Verified by Finance]</td>\n",
       "      <td>1</td>\n",
       "    </tr>\n",
       "    <tr>\n",
       "      <th>Non-Metro</th>\n",
       "      <td>[Verified by Finance]</td>\n",
       "      <td>1</td>\n",
       "    </tr>\n",
       "    <tr>\n",
       "      <th rowspan=\"2\" valign=\"top\">15862.0</th>\n",
       "      <th rowspan=\"2\" valign=\"top\">nan</th>\n",
       "      <th rowspan=\"2\" valign=\"top\">nan</th>\n",
       "      <th rowspan=\"2\" valign=\"top\">nan</th>\n",
       "      <th rowspan=\"2\" valign=\"top\">Hotel Booking Expense</th>\n",
       "      <th>Metro</th>\n",
       "      <td>[Verified by Finance, Return to update, Reject...</td>\n",
       "      <td>68</td>\n",
       "    </tr>\n",
       "    <tr>\n",
       "      <th>Non-Metro</th>\n",
       "      <td>[Verified by Finance]</td>\n",
       "      <td>5</td>\n",
       "    </tr>\n",
       "    <tr>\n",
       "      <th>15863.0</th>\n",
       "      <th>nan</th>\n",
       "      <th>nan</th>\n",
       "      <th>nan</th>\n",
       "      <th>Hotel Booking Expense</th>\n",
       "      <th>Metro</th>\n",
       "      <td>[Verified by Finance, Pending for Approval, Re...</td>\n",
       "      <td>39</td>\n",
       "    </tr>\n",
       "    <tr>\n",
       "      <th rowspan=\"2\" valign=\"top\">15864.0</th>\n",
       "      <th rowspan=\"2\" valign=\"top\">nan</th>\n",
       "      <th rowspan=\"2\" valign=\"top\">nan</th>\n",
       "      <th rowspan=\"2\" valign=\"top\">nan</th>\n",
       "      <th rowspan=\"2\" valign=\"top\">Hotel Booking Expense</th>\n",
       "      <th>Metro</th>\n",
       "      <td>[Verified by Finance]</td>\n",
       "      <td>2</td>\n",
       "    </tr>\n",
       "    <tr>\n",
       "      <th>Non-Metro</th>\n",
       "      <td>[Verified by Finance]</td>\n",
       "      <td>19</td>\n",
       "    </tr>\n",
       "    <tr>\n",
       "      <th rowspan=\"2\" valign=\"top\">15865.0</th>\n",
       "      <th>16882.0</th>\n",
       "      <th>nan</th>\n",
       "      <th>nan</th>\n",
       "      <th>Hotel Booking Expense</th>\n",
       "      <th>Metro</th>\n",
       "      <td>[Saved]</td>\n",
       "      <td>1</td>\n",
       "    </tr>\n",
       "    <tr>\n",
       "      <th>nan</th>\n",
       "      <th>nan</th>\n",
       "      <th>nan</th>\n",
       "      <th>Hotel Booking Expense</th>\n",
       "      <th>Metro</th>\n",
       "      <td>[Verified by Finance, Partially Verified, Pend...</td>\n",
       "      <td>146</td>\n",
       "    </tr>\n",
       "    <tr>\n",
       "      <th>15867.0</th>\n",
       "      <th>nan</th>\n",
       "      <th>nan</th>\n",
       "      <th>nan</th>\n",
       "      <th>Hotel Booking Expense</th>\n",
       "      <th>Metro</th>\n",
       "      <td>[Partially Verified, Verified by Finance]</td>\n",
       "      <td>2</td>\n",
       "    </tr>\n",
       "  </tbody>\n",
       "</table>\n",
       "</div>"
      ],
      "text/plain": [
       "                                                                                                                      report_status  \\\n",
       "policy_id_1 policy_id_2 policy_id_3 policy_id_4 expense_category      city_group                                                      \n",
       "13563.0     nan         nan         nan         Hotel Booking Expense Metro                                   [Verified by Finance]   \n",
       "                                                                      Non-Metro                               [Verified by Finance]   \n",
       "15862.0     nan         nan         nan         Hotel Booking Expense Metro       [Verified by Finance, Return to update, Reject...   \n",
       "                                                                      Non-Metro                               [Verified by Finance]   \n",
       "15863.0     nan         nan         nan         Hotel Booking Expense Metro       [Verified by Finance, Pending for Approval, Re...   \n",
       "15864.0     nan         nan         nan         Hotel Booking Expense Metro                                   [Verified by Finance]   \n",
       "                                                                      Non-Metro                               [Verified by Finance]   \n",
       "15865.0     16882.0     nan         nan         Hotel Booking Expense Metro                                                 [Saved]   \n",
       "            nan         nan         nan         Hotel Booking Expense Metro       [Verified by Finance, Partially Verified, Pend...   \n",
       "15867.0     nan         nan         nan         Hotel Booking Expense Metro               [Partially Verified, Verified by Finance]   \n",
       "\n",
       "                                                                                  user_id  \n",
       "policy_id_1 policy_id_2 policy_id_3 policy_id_4 expense_category      city_group           \n",
       "13563.0     nan         nan         nan         Hotel Booking Expense Metro             1  \n",
       "                                                                      Non-Metro         1  \n",
       "15862.0     nan         nan         nan         Hotel Booking Expense Metro            68  \n",
       "                                                                      Non-Metro         5  \n",
       "15863.0     nan         nan         nan         Hotel Booking Expense Metro            39  \n",
       "15864.0     nan         nan         nan         Hotel Booking Expense Metro             2  \n",
       "                                                                      Non-Metro        19  \n",
       "15865.0     16882.0     nan         nan         Hotel Booking Expense Metro             1  \n",
       "            nan         nan         nan         Hotel Booking Expense Metro           146  \n",
       "15867.0     nan         nan         nan         Hotel Booking Expense Metro             2  "
      ]
     },
     "execution_count": 43,
     "metadata": {},
     "output_type": "execute_result"
    }
   ],
   "source": [
    "data_pol.pivot_table(['report_status','user_id'],\n",
    "               ['policy_id_1','policy_id_2','policy_id_3','policy_id_4','expense_category','city_group'], aggfunc={'report_status':'unique','user_id':len}).head(10)"
   ]
  },
  {
   "cell_type": "markdown",
   "metadata": {},
   "source": [
    "# Creating new variables"
   ]
  },
  {
   "cell_type": "code",
   "execution_count": 44,
   "metadata": {},
   "outputs": [
    {
     "name": "stdout",
     "output_type": "stream",
     "text": [
      "Airfare Expense          9194\n",
      "Hotel Booking Expense    9022\n",
      "Name: expense_category, dtype: int64\n",
      "Hotel Booking Expense    1186\n",
      "Airfare Expense           344\n",
      "Name: expense_category, dtype: int64\n"
     ]
    }
   ],
   "source": [
    "print(data2['expense_category'].value_counts())\n",
    "print(data_pol['expense_category'].value_counts())"
   ]
  },
  {
   "cell_type": "code",
   "execution_count": 45,
   "metadata": {},
   "outputs": [],
   "source": [
    "freq_dict = {\n",
    "    'Airfare Expense': 344/9195,\n",
    "    'Hotel Booking Expense': 1186/9022\n",
    "}\n",
    "data2['category_pol_freq'] = data2['expense_category'].map(freq_dict)"
   ]
  },
  {
   "cell_type": "code",
   "execution_count": 46,
   "metadata": {},
   "outputs": [
    {
     "data": {
      "text/html": [
       "<div>\n",
       "<style scoped>\n",
       "    .dataframe tbody tr th:only-of-type {\n",
       "        vertical-align: middle;\n",
       "    }\n",
       "\n",
       "    .dataframe tbody tr th {\n",
       "        vertical-align: top;\n",
       "    }\n",
       "\n",
       "    .dataframe thead th {\n",
       "        text-align: right;\n",
       "    }\n",
       "</style>\n",
       "<table border=\"1\" class=\"dataframe\">\n",
       "  <thead>\n",
       "    <tr style=\"text-align: right;\">\n",
       "      <th></th>\n",
       "      <th></th>\n",
       "      <th>cat_user_mean_amount</th>\n",
       "    </tr>\n",
       "    <tr>\n",
       "      <th>user_id</th>\n",
       "      <th>expense_category</th>\n",
       "      <th></th>\n",
       "    </tr>\n",
       "  </thead>\n",
       "  <tbody>\n",
       "    <tr>\n",
       "      <th rowspan=\"2\" valign=\"top\">HP201882492014573715291HP</th>\n",
       "      <th>Airfare Expense</th>\n",
       "      <td>337.680000</td>\n",
       "    </tr>\n",
       "    <tr>\n",
       "      <th>Hotel Booking Expense</th>\n",
       "      <td>6416.500000</td>\n",
       "    </tr>\n",
       "    <tr>\n",
       "      <th rowspan=\"2\" valign=\"top\">HP2019211101935742786143HP</th>\n",
       "      <th>Airfare Expense</th>\n",
       "      <td>15829.485714</td>\n",
       "    </tr>\n",
       "    <tr>\n",
       "      <th>Hotel Booking Expense</th>\n",
       "      <td>22067.356667</td>\n",
       "    </tr>\n",
       "    <tr>\n",
       "      <th rowspan=\"2\" valign=\"top\">HP20192111019367426022378HP</th>\n",
       "      <th>Airfare Expense</th>\n",
       "      <td>28919.647059</td>\n",
       "    </tr>\n",
       "    <tr>\n",
       "      <th>Hotel Booking Expense</th>\n",
       "      <td>16525.746667</td>\n",
       "    </tr>\n",
       "  </tbody>\n",
       "</table>\n",
       "</div>"
      ],
      "text/plain": [
       "                                                   cat_user_mean_amount\n",
       "user_id                     expense_category                           \n",
       "HP201882492014573715291HP   Airfare Expense                  337.680000\n",
       "                            Hotel Booking Expense           6416.500000\n",
       "HP2019211101935742786143HP  Airfare Expense                15829.485714\n",
       "                            Hotel Booking Expense          22067.356667\n",
       "HP20192111019367426022378HP Airfare Expense                28919.647059\n",
       "                            Hotel Booking Expense          16525.746667"
      ]
     },
     "execution_count": 46,
     "metadata": {},
     "output_type": "execute_result"
    }
   ],
   "source": [
    "piv=data2[['user_id','expense_category','amount']].groupby(['user_id','expense_category']).mean()\n",
    "piv.columns=['cat_user_mean_amount']\n",
    "piv.head(6)"
   ]
  },
  {
   "cell_type": "code",
   "execution_count": 47,
   "metadata": {},
   "outputs": [],
   "source": [
    "data2=pd.merge(data2, piv, on=['user_id','expense_category'])"
   ]
  },
  {
   "cell_type": "code",
   "execution_count": 48,
   "metadata": {},
   "outputs": [],
   "source": [
    "data2['Cat_user_Deviation']=data2['amount']-data2['cat_user_mean_amount']\n",
    "#data2['Cat_user_Deviation'][data2['Cat_user_Deviation'] < 0] = 0"
   ]
  },
  {
   "cell_type": "code",
   "execution_count": 49,
   "metadata": {
    "scrolled": true
   },
   "outputs": [
    {
     "data": {
      "text/html": [
       "<div>\n",
       "<style scoped>\n",
       "    .dataframe tbody tr th:only-of-type {\n",
       "        vertical-align: middle;\n",
       "    }\n",
       "\n",
       "    .dataframe tbody tr th {\n",
       "        vertical-align: top;\n",
       "    }\n",
       "\n",
       "    .dataframe thead th {\n",
       "        text-align: right;\n",
       "    }\n",
       "</style>\n",
       "<table border=\"1\" class=\"dataframe\">\n",
       "  <thead>\n",
       "    <tr style=\"text-align: right;\">\n",
       "      <th></th>\n",
       "      <th>user_id</th>\n",
       "      <th>expense_category</th>\n",
       "      <th>amount</th>\n",
       "      <th>designation</th>\n",
       "      <th>travel_class</th>\n",
       "      <th>txn_type</th>\n",
       "      <th>report_status</th>\n",
       "      <th>txn_date</th>\n",
       "      <th>last_date_of_submission</th>\n",
       "      <th>report_submission_date</th>\n",
       "      <th>policy_id_1</th>\n",
       "      <th>policy_id_2</th>\n",
       "      <th>policy_id_3</th>\n",
       "      <th>policy_id_4</th>\n",
       "      <th>city</th>\n",
       "      <th>city_group</th>\n",
       "      <th>country</th>\n",
       "      <th>category_pol_freq</th>\n",
       "      <th>cat_user_mean_amount</th>\n",
       "      <th>Cat_user_Deviation</th>\n",
       "    </tr>\n",
       "  </thead>\n",
       "  <tbody>\n",
       "    <tr>\n",
       "      <th>0</th>\n",
       "      <td>HP2019211104039332593324HP</td>\n",
       "      <td>Airfare Expense</td>\n",
       "      <td>21719.0</td>\n",
       "      <td>Partner</td>\n",
       "      <td>Economy</td>\n",
       "      <td>HDFC Expense Dr</td>\n",
       "      <td>Data Enrichment</td>\n",
       "      <td>2019-05-16</td>\n",
       "      <td>2019-08-14</td>\n",
       "      <td>2019-05-21</td>\n",
       "      <td>nan</td>\n",
       "      <td>nan</td>\n",
       "      <td>nan</td>\n",
       "      <td>nan</td>\n",
       "      <td>Gurgaon</td>\n",
       "      <td>Metro</td>\n",
       "      <td>India</td>\n",
       "      <td>0.037412</td>\n",
       "      <td>8698.8</td>\n",
       "      <td>13020.2</td>\n",
       "    </tr>\n",
       "    <tr>\n",
       "      <th>1</th>\n",
       "      <td>HP2019211104039332593324HP</td>\n",
       "      <td>Airfare Expense</td>\n",
       "      <td>6467.0</td>\n",
       "      <td>Partner</td>\n",
       "      <td>Economy</td>\n",
       "      <td>HDFC Expense Dr</td>\n",
       "      <td>Verified by Finance</td>\n",
       "      <td>2019-11-02</td>\n",
       "      <td>2020-01-31</td>\n",
       "      <td>2019-02-25</td>\n",
       "      <td>nan</td>\n",
       "      <td>nan</td>\n",
       "      <td>nan</td>\n",
       "      <td>nan</td>\n",
       "      <td>Gurgaon</td>\n",
       "      <td>Metro</td>\n",
       "      <td>India</td>\n",
       "      <td>0.037412</td>\n",
       "      <td>8698.8</td>\n",
       "      <td>-2231.8</td>\n",
       "    </tr>\n",
       "    <tr>\n",
       "      <th>2</th>\n",
       "      <td>HP2019211104039332593324HP</td>\n",
       "      <td>Airfare Expense</td>\n",
       "      <td>4170.0</td>\n",
       "      <td>Partner</td>\n",
       "      <td>Economy</td>\n",
       "      <td>HDFC Expense Dr</td>\n",
       "      <td>Verified by Finance</td>\n",
       "      <td>2019-02-13</td>\n",
       "      <td>2019-05-14</td>\n",
       "      <td>2019-02-25</td>\n",
       "      <td>nan</td>\n",
       "      <td>nan</td>\n",
       "      <td>nan</td>\n",
       "      <td>nan</td>\n",
       "      <td>Gurgaon</td>\n",
       "      <td>Metro</td>\n",
       "      <td>India</td>\n",
       "      <td>0.037412</td>\n",
       "      <td>8698.8</td>\n",
       "      <td>-4528.8</td>\n",
       "    </tr>\n",
       "    <tr>\n",
       "      <th>3</th>\n",
       "      <td>HP2019211104039332593324HP</td>\n",
       "      <td>Airfare Expense</td>\n",
       "      <td>6968.0</td>\n",
       "      <td>Partner</td>\n",
       "      <td>Economy</td>\n",
       "      <td>HDFC Expense Dr</td>\n",
       "      <td>Verified by Finance</td>\n",
       "      <td>2019-02-13</td>\n",
       "      <td>2019-05-14</td>\n",
       "      <td>2019-02-25</td>\n",
       "      <td>nan</td>\n",
       "      <td>nan</td>\n",
       "      <td>nan</td>\n",
       "      <td>nan</td>\n",
       "      <td>Gurgaon</td>\n",
       "      <td>Metro</td>\n",
       "      <td>India</td>\n",
       "      <td>0.037412</td>\n",
       "      <td>8698.8</td>\n",
       "      <td>-1730.8</td>\n",
       "    </tr>\n",
       "    <tr>\n",
       "      <th>4</th>\n",
       "      <td>HP2019211104039332593324HP</td>\n",
       "      <td>Airfare Expense</td>\n",
       "      <td>4170.0</td>\n",
       "      <td>Partner</td>\n",
       "      <td>Economy</td>\n",
       "      <td>HDFC Expense Dr</td>\n",
       "      <td>Verified by Finance</td>\n",
       "      <td>2019-11-02</td>\n",
       "      <td>2020-01-31</td>\n",
       "      <td>2019-02-25</td>\n",
       "      <td>nan</td>\n",
       "      <td>nan</td>\n",
       "      <td>nan</td>\n",
       "      <td>nan</td>\n",
       "      <td>Gurgaon</td>\n",
       "      <td>Metro</td>\n",
       "      <td>India</td>\n",
       "      <td>0.037412</td>\n",
       "      <td>8698.8</td>\n",
       "      <td>-4528.8</td>\n",
       "    </tr>\n",
       "  </tbody>\n",
       "</table>\n",
       "</div>"
      ],
      "text/plain": [
       "                      user_id expense_category   amount designation  \\\n",
       "0  HP2019211104039332593324HP  Airfare Expense  21719.0     Partner   \n",
       "1  HP2019211104039332593324HP  Airfare Expense   6467.0     Partner   \n",
       "2  HP2019211104039332593324HP  Airfare Expense   4170.0     Partner   \n",
       "3  HP2019211104039332593324HP  Airfare Expense   6968.0     Partner   \n",
       "4  HP2019211104039332593324HP  Airfare Expense   4170.0     Partner   \n",
       "\n",
       "  travel_class         txn_type        report_status   txn_date  \\\n",
       "0      Economy  HDFC Expense Dr      Data Enrichment 2019-05-16   \n",
       "1      Economy  HDFC Expense Dr  Verified by Finance 2019-11-02   \n",
       "2      Economy  HDFC Expense Dr  Verified by Finance 2019-02-13   \n",
       "3      Economy  HDFC Expense Dr  Verified by Finance 2019-02-13   \n",
       "4      Economy  HDFC Expense Dr  Verified by Finance 2019-11-02   \n",
       "\n",
       "  last_date_of_submission report_submission_date policy_id_1 policy_id_2  \\\n",
       "0              2019-08-14             2019-05-21         nan         nan   \n",
       "1              2020-01-31             2019-02-25         nan         nan   \n",
       "2              2019-05-14             2019-02-25         nan         nan   \n",
       "3              2019-05-14             2019-02-25         nan         nan   \n",
       "4              2020-01-31             2019-02-25         nan         nan   \n",
       "\n",
       "  policy_id_3 policy_id_4     city city_group country  category_pol_freq  \\\n",
       "0         nan         nan  Gurgaon      Metro   India           0.037412   \n",
       "1         nan         nan  Gurgaon      Metro   India           0.037412   \n",
       "2         nan         nan  Gurgaon      Metro   India           0.037412   \n",
       "3         nan         nan  Gurgaon      Metro   India           0.037412   \n",
       "4         nan         nan  Gurgaon      Metro   India           0.037412   \n",
       "\n",
       "   cat_user_mean_amount  Cat_user_Deviation  \n",
       "0                8698.8             13020.2  \n",
       "1                8698.8             -2231.8  \n",
       "2                8698.8             -4528.8  \n",
       "3                8698.8             -1730.8  \n",
       "4                8698.8             -4528.8  "
      ]
     },
     "execution_count": 49,
     "metadata": {},
     "output_type": "execute_result"
    }
   ],
   "source": [
    "data2.head()"
   ]
  },
  {
   "cell_type": "markdown",
   "metadata": {},
   "source": [
    "# Policy"
   ]
  },
  {
   "cell_type": "code",
   "execution_count": 50,
   "metadata": {},
   "outputs": [
    {
     "data": {
      "text/html": [
       "<div>\n",
       "<style scoped>\n",
       "    .dataframe tbody tr th:only-of-type {\n",
       "        vertical-align: middle;\n",
       "    }\n",
       "\n",
       "    .dataframe tbody tr th {\n",
       "        vertical-align: top;\n",
       "    }\n",
       "\n",
       "    .dataframe thead th {\n",
       "        text-align: right;\n",
       "    }\n",
       "</style>\n",
       "<table border=\"1\" class=\"dataframe\">\n",
       "  <thead>\n",
       "    <tr style=\"text-align: right;\">\n",
       "      <th></th>\n",
       "      <th></th>\n",
       "      <th></th>\n",
       "      <th></th>\n",
       "      <th></th>\n",
       "      <th>veri_count</th>\n",
       "    </tr>\n",
       "    <tr>\n",
       "      <th>policy_id_1</th>\n",
       "      <th>policy_id_2</th>\n",
       "      <th>policy_id_3</th>\n",
       "      <th>policy_id_4</th>\n",
       "      <th>report_status</th>\n",
       "      <th></th>\n",
       "    </tr>\n",
       "  </thead>\n",
       "  <tbody>\n",
       "    <tr>\n",
       "      <th>13563.0</th>\n",
       "      <th>nan</th>\n",
       "      <th>nan</th>\n",
       "      <th>nan</th>\n",
       "      <th>Verified by Finance</th>\n",
       "      <td>2</td>\n",
       "    </tr>\n",
       "    <tr>\n",
       "      <th>15862.0</th>\n",
       "      <th>nan</th>\n",
       "      <th>nan</th>\n",
       "      <th>nan</th>\n",
       "      <th>Verified by Finance</th>\n",
       "      <td>67</td>\n",
       "    </tr>\n",
       "    <tr>\n",
       "      <th>15863.0</th>\n",
       "      <th>nan</th>\n",
       "      <th>nan</th>\n",
       "      <th>nan</th>\n",
       "      <th>Verified by Finance</th>\n",
       "      <td>36</td>\n",
       "    </tr>\n",
       "    <tr>\n",
       "      <th>15864.0</th>\n",
       "      <th>nan</th>\n",
       "      <th>nan</th>\n",
       "      <th>nan</th>\n",
       "      <th>Verified by Finance</th>\n",
       "      <td>21</td>\n",
       "    </tr>\n",
       "    <tr>\n",
       "      <th>15865.0</th>\n",
       "      <th>nan</th>\n",
       "      <th>nan</th>\n",
       "      <th>nan</th>\n",
       "      <th>Verified by Finance</th>\n",
       "      <td>126</td>\n",
       "    </tr>\n",
       "  </tbody>\n",
       "</table>\n",
       "</div>"
      ],
      "text/plain": [
       "                                                                     veri_count\n",
       "policy_id_1 policy_id_2 policy_id_3 policy_id_4 report_status                  \n",
       "13563.0     nan         nan         nan         Verified by Finance           2\n",
       "15862.0     nan         nan         nan         Verified by Finance          67\n",
       "15863.0     nan         nan         nan         Verified by Finance          36\n",
       "15864.0     nan         nan         nan         Verified by Finance          21\n",
       "15865.0     nan         nan         nan         Verified by Finance         126"
      ]
     },
     "execution_count": 50,
     "metadata": {},
     "output_type": "execute_result"
    }
   ],
   "source": [
    "piv1=data2[data2['report_status']=='Verified by Finance'].pivot_table(['user_id'],\n",
    "               ['policy_id_1','policy_id_2','policy_id_3','policy_id_4','report_status'], aggfunc={'user_id':len})\n",
    "piv1.columns=['veri_count']\n",
    "piv1.head()"
   ]
  },
  {
   "cell_type": "code",
   "execution_count": 51,
   "metadata": {},
   "outputs": [
    {
     "data": {
      "text/html": [
       "<div>\n",
       "<style scoped>\n",
       "    .dataframe tbody tr th:only-of-type {\n",
       "        vertical-align: middle;\n",
       "    }\n",
       "\n",
       "    .dataframe tbody tr th {\n",
       "        vertical-align: top;\n",
       "    }\n",
       "\n",
       "    .dataframe thead th {\n",
       "        text-align: right;\n",
       "    }\n",
       "</style>\n",
       "<table border=\"1\" class=\"dataframe\">\n",
       "  <thead>\n",
       "    <tr style=\"text-align: right;\">\n",
       "      <th></th>\n",
       "      <th></th>\n",
       "      <th></th>\n",
       "      <th></th>\n",
       "      <th>users_count</th>\n",
       "    </tr>\n",
       "    <tr>\n",
       "      <th>policy_id_1</th>\n",
       "      <th>policy_id_2</th>\n",
       "      <th>policy_id_3</th>\n",
       "      <th>policy_id_4</th>\n",
       "      <th></th>\n",
       "    </tr>\n",
       "  </thead>\n",
       "  <tbody>\n",
       "    <tr>\n",
       "      <th>13563.0</th>\n",
       "      <th>nan</th>\n",
       "      <th>nan</th>\n",
       "      <th>nan</th>\n",
       "      <td>2</td>\n",
       "    </tr>\n",
       "    <tr>\n",
       "      <th>15862.0</th>\n",
       "      <th>nan</th>\n",
       "      <th>nan</th>\n",
       "      <th>nan</th>\n",
       "      <td>73</td>\n",
       "    </tr>\n",
       "    <tr>\n",
       "      <th>15863.0</th>\n",
       "      <th>nan</th>\n",
       "      <th>nan</th>\n",
       "      <th>nan</th>\n",
       "      <td>39</td>\n",
       "    </tr>\n",
       "    <tr>\n",
       "      <th>15864.0</th>\n",
       "      <th>nan</th>\n",
       "      <th>nan</th>\n",
       "      <th>nan</th>\n",
       "      <td>21</td>\n",
       "    </tr>\n",
       "    <tr>\n",
       "      <th>15865.0</th>\n",
       "      <th>16882.0</th>\n",
       "      <th>nan</th>\n",
       "      <th>nan</th>\n",
       "      <td>1</td>\n",
       "    </tr>\n",
       "  </tbody>\n",
       "</table>\n",
       "</div>"
      ],
      "text/plain": [
       "                                                 users_count\n",
       "policy_id_1 policy_id_2 policy_id_3 policy_id_4             \n",
       "13563.0     nan         nan         nan                    2\n",
       "15862.0     nan         nan         nan                   73\n",
       "15863.0     nan         nan         nan                   39\n",
       "15864.0     nan         nan         nan                   21\n",
       "15865.0     16882.0     nan         nan                    1"
      ]
     },
     "execution_count": 51,
     "metadata": {},
     "output_type": "execute_result"
    }
   ],
   "source": [
    "piv2=data2.pivot_table(['user_id'],\n",
    "               ['policy_id_1','policy_id_2','policy_id_3','policy_id_4'], aggfunc={'user_id':len})\n",
    "piv2.columns=['users_count']\n",
    "piv2.head()"
   ]
  },
  {
   "cell_type": "code",
   "execution_count": 52,
   "metadata": {},
   "outputs": [],
   "source": [
    "data3=data2.copy()"
   ]
  },
  {
   "cell_type": "code",
   "execution_count": 53,
   "metadata": {},
   "outputs": [],
   "source": [
    "data3=pd.merge(data3, piv1,'left', on=['policy_id_1','policy_id_2','policy_id_3','policy_id_4'])\n",
    "data3=pd.merge(data3, piv2,'left', on=['policy_id_1','policy_id_2','policy_id_3','policy_id_4'])"
   ]
  },
  {
   "cell_type": "code",
   "execution_count": 54,
   "metadata": {},
   "outputs": [],
   "source": [
    "data3['veri_count'].fillna(0,inplace=True)"
   ]
  },
  {
   "cell_type": "code",
   "execution_count": 55,
   "metadata": {},
   "outputs": [
    {
     "name": "stdout",
     "output_type": "stream",
     "text": [
      "0.6882352941176471\n",
      "0.844360541771545\n"
     ]
    }
   ],
   "source": [
    "print ((data_pol[data_pol['report_status']=='Verified by Finance']['report_status'].shape[0])/(data_pol['report_status'].shape[0]))\n",
    "print ((data2[data2['policy_id_1']=='nan'][data['report_status']=='Verified by Finance']['report_status'].shape[0])/(data2[data2['policy_id_1']=='nan']['report_status'].shape[0]))"
   ]
  },
  {
   "cell_type": "code",
   "execution_count": 56,
   "metadata": {},
   "outputs": [],
   "source": [
    "data3['freq_veri_poli']=data3['veri_count']/data3['users_count']\n",
    "data3.drop(['veri_count','users_count'],axis=1,inplace=True)"
   ]
  },
  {
   "cell_type": "code",
   "execution_count": 57,
   "metadata": {},
   "outputs": [
    {
     "data": {
      "text/plain": [
       "array([0.84483999, 0.72380952, 0.36842105, 0.91780822, 0.79139785,\n",
       "       0.39914163, 0.        , 0.8630137 , 0.74285714, 0.89189189,\n",
       "       1.        , 0.85714286, 0.92307692])"
      ]
     },
     "execution_count": 57,
     "metadata": {},
     "output_type": "execute_result"
    }
   ],
   "source": [
    "data3.freq_veri_poli.unique()"
   ]
  },
  {
   "cell_type": "code",
   "execution_count": 58,
   "metadata": {},
   "outputs": [],
   "source": [
    "data2['freq_veri_poli']=data3['freq_veri_poli']"
   ]
  },
  {
   "cell_type": "markdown",
   "metadata": {},
   "source": [
    "# User freq of policy voilation"
   ]
  },
  {
   "cell_type": "code",
   "execution_count": 59,
   "metadata": {},
   "outputs": [],
   "source": [
    "t1=data2[data2['policy_id_1']!='nan']['user_id'].value_counts().to_frame()\n",
    "t1.columns=['policy_voilations']\n",
    "\n",
    "t2=data2[data2['policy_id_2']!='nan']['user_id'].value_counts().to_frame()\n",
    "t2.columns=['policy_voilations']\n",
    "\n",
    "t3=data2[data2['policy_id_3']!='nan']['user_id'].value_counts().to_frame()\n",
    "t3.columns=['policy_voilations']\n",
    "\n",
    "t4=data2[data2['policy_id_4']!='nan']['user_id'].value_counts().to_frame()\n",
    "t4.columns=['policy_voilations']"
   ]
  },
  {
   "cell_type": "code",
   "execution_count": 60,
   "metadata": {},
   "outputs": [
    {
     "name": "stdout",
     "output_type": "stream",
     "text": [
      "                             policy_voilations\n",
      "user_id                                       \n",
      "HP20192111339325262603159HP               43.0\n",
      "HP20192111232233002644428HP               35.0\n",
      "HP20192111057189483552403HP               28.0\n",
      "HP201921112254174175289HP                 23.0\n",
      "HP2019211111888410094398HP                23.0\n",
      "1656.0\n",
      "664\n"
     ]
    }
   ],
   "source": [
    "t=t1+t2.reindex_like(t1).fillna(0)+t3.reindex_like(t1).fillna(0)+t4.reindex_like(t1).fillna(0)\n",
    "t.index.names = ['user_id']\n",
    "print(t.head())\n",
    "print(t['policy_voilations'].sum())\n",
    "print(t.index.nunique())"
   ]
  },
  {
   "cell_type": "code",
   "execution_count": 61,
   "metadata": {},
   "outputs": [],
   "source": [
    "data2=pd.merge(data2, t,how='left', on=['user_id'])\n",
    "data2['policy_voilations'][data2['policy_voilations'].isnull()==True]=0"
   ]
  },
  {
   "cell_type": "code",
   "execution_count": 62,
   "metadata": {
    "scrolled": true
   },
   "outputs": [
    {
     "data": {
      "text/plain": [
       "0    0.0\n",
       "1    0.0\n",
       "2    0.0\n",
       "3    0.0\n",
       "4    0.0\n",
       "Name: freq_pol_voil, dtype: float64"
      ]
     },
     "execution_count": 62,
     "metadata": {},
     "output_type": "execute_result"
    }
   ],
   "source": [
    "data2['freq_pol_voil']=data2['policy_voilations']/t['policy_voilations'].sum()\n",
    "data2['freq_pol_voil'].head()"
   ]
  },
  {
   "cell_type": "code",
   "execution_count": 63,
   "metadata": {
    "collapsed": true
   },
   "outputs": [
    {
     "ename": "KeyError",
     "evalue": "\"['Cat_Deviation'] not in index\"",
     "output_type": "error",
     "traceback": [
      "\u001b[1;31m---------------------------------------------------------------------------\u001b[0m",
      "\u001b[1;31mKeyError\u001b[0m                                  Traceback (most recent call last)",
      "\u001b[1;32m<ipython-input-63-816656e03248>\u001b[0m in \u001b[0;36m<module>\u001b[1;34m\u001b[0m\n\u001b[0;32m      1\u001b[0m \u001b[0mscaler\u001b[0m\u001b[1;33m=\u001b[0m\u001b[0mpreprocessing\u001b[0m\u001b[1;33m.\u001b[0m\u001b[0mMinMaxScaler\u001b[0m\u001b[1;33m(\u001b[0m\u001b[0mfeature_range\u001b[0m\u001b[1;33m=\u001b[0m\u001b[1;33m(\u001b[0m\u001b[1;36m0\u001b[0m\u001b[1;33m,\u001b[0m \u001b[1;36m100\u001b[0m\u001b[1;33m)\u001b[0m\u001b[1;33m)\u001b[0m\u001b[1;33m\u001b[0m\u001b[1;33m\u001b[0m\u001b[0m\n\u001b[1;32m----> 2\u001b[1;33m \u001b[0mdev\u001b[0m\u001b[1;33m=\u001b[0m\u001b[0mdata2\u001b[0m\u001b[1;33m[\u001b[0m\u001b[1;33m[\u001b[0m\u001b[1;34m'Cat_Deviation'\u001b[0m\u001b[1;33m,\u001b[0m\u001b[1;34m'Cat_user_Deviation'\u001b[0m\u001b[1;33m,\u001b[0m\u001b[1;34m'freq_pol_voil'\u001b[0m\u001b[1;33m]\u001b[0m\u001b[1;33m]\u001b[0m\u001b[1;33m\u001b[0m\u001b[1;33m\u001b[0m\u001b[0m\n\u001b[0m\u001b[0;32m      3\u001b[0m \u001b[0mdata2\u001b[0m\u001b[1;33m[\u001b[0m\u001b[1;33m[\u001b[0m\u001b[1;34m'Cat_Deviation'\u001b[0m\u001b[1;33m,\u001b[0m\u001b[1;34m'Cat_user_Deviation'\u001b[0m\u001b[1;33m,\u001b[0m\u001b[1;34m'freq_pol_voil'\u001b[0m\u001b[1;33m]\u001b[0m\u001b[1;33m]\u001b[0m\u001b[1;33m=\u001b[0m\u001b[0mscaler\u001b[0m\u001b[1;33m.\u001b[0m\u001b[0mfit_transform\u001b[0m\u001b[1;33m(\u001b[0m\u001b[0mdev\u001b[0m\u001b[1;33m)\u001b[0m\u001b[1;33m\u001b[0m\u001b[1;33m\u001b[0m\u001b[0m\n\u001b[0;32m      4\u001b[0m \u001b[1;33m\u001b[0m\u001b[0m\n\u001b[0;32m      5\u001b[0m \u001b[0mdata2\u001b[0m\u001b[1;33m[\u001b[0m\u001b[1;34m'freq_pol_voil'\u001b[0m\u001b[1;33m]\u001b[0m\u001b[1;33m.\u001b[0m\u001b[0munique\u001b[0m\u001b[1;33m(\u001b[0m\u001b[1;33m)\u001b[0m\u001b[1;33m\u001b[0m\u001b[1;33m\u001b[0m\u001b[0m\n",
      "\u001b[1;32m~\\AppData\\Local\\Continuum\\anaconda3\\lib\\site-packages\\pandas\\core\\frame.py\u001b[0m in \u001b[0;36m__getitem__\u001b[1;34m(self, key)\u001b[0m\n\u001b[0;32m   2932\u001b[0m                 \u001b[0mkey\u001b[0m \u001b[1;33m=\u001b[0m \u001b[0mlist\u001b[0m\u001b[1;33m(\u001b[0m\u001b[0mkey\u001b[0m\u001b[1;33m)\u001b[0m\u001b[1;33m\u001b[0m\u001b[1;33m\u001b[0m\u001b[0m\n\u001b[0;32m   2933\u001b[0m             indexer = self.loc._convert_to_indexer(key, axis=1,\n\u001b[1;32m-> 2934\u001b[1;33m                                                    raise_missing=True)\n\u001b[0m\u001b[0;32m   2935\u001b[0m \u001b[1;33m\u001b[0m\u001b[0m\n\u001b[0;32m   2936\u001b[0m         \u001b[1;31m# take() does not accept boolean indexers\u001b[0m\u001b[1;33m\u001b[0m\u001b[1;33m\u001b[0m\u001b[1;33m\u001b[0m\u001b[0m\n",
      "\u001b[1;32m~\\AppData\\Local\\Continuum\\anaconda3\\lib\\site-packages\\pandas\\core\\indexing.py\u001b[0m in \u001b[0;36m_convert_to_indexer\u001b[1;34m(self, obj, axis, is_setter, raise_missing)\u001b[0m\n\u001b[0;32m   1352\u001b[0m                 kwargs = {'raise_missing': True if is_setter else\n\u001b[0;32m   1353\u001b[0m                           raise_missing}\n\u001b[1;32m-> 1354\u001b[1;33m                 \u001b[1;32mreturn\u001b[0m \u001b[0mself\u001b[0m\u001b[1;33m.\u001b[0m\u001b[0m_get_listlike_indexer\u001b[0m\u001b[1;33m(\u001b[0m\u001b[0mobj\u001b[0m\u001b[1;33m,\u001b[0m \u001b[0maxis\u001b[0m\u001b[1;33m,\u001b[0m \u001b[1;33m**\u001b[0m\u001b[0mkwargs\u001b[0m\u001b[1;33m)\u001b[0m\u001b[1;33m[\u001b[0m\u001b[1;36m1\u001b[0m\u001b[1;33m]\u001b[0m\u001b[1;33m\u001b[0m\u001b[1;33m\u001b[0m\u001b[0m\n\u001b[0m\u001b[0;32m   1355\u001b[0m         \u001b[1;32melse\u001b[0m\u001b[1;33m:\u001b[0m\u001b[1;33m\u001b[0m\u001b[1;33m\u001b[0m\u001b[0m\n\u001b[0;32m   1356\u001b[0m             \u001b[1;32mtry\u001b[0m\u001b[1;33m:\u001b[0m\u001b[1;33m\u001b[0m\u001b[1;33m\u001b[0m\u001b[0m\n",
      "\u001b[1;32m~\\AppData\\Local\\Continuum\\anaconda3\\lib\\site-packages\\pandas\\core\\indexing.py\u001b[0m in \u001b[0;36m_get_listlike_indexer\u001b[1;34m(self, key, axis, raise_missing)\u001b[0m\n\u001b[0;32m   1159\u001b[0m         self._validate_read_indexer(keyarr, indexer,\n\u001b[0;32m   1160\u001b[0m                                     \u001b[0mo\u001b[0m\u001b[1;33m.\u001b[0m\u001b[0m_get_axis_number\u001b[0m\u001b[1;33m(\u001b[0m\u001b[0maxis\u001b[0m\u001b[1;33m)\u001b[0m\u001b[1;33m,\u001b[0m\u001b[1;33m\u001b[0m\u001b[1;33m\u001b[0m\u001b[0m\n\u001b[1;32m-> 1161\u001b[1;33m                                     raise_missing=raise_missing)\n\u001b[0m\u001b[0;32m   1162\u001b[0m         \u001b[1;32mreturn\u001b[0m \u001b[0mkeyarr\u001b[0m\u001b[1;33m,\u001b[0m \u001b[0mindexer\u001b[0m\u001b[1;33m\u001b[0m\u001b[1;33m\u001b[0m\u001b[0m\n\u001b[0;32m   1163\u001b[0m \u001b[1;33m\u001b[0m\u001b[0m\n",
      "\u001b[1;32m~\\AppData\\Local\\Continuum\\anaconda3\\lib\\site-packages\\pandas\\core\\indexing.py\u001b[0m in \u001b[0;36m_validate_read_indexer\u001b[1;34m(self, key, indexer, axis, raise_missing)\u001b[0m\n\u001b[0;32m   1250\u001b[0m             \u001b[1;32mif\u001b[0m \u001b[1;32mnot\u001b[0m\u001b[1;33m(\u001b[0m\u001b[0mself\u001b[0m\u001b[1;33m.\u001b[0m\u001b[0mname\u001b[0m \u001b[1;33m==\u001b[0m \u001b[1;34m'loc'\u001b[0m \u001b[1;32mand\u001b[0m \u001b[1;32mnot\u001b[0m \u001b[0mraise_missing\u001b[0m\u001b[1;33m)\u001b[0m\u001b[1;33m:\u001b[0m\u001b[1;33m\u001b[0m\u001b[1;33m\u001b[0m\u001b[0m\n\u001b[0;32m   1251\u001b[0m                 \u001b[0mnot_found\u001b[0m \u001b[1;33m=\u001b[0m \u001b[0mlist\u001b[0m\u001b[1;33m(\u001b[0m\u001b[0mset\u001b[0m\u001b[1;33m(\u001b[0m\u001b[0mkey\u001b[0m\u001b[1;33m)\u001b[0m \u001b[1;33m-\u001b[0m \u001b[0mset\u001b[0m\u001b[1;33m(\u001b[0m\u001b[0max\u001b[0m\u001b[1;33m)\u001b[0m\u001b[1;33m)\u001b[0m\u001b[1;33m\u001b[0m\u001b[1;33m\u001b[0m\u001b[0m\n\u001b[1;32m-> 1252\u001b[1;33m                 \u001b[1;32mraise\u001b[0m \u001b[0mKeyError\u001b[0m\u001b[1;33m(\u001b[0m\u001b[1;34m\"{} not in index\"\u001b[0m\u001b[1;33m.\u001b[0m\u001b[0mformat\u001b[0m\u001b[1;33m(\u001b[0m\u001b[0mnot_found\u001b[0m\u001b[1;33m)\u001b[0m\u001b[1;33m)\u001b[0m\u001b[1;33m\u001b[0m\u001b[1;33m\u001b[0m\u001b[0m\n\u001b[0m\u001b[0;32m   1253\u001b[0m \u001b[1;33m\u001b[0m\u001b[0m\n\u001b[0;32m   1254\u001b[0m             \u001b[1;31m# we skip the warning on Categorical/Interval\u001b[0m\u001b[1;33m\u001b[0m\u001b[1;33m\u001b[0m\u001b[1;33m\u001b[0m\u001b[0m\n",
      "\u001b[1;31mKeyError\u001b[0m: \"['Cat_Deviation'] not in index\""
     ]
    }
   ],
   "source": [
    "scaler=preprocessing.MinMaxScaler(feature_range=(0, 100))\n",
    "dev=data2[['Cat_Deviation','Cat_user_Deviation','freq_pol_voil']]\n",
    "data2[['Cat_Deviation','Cat_user_Deviation','freq_pol_voil']]=scaler.fit_transform(dev)\n",
    "\n",
    "data2['freq_pol_voil'].unique()"
   ]
  },
  {
   "cell_type": "markdown",
   "metadata": {},
   "source": [
    "# txn_type"
   ]
  },
  {
   "cell_type": "code",
   "execution_count": 64,
   "metadata": {},
   "outputs": [
    {
     "data": {
      "text/plain": [
       "[Text(0, 0, 'HDFC Expense Dr'),\n",
       " Text(0, 0, 'Personal Card'),\n",
       " Text(0, 0, 'Cash'),\n",
       " Text(0, 0, 'HDFC Expense Cr'),\n",
       " Text(0, 0, 'Company Advance')]"
      ]
     },
     "execution_count": 64,
     "metadata": {},
     "output_type": "execute_result"
    },
    {
     "data": {
      "image/png": "[encoded data removed]",
      "text/plain": [
       "<Figure size 936x432 with 2 Axes>"
      ]
     },
     "metadata": {
      "needs_background": "light"
     },
     "output_type": "display_data"
    }
   ],
   "source": [
    "plt.subplot(1,2,1)\n",
    "p=sns.countplot('txn_type',hue='report_status',data=data2[data2['expense_category']=='Airfare Expense'])\n",
    "p.set_xticklabels(data2.txn_type.unique(),rotation=30)\n",
    "plt.subplot(1,2,2)\n",
    "p=sns.countplot('txn_type',hue='report_status',data=data2[data2['expense_category']!='Airfare Expense'])\n",
    "p.set_xticklabels(data2.txn_type.unique(),rotation=30)"
   ]
  },
  {
   "cell_type": "markdown",
   "metadata": {},
   "source": [
    "More chance to get rejected or saved in payment by cash and personal card"
   ]
  },
  {
   "cell_type": "code",
   "execution_count": 65,
   "metadata": {},
   "outputs": [],
   "source": [
    "piv3=data2[data2['report_status']=='Verified by Finance'].pivot_table(['user_id'],\n",
    "               ['txn_type','report_status'], aggfunc={'user_id':len})\n",
    "piv3.columns=['veri_count']\n",
    "piv4=data2.pivot_table(['user_id'],\n",
    "               ['txn_type'], aggfunc={'user_id':len})\n",
    "piv4.columns=['total_count']"
   ]
  },
  {
   "cell_type": "code",
   "execution_count": 66,
   "metadata": {},
   "outputs": [
    {
     "data": {
      "text/html": [
       "<div>\n",
       "<style scoped>\n",
       "    .dataframe tbody tr th:only-of-type {\n",
       "        vertical-align: middle;\n",
       "    }\n",
       "\n",
       "    .dataframe tbody tr th {\n",
       "        vertical-align: top;\n",
       "    }\n",
       "\n",
       "    .dataframe thead th {\n",
       "        text-align: right;\n",
       "    }\n",
       "</style>\n",
       "<table border=\"1\" class=\"dataframe\">\n",
       "  <thead>\n",
       "    <tr style=\"text-align: right;\">\n",
       "      <th></th>\n",
       "      <th></th>\n",
       "      <th>veri_count</th>\n",
       "    </tr>\n",
       "    <tr>\n",
       "      <th>txn_type</th>\n",
       "      <th>report_status</th>\n",
       "      <th></th>\n",
       "    </tr>\n",
       "  </thead>\n",
       "  <tbody>\n",
       "    <tr>\n",
       "      <th>Cash</th>\n",
       "      <th>Verified by Finance</th>\n",
       "      <td>4859</td>\n",
       "    </tr>\n",
       "    <tr>\n",
       "      <th>Company Advance</th>\n",
       "      <th>Verified by Finance</th>\n",
       "      <td>3</td>\n",
       "    </tr>\n",
       "    <tr>\n",
       "      <th>HDFC Expense Cr</th>\n",
       "      <th>Verified by Finance</th>\n",
       "      <td>886</td>\n",
       "    </tr>\n",
       "    <tr>\n",
       "      <th>HDFC Expense Dr</th>\n",
       "      <th>Verified by Finance</th>\n",
       "      <td>6882</td>\n",
       "    </tr>\n",
       "    <tr>\n",
       "      <th>Personal Card</th>\n",
       "      <th>Verified by Finance</th>\n",
       "      <td>2520</td>\n",
       "    </tr>\n",
       "  </tbody>\n",
       "</table>\n",
       "</div>"
      ],
      "text/plain": [
       "                                     veri_count\n",
       "txn_type        report_status                  \n",
       "Cash            Verified by Finance        4859\n",
       "Company Advance Verified by Finance           3\n",
       "HDFC Expense Cr Verified by Finance         886\n",
       "HDFC Expense Dr Verified by Finance        6882\n",
       "Personal Card   Verified by Finance        2520"
      ]
     },
     "execution_count": 66,
     "metadata": {},
     "output_type": "execute_result"
    }
   ],
   "source": [
    "piv3"
   ]
  },
  {
   "cell_type": "code",
   "execution_count": 67,
   "metadata": {},
   "outputs": [],
   "source": [
    "data2=pd.merge(data2, piv3,'left', on=['txn_type'])\n",
    "data2=pd.merge(data2, piv4,'left', on=['txn_type'])"
   ]
  },
  {
   "cell_type": "code",
   "execution_count": 68,
   "metadata": {},
   "outputs": [
    {
     "data": {
      "text/html": [
       "<div>\n",
       "<style scoped>\n",
       "    .dataframe tbody tr th:only-of-type {\n",
       "        vertical-align: middle;\n",
       "    }\n",
       "\n",
       "    .dataframe tbody tr th {\n",
       "        vertical-align: top;\n",
       "    }\n",
       "\n",
       "    .dataframe thead th {\n",
       "        text-align: right;\n",
       "    }\n",
       "</style>\n",
       "<table border=\"1\" class=\"dataframe\">\n",
       "  <thead>\n",
       "    <tr style=\"text-align: right;\">\n",
       "      <th></th>\n",
       "      <th>user_id</th>\n",
       "      <th>expense_category</th>\n",
       "      <th>amount</th>\n",
       "      <th>designation</th>\n",
       "      <th>travel_class</th>\n",
       "      <th>txn_type</th>\n",
       "      <th>report_status</th>\n",
       "      <th>txn_date</th>\n",
       "      <th>last_date_of_submission</th>\n",
       "      <th>report_submission_date</th>\n",
       "      <th>...</th>\n",
       "      <th>city</th>\n",
       "      <th>city_group</th>\n",
       "      <th>country</th>\n",
       "      <th>category_pol_freq</th>\n",
       "      <th>cat_user_mean_amount</th>\n",
       "      <th>Cat_user_Deviation</th>\n",
       "      <th>freq_veri_poli</th>\n",
       "      <th>policy_voilations</th>\n",
       "      <th>freq_pol_voil</th>\n",
       "      <th>txn_veri_freq</th>\n",
       "    </tr>\n",
       "  </thead>\n",
       "  <tbody>\n",
       "    <tr>\n",
       "      <th>0</th>\n",
       "      <td>HP2019211104039332593324HP</td>\n",
       "      <td>Airfare Expense</td>\n",
       "      <td>21719.0</td>\n",
       "      <td>Partner</td>\n",
       "      <td>Economy</td>\n",
       "      <td>HDFC Expense Dr</td>\n",
       "      <td>Data Enrichment</td>\n",
       "      <td>2019-05-16</td>\n",
       "      <td>2019-08-14</td>\n",
       "      <td>2019-05-21</td>\n",
       "      <td>...</td>\n",
       "      <td>Gurgaon</td>\n",
       "      <td>Metro</td>\n",
       "      <td>India</td>\n",
       "      <td>0.037412</td>\n",
       "      <td>8698.8</td>\n",
       "      <td>13020.2</td>\n",
       "      <td>0.84484</td>\n",
       "      <td>0.0</td>\n",
       "      <td>0.0</td>\n",
       "      <td>0.893998</td>\n",
       "    </tr>\n",
       "    <tr>\n",
       "      <th>1</th>\n",
       "      <td>HP2019211104039332593324HP</td>\n",
       "      <td>Airfare Expense</td>\n",
       "      <td>6467.0</td>\n",
       "      <td>Partner</td>\n",
       "      <td>Economy</td>\n",
       "      <td>HDFC Expense Dr</td>\n",
       "      <td>Verified by Finance</td>\n",
       "      <td>2019-11-02</td>\n",
       "      <td>2020-01-31</td>\n",
       "      <td>2019-02-25</td>\n",
       "      <td>...</td>\n",
       "      <td>Gurgaon</td>\n",
       "      <td>Metro</td>\n",
       "      <td>India</td>\n",
       "      <td>0.037412</td>\n",
       "      <td>8698.8</td>\n",
       "      <td>-2231.8</td>\n",
       "      <td>0.84484</td>\n",
       "      <td>0.0</td>\n",
       "      <td>0.0</td>\n",
       "      <td>0.893998</td>\n",
       "    </tr>\n",
       "    <tr>\n",
       "      <th>2</th>\n",
       "      <td>HP2019211104039332593324HP</td>\n",
       "      <td>Airfare Expense</td>\n",
       "      <td>4170.0</td>\n",
       "      <td>Partner</td>\n",
       "      <td>Economy</td>\n",
       "      <td>HDFC Expense Dr</td>\n",
       "      <td>Verified by Finance</td>\n",
       "      <td>2019-02-13</td>\n",
       "      <td>2019-05-14</td>\n",
       "      <td>2019-02-25</td>\n",
       "      <td>...</td>\n",
       "      <td>Gurgaon</td>\n",
       "      <td>Metro</td>\n",
       "      <td>India</td>\n",
       "      <td>0.037412</td>\n",
       "      <td>8698.8</td>\n",
       "      <td>-4528.8</td>\n",
       "      <td>0.84484</td>\n",
       "      <td>0.0</td>\n",
       "      <td>0.0</td>\n",
       "      <td>0.893998</td>\n",
       "    </tr>\n",
       "    <tr>\n",
       "      <th>3</th>\n",
       "      <td>HP2019211104039332593324HP</td>\n",
       "      <td>Airfare Expense</td>\n",
       "      <td>6968.0</td>\n",
       "      <td>Partner</td>\n",
       "      <td>Economy</td>\n",
       "      <td>HDFC Expense Dr</td>\n",
       "      <td>Verified by Finance</td>\n",
       "      <td>2019-02-13</td>\n",
       "      <td>2019-05-14</td>\n",
       "      <td>2019-02-25</td>\n",
       "      <td>...</td>\n",
       "      <td>Gurgaon</td>\n",
       "      <td>Metro</td>\n",
       "      <td>India</td>\n",
       "      <td>0.037412</td>\n",
       "      <td>8698.8</td>\n",
       "      <td>-1730.8</td>\n",
       "      <td>0.84484</td>\n",
       "      <td>0.0</td>\n",
       "      <td>0.0</td>\n",
       "      <td>0.893998</td>\n",
       "    </tr>\n",
       "    <tr>\n",
       "      <th>4</th>\n",
       "      <td>HP2019211104039332593324HP</td>\n",
       "      <td>Airfare Expense</td>\n",
       "      <td>4170.0</td>\n",
       "      <td>Partner</td>\n",
       "      <td>Economy</td>\n",
       "      <td>HDFC Expense Dr</td>\n",
       "      <td>Verified by Finance</td>\n",
       "      <td>2019-11-02</td>\n",
       "      <td>2020-01-31</td>\n",
       "      <td>2019-02-25</td>\n",
       "      <td>...</td>\n",
       "      <td>Gurgaon</td>\n",
       "      <td>Metro</td>\n",
       "      <td>India</td>\n",
       "      <td>0.037412</td>\n",
       "      <td>8698.8</td>\n",
       "      <td>-4528.8</td>\n",
       "      <td>0.84484</td>\n",
       "      <td>0.0</td>\n",
       "      <td>0.0</td>\n",
       "      <td>0.893998</td>\n",
       "    </tr>\n",
       "  </tbody>\n",
       "</table>\n",
       "<p>5 rows × 24 columns</p>\n",
       "</div>"
      ],
      "text/plain": [
       "                      user_id expense_category   amount designation  \\\n",
       "0  HP2019211104039332593324HP  Airfare Expense  21719.0     Partner   \n",
       "1  HP2019211104039332593324HP  Airfare Expense   6467.0     Partner   \n",
       "2  HP2019211104039332593324HP  Airfare Expense   4170.0     Partner   \n",
       "3  HP2019211104039332593324HP  Airfare Expense   6968.0     Partner   \n",
       "4  HP2019211104039332593324HP  Airfare Expense   4170.0     Partner   \n",
       "\n",
       "  travel_class         txn_type        report_status   txn_date  \\\n",
       "0      Economy  HDFC Expense Dr      Data Enrichment 2019-05-16   \n",
       "1      Economy  HDFC Expense Dr  Verified by Finance 2019-11-02   \n",
       "2      Economy  HDFC Expense Dr  Verified by Finance 2019-02-13   \n",
       "3      Economy  HDFC Expense Dr  Verified by Finance 2019-02-13   \n",
       "4      Economy  HDFC Expense Dr  Verified by Finance 2019-11-02   \n",
       "\n",
       "  last_date_of_submission report_submission_date  ...     city city_group  \\\n",
       "0              2019-08-14             2019-05-21  ...  Gurgaon      Metro   \n",
       "1              2020-01-31             2019-02-25  ...  Gurgaon      Metro   \n",
       "2              2019-05-14             2019-02-25  ...  Gurgaon      Metro   \n",
       "3              2019-05-14             2019-02-25  ...  Gurgaon      Metro   \n",
       "4              2020-01-31             2019-02-25  ...  Gurgaon      Metro   \n",
       "\n",
       "  country category_pol_freq cat_user_mean_amount Cat_user_Deviation  \\\n",
       "0   India          0.037412               8698.8            13020.2   \n",
       "1   India          0.037412               8698.8            -2231.8   \n",
       "2   India          0.037412               8698.8            -4528.8   \n",
       "3   India          0.037412               8698.8            -1730.8   \n",
       "4   India          0.037412               8698.8            -4528.8   \n",
       "\n",
       "  freq_veri_poli  policy_voilations  freq_pol_voil  txn_veri_freq  \n",
       "0        0.84484                0.0            0.0       0.893998  \n",
       "1        0.84484                0.0            0.0       0.893998  \n",
       "2        0.84484                0.0            0.0       0.893998  \n",
       "3        0.84484                0.0            0.0       0.893998  \n",
       "4        0.84484                0.0            0.0       0.893998  \n",
       "\n",
       "[5 rows x 24 columns]"
      ]
     },
     "execution_count": 68,
     "metadata": {},
     "output_type": "execute_result"
    }
   ],
   "source": [
    "data2['txn_veri_freq']=data2['veri_count']/data2['total_count']\n",
    "\n",
    "data2.drop(['veri_count','total_count'],axis=1,inplace=True)\n",
    "data2.head()"
   ]
  },
  {
   "cell_type": "code",
   "execution_count": 69,
   "metadata": {},
   "outputs": [
    {
     "name": "stdout",
     "output_type": "stream",
     "text": [
      "<class 'pandas.core.frame.DataFrame'>\n",
      "Int64Index: 18216 entries, 0 to 18215\n",
      "Data columns (total 24 columns):\n",
      "user_id                    18216 non-null object\n",
      "expense_category           18216 non-null object\n",
      "amount                     18216 non-null float64\n",
      "designation                18216 non-null object\n",
      "travel_class               9170 non-null object\n",
      "txn_type                   18216 non-null object\n",
      "report_status              17651 non-null object\n",
      "txn_date                   18216 non-null datetime64[ns]\n",
      "last_date_of_submission    18216 non-null datetime64[ns]\n",
      "report_submission_date     17262 non-null datetime64[ns]\n",
      "policy_id_1                18216 non-null object\n",
      "policy_id_2                18216 non-null object\n",
      "policy_id_3                18216 non-null object\n",
      "policy_id_4                18216 non-null object\n",
      "city                       18167 non-null object\n",
      "city_group                 18167 non-null object\n",
      "country                    18167 non-null object\n",
      "category_pol_freq          18216 non-null float64\n",
      "cat_user_mean_amount       18216 non-null float64\n",
      "Cat_user_Deviation         18216 non-null float64\n",
      "freq_veri_poli             18216 non-null float64\n",
      "policy_voilations          18216 non-null float64\n",
      "freq_pol_voil              18216 non-null float64\n",
      "txn_veri_freq              18216 non-null float64\n",
      "dtypes: datetime64[ns](3), float64(8), object(13)\n",
      "memory usage: 3.5+ MB\n"
     ]
    }
   ],
   "source": [
    "data2.info()"
   ]
  },
  {
   "cell_type": "code",
   "execution_count": null,
   "metadata": {},
   "outputs": [],
   "source": []
  },
  {
   "cell_type": "markdown",
   "metadata": {},
   "source": [
    "# Designation"
   ]
  },
  {
   "cell_type": "code",
   "execution_count": 70,
   "metadata": {},
   "outputs": [
    {
     "data": {
      "text/plain": [
       "[Text(0, 0, 'Partner'),\n",
       " Text(0, 0, 'Administrative'),\n",
       " Text(0, 0, 'Senior Associate'),\n",
       " Text(0, 0, 'Manager'),\n",
       " Text(0, 0, 'Director'),\n",
       " Text(0, 0, 'Senior Manager'),\n",
       " Text(0, 0, 'Intern/Trainee'),\n",
       " Text(0, 0, 'Associate'),\n",
       " Text(0, 0, 'Specialist'),\n",
       " Text(0, 0, 'Executive Director'),\n",
       " Text(0, 0, 'Managing Director')]"
      ]
     },
     "execution_count": 70,
     "metadata": {},
     "output_type": "execute_result"
    },
    {
     "data": {
      "image/png": "[encoded data removed]",
      "text/plain": [
       "<Figure size 936x432 with 1 Axes>"
      ]
     },
     "metadata": {
      "needs_background": "light"
     },
     "output_type": "display_data"
    }
   ],
   "source": [
    "p=sns.countplot('designation',hue='report_status',data=data2)\n",
    "p.set_xticklabels(data2.designation.unique(),rotation=30)"
   ]
  },
  {
   "cell_type": "code",
   "execution_count": 71,
   "metadata": {},
   "outputs": [
    {
     "data": {
      "text/html": [
       "<div>\n",
       "<style scoped>\n",
       "    .dataframe tbody tr th:only-of-type {\n",
       "        vertical-align: middle;\n",
       "    }\n",
       "\n",
       "    .dataframe tbody tr th {\n",
       "        vertical-align: top;\n",
       "    }\n",
       "\n",
       "    .dataframe thead th {\n",
       "        text-align: right;\n",
       "    }\n",
       "</style>\n",
       "<table border=\"1\" class=\"dataframe\">\n",
       "  <thead>\n",
       "    <tr style=\"text-align: right;\">\n",
       "      <th></th>\n",
       "      <th></th>\n",
       "      <th></th>\n",
       "      <th>user_id</th>\n",
       "    </tr>\n",
       "    <tr>\n",
       "      <th>designation</th>\n",
       "      <th>expense_category</th>\n",
       "      <th>report_status</th>\n",
       "      <th></th>\n",
       "    </tr>\n",
       "  </thead>\n",
       "  <tbody>\n",
       "    <tr>\n",
       "      <th rowspan=\"7\" valign=\"top\">Administrative</th>\n",
       "      <th rowspan=\"4\" valign=\"top\">Airfare Expense</th>\n",
       "      <th>In-Queue</th>\n",
       "      <td>1</td>\n",
       "    </tr>\n",
       "    <tr>\n",
       "      <th>Pending for Audit</th>\n",
       "      <td>2</td>\n",
       "    </tr>\n",
       "    <tr>\n",
       "      <th>Saved</th>\n",
       "      <td>2</td>\n",
       "    </tr>\n",
       "    <tr>\n",
       "      <th>Verified by Finance</th>\n",
       "      <td>88</td>\n",
       "    </tr>\n",
       "    <tr>\n",
       "      <th rowspan=\"3\" valign=\"top\">Hotel Booking Expense</th>\n",
       "      <th>Rejected</th>\n",
       "      <td>1</td>\n",
       "    </tr>\n",
       "    <tr>\n",
       "      <th>Saved</th>\n",
       "      <td>1</td>\n",
       "    </tr>\n",
       "    <tr>\n",
       "      <th>Verified by Finance</th>\n",
       "      <td>5</td>\n",
       "    </tr>\n",
       "  </tbody>\n",
       "</table>\n",
       "</div>"
      ],
      "text/plain": [
       "                                                          user_id\n",
       "designation    expense_category      report_status               \n",
       "Administrative Airfare Expense       In-Queue                   1\n",
       "                                     Pending for Audit          2\n",
       "                                     Saved                      2\n",
       "                                     Verified by Finance       88\n",
       "               Hotel Booking Expense Rejected                   1\n",
       "                                     Saved                      1\n",
       "                                     Verified by Finance        5"
      ]
     },
     "execution_count": 71,
     "metadata": {},
     "output_type": "execute_result"
    }
   ],
   "source": [
    "data2.pivot_table(['user_id'],\n",
    "               ['designation','expense_category','report_status'], aggfunc={'user_id':len}).head(7)"
   ]
  },
  {
   "cell_type": "code",
   "execution_count": 72,
   "metadata": {},
   "outputs": [
    {
     "data": {
      "text/plain": [
       "Senior Associate      3294\n",
       "Partner               3132\n",
       "Manager               2841\n",
       "Director              2575\n",
       "Senior Manager        2465\n",
       "Associate             2013\n",
       "Specialist             996\n",
       "Executive Director     371\n",
       "Managing Director      264\n",
       "Intern/Trainee         161\n",
       "Administrative         104\n",
       "Name: designation, dtype: int64"
      ]
     },
     "execution_count": 72,
     "metadata": {},
     "output_type": "execute_result"
    }
   ],
   "source": [
    "data2['designation'].value_counts()"
   ]
  },
  {
   "cell_type": "code",
   "execution_count": 73,
   "metadata": {},
   "outputs": [
    {
     "data": {
      "text/html": [
       "<div>\n",
       "<style scoped>\n",
       "    .dataframe tbody tr th:only-of-type {\n",
       "        vertical-align: middle;\n",
       "    }\n",
       "\n",
       "    .dataframe tbody tr th {\n",
       "        vertical-align: top;\n",
       "    }\n",
       "\n",
       "    .dataframe thead th {\n",
       "        text-align: right;\n",
       "    }\n",
       "</style>\n",
       "<table border=\"1\" class=\"dataframe\">\n",
       "  <thead>\n",
       "    <tr style=\"text-align: right;\">\n",
       "      <th></th>\n",
       "      <th>amount</th>\n",
       "    </tr>\n",
       "    <tr>\n",
       "      <th>designation</th>\n",
       "      <th></th>\n",
       "    </tr>\n",
       "  </thead>\n",
       "  <tbody>\n",
       "    <tr>\n",
       "      <th>Intern/Trainee</th>\n",
       "      <td>5322.853846</td>\n",
       "    </tr>\n",
       "    <tr>\n",
       "      <th>Administrative</th>\n",
       "      <td>5953.326316</td>\n",
       "    </tr>\n",
       "    <tr>\n",
       "      <th>Specialist</th>\n",
       "      <td>6856.987225</td>\n",
       "    </tr>\n",
       "    <tr>\n",
       "      <th>Executive Director</th>\n",
       "      <td>6937.189213</td>\n",
       "    </tr>\n",
       "    <tr>\n",
       "      <th>Associate</th>\n",
       "      <td>8178.042497</td>\n",
       "    </tr>\n",
       "    <tr>\n",
       "      <th>Senior Manager</th>\n",
       "      <td>8329.537286</td>\n",
       "    </tr>\n",
       "    <tr>\n",
       "      <th>Senior Associate</th>\n",
       "      <td>8802.058720</td>\n",
       "    </tr>\n",
       "    <tr>\n",
       "      <th>Manager</th>\n",
       "      <td>10070.012697</td>\n",
       "    </tr>\n",
       "    <tr>\n",
       "      <th>Director</th>\n",
       "      <td>10765.314691</td>\n",
       "    </tr>\n",
       "    <tr>\n",
       "      <th>Managing Director</th>\n",
       "      <td>11459.400000</td>\n",
       "    </tr>\n",
       "    <tr>\n",
       "      <th>Partner</th>\n",
       "      <td>12819.709935</td>\n",
       "    </tr>\n",
       "  </tbody>\n",
       "</table>\n",
       "</div>"
      ],
      "text/plain": [
       "                          amount\n",
       "designation                     \n",
       "Intern/Trainee       5322.853846\n",
       "Administrative       5953.326316\n",
       "Specialist           6856.987225\n",
       "Executive Director   6937.189213\n",
       "Associate            8178.042497\n",
       "Senior Manager       8329.537286\n",
       "Senior Associate     8802.058720\n",
       "Manager             10070.012697\n",
       "Director            10765.314691\n",
       "Managing Director   11459.400000\n",
       "Partner             12819.709935"
      ]
     },
     "execution_count": 73,
     "metadata": {},
     "output_type": "execute_result"
    }
   ],
   "source": [
    "#[data2['amount']>2500][data2['amount']<25000]\n",
    "designation_air=data2[data2['expense_category']=='Airfare Expense'][['designation','amount']].groupby(['designation']).mean().sort_values('amount')\n",
    "designation_air"
   ]
  },
  {
   "cell_type": "code",
   "execution_count": 74,
   "metadata": {},
   "outputs": [
    {
     "data": {
      "text/html": [
       "<div>\n",
       "<style scoped>\n",
       "    .dataframe tbody tr th:only-of-type {\n",
       "        vertical-align: middle;\n",
       "    }\n",
       "\n",
       "    .dataframe tbody tr th {\n",
       "        vertical-align: top;\n",
       "    }\n",
       "\n",
       "    .dataframe thead th {\n",
       "        text-align: right;\n",
       "    }\n",
       "</style>\n",
       "<table border=\"1\" class=\"dataframe\">\n",
       "  <thead>\n",
       "    <tr style=\"text-align: right;\">\n",
       "      <th></th>\n",
       "      <th>amount</th>\n",
       "    </tr>\n",
       "    <tr>\n",
       "      <th>designation</th>\n",
       "      <th></th>\n",
       "    </tr>\n",
       "  </thead>\n",
       "  <tbody>\n",
       "    <tr>\n",
       "      <th>Specialist</th>\n",
       "      <td>6639.874122</td>\n",
       "    </tr>\n",
       "    <tr>\n",
       "      <th>Intern/Trainee</th>\n",
       "      <td>8666.755505</td>\n",
       "    </tr>\n",
       "    <tr>\n",
       "      <th>Managing Director</th>\n",
       "      <td>15521.245088</td>\n",
       "    </tr>\n",
       "    <tr>\n",
       "      <th>Director</th>\n",
       "      <td>16613.259775</td>\n",
       "    </tr>\n",
       "    <tr>\n",
       "      <th>Associate</th>\n",
       "      <td>17311.152604</td>\n",
       "    </tr>\n",
       "    <tr>\n",
       "      <th>Executive Director</th>\n",
       "      <td>17512.954456</td>\n",
       "    </tr>\n",
       "    <tr>\n",
       "      <th>Senior Manager</th>\n",
       "      <td>18235.665183</td>\n",
       "    </tr>\n",
       "    <tr>\n",
       "      <th>Partner</th>\n",
       "      <td>19470.819064</td>\n",
       "    </tr>\n",
       "    <tr>\n",
       "      <th>Senior Associate</th>\n",
       "      <td>20193.306999</td>\n",
       "    </tr>\n",
       "    <tr>\n",
       "      <th>Manager</th>\n",
       "      <td>20648.986857</td>\n",
       "    </tr>\n",
       "    <tr>\n",
       "      <th>Administrative</th>\n",
       "      <td>28625.300000</td>\n",
       "    </tr>\n",
       "  </tbody>\n",
       "</table>\n",
       "</div>"
      ],
      "text/plain": [
       "                          amount\n",
       "designation                     \n",
       "Specialist           6639.874122\n",
       "Intern/Trainee       8666.755505\n",
       "Managing Director   15521.245088\n",
       "Director            16613.259775\n",
       "Associate           17311.152604\n",
       "Executive Director  17512.954456\n",
       "Senior Manager      18235.665183\n",
       "Partner             19470.819064\n",
       "Senior Associate    20193.306999\n",
       "Manager             20648.986857\n",
       "Administrative      28625.300000"
      ]
     },
     "execution_count": 74,
     "metadata": {},
     "output_type": "execute_result"
    }
   ],
   "source": [
    "#[data2['amount']>5000][data2['amount']<10000]\n",
    "designation_hotel=data2[data2['expense_category']!='Airfare Expense'][['designation','amount']].groupby(['designation']).mean().sort_values('amount')\n",
    "designation_hotel"
   ]
  },
  {
   "cell_type": "code",
   "execution_count": 75,
   "metadata": {},
   "outputs": [
    {
     "data": {
      "text/plain": [
       "Text(0.5, 1.0, 'designation_hotel')"
      ]
     },
     "execution_count": 75,
     "metadata": {},
     "output_type": "execute_result"
    },
    {
     "data": {
      "image/png": "[encoded data removed]",
      "text/plain": [
       "<Figure size 1584x720 with 2 Axes>"
      ]
     },
     "metadata": {
      "needs_background": "light"
     },
     "output_type": "display_data"
    }
   ],
   "source": [
    "rcParams['figure.figsize']=22,10\n",
    "\n",
    "plt.subplot(2,2,1)\n",
    "plt.bar(designation_air.index,designation_air['amount'])\n",
    "plt.xticks( rotation=45)\n",
    "plt.title('designation_air')\n",
    "\n",
    "plt.subplot(2,2,2)\n",
    "plt.bar(designation_hotel.index,designation_hotel['amount'])\n",
    "plt.xticks( rotation=45)\n",
    "plt.title('designation_hotel')"
   ]
  },
  {
   "cell_type": "code",
   "execution_count": 76,
   "metadata": {},
   "outputs": [
    {
     "data": {
      "text/plain": [
       "Text(0.5, 1.0, 'HOTEL Expense distribution plot of Matrix Manager VS Expense User')"
      ]
     },
     "execution_count": 76,
     "metadata": {},
     "output_type": "execute_result"
    },
    {
     "data": {
      "image/png": "[encoded data removed]",
      "text/plain": [
       "<Figure size 1584x720 with 2 Axes>"
      ]
     },
     "metadata": {
      "needs_background": "light"
     },
     "output_type": "display_data"
    }
   ],
   "source": [
    "\n",
    "plt.subplot(2,1,1)\n",
    "sns.distplot(data2[data2['expense_category']=='Airfare Expense'][data2['designation']=='Partner'][data2['amount']<25000]['amount'],label='Partner')\n",
    "sns.distplot(data2[data2['expense_category']=='Airfare Expense'][data2['designation']=='Manager'][data2['amount']<25000]['amount'],label='Manager')\n",
    "\n",
    "plt.title('AIRFARE Expense distribution plot of Matrix Manager VS Expense User')\n",
    "\n",
    "plt.subplot(2,1,2)\n",
    "sns.kdeplot(data2[data2['expense_category']!='Airfare Expense'][data2['designation']=='Partner'][data2['amount']<25000]['amount'],label='Partner',shade=True)\n",
    "sns.kdeplot(data2[data2['expense_category']!='Airfare Expense'][data2['designation']=='Manager'][data2['amount']<25000]['amount'],label='Manager',shade=True)\n",
    "\n",
    "plt.title('HOTEL Expense distribution plot of Matrix Manager VS Expense User')"
   ]
  },
  {
   "cell_type": "markdown",
   "metadata": {},
   "source": []
  },
  {
   "cell_type": "code",
   "execution_count": 77,
   "metadata": {},
   "outputs": [],
   "source": [
    "# It is not possible to book a flight or hotel below Rs.1500 So,Removing the rows with amount less then 1500."
   ]
  },
  {
   "cell_type": "code",
   "execution_count": 78,
   "metadata": {},
   "outputs": [
    {
     "data": {
      "text/plain": [
       "<matplotlib.axes._subplots.AxesSubplot at 0x20efc284240>"
      ]
     },
     "execution_count": 78,
     "metadata": {},
     "output_type": "execute_result"
    },
    {
     "data": {
      "image/png": "[encoded data removed]",
      "text/plain": [
       "<Figure size 1584x720 with 1 Axes>"
      ]
     },
     "metadata": {
      "needs_background": "light"
     },
     "output_type": "display_data"
    }
   ],
   "source": [
    "sns.boxplot(data2[data2['expense_category']=='Hotel Booking Expense'][data2['designation']=='Director'][data2['amount']>5000][data2['city']=='Mumbai']['amount'])"
   ]
  },
  {
   "cell_type": "code",
   "execution_count": null,
   "metadata": {},
   "outputs": [],
   "source": []
  },
  {
   "cell_type": "code",
   "execution_count": null,
   "metadata": {},
   "outputs": [],
   "source": []
  },
  {
   "cell_type": "code",
   "execution_count": 79,
   "metadata": {},
   "outputs": [],
   "source": [
    "df=data2[data2['report_status'].isnull()==False].copy()\n",
    "df.drop(['policy_voilations','txn_date', 'last_date_of_submission','report_submission_date', 'policy_id_1', \n",
    "         'policy_id_2', 'policy_id_3', 'policy_id_4', 'city',],axis=1,inplace=True)"
   ]
  },
  {
   "cell_type": "code",
   "execution_count": 80,
   "metadata": {},
   "outputs": [],
   "source": [
    "import scipy\n",
    "from scipy.stats.stats import pearsonr"
   ]
  },
  {
   "cell_type": "code",
   "execution_count": 81,
   "metadata": {},
   "outputs": [
    {
     "data": {
      "text/plain": [
       "Index(['user_id', 'expense_category', 'amount', 'designation', 'travel_class',\n",
       "       'txn_type', 'report_status', 'city_group', 'country',\n",
       "       'category_pol_freq', 'cat_user_mean_amount', 'Cat_user_Deviation',\n",
       "       'freq_veri_poli', 'freq_pol_voil', 'txn_veri_freq'],\n",
       "      dtype='object')"
      ]
     },
     "execution_count": 81,
     "metadata": {},
     "output_type": "execute_result"
    }
   ],
   "source": [
    "df.columns"
   ]
  },
  {
   "cell_type": "code",
   "execution_count": 82,
   "metadata": {},
   "outputs": [
    {
     "data": {
      "text/html": [
       "<div>\n",
       "<style scoped>\n",
       "    .dataframe tbody tr th:only-of-type {\n",
       "        vertical-align: middle;\n",
       "    }\n",
       "\n",
       "    .dataframe tbody tr th {\n",
       "        vertical-align: top;\n",
       "    }\n",
       "\n",
       "    .dataframe thead th {\n",
       "        text-align: right;\n",
       "    }\n",
       "</style>\n",
       "<table border=\"1\" class=\"dataframe\">\n",
       "  <thead>\n",
       "    <tr style=\"text-align: right;\">\n",
       "      <th></th>\n",
       "      <th>amount</th>\n",
       "      <th>category_pol_freq</th>\n",
       "      <th>cat_user_mean_amount</th>\n",
       "      <th>Cat_user_Deviation</th>\n",
       "      <th>freq_veri_poli</th>\n",
       "      <th>freq_pol_voil</th>\n",
       "      <th>txn_veri_freq</th>\n",
       "    </tr>\n",
       "  </thead>\n",
       "  <tbody>\n",
       "    <tr>\n",
       "      <th>amount</th>\n",
       "      <td>1.000000</td>\n",
       "      <td>0.161577</td>\n",
       "      <td>0.746089</td>\n",
       "      <td>0.666785</td>\n",
       "      <td>0.015278</td>\n",
       "      <td>-0.001451</td>\n",
       "      <td>-0.002570</td>\n",
       "    </tr>\n",
       "    <tr>\n",
       "      <th>category_pol_freq</th>\n",
       "      <td>0.161577</td>\n",
       "      <td>1.000000</td>\n",
       "      <td>0.215194</td>\n",
       "      <td>0.001807</td>\n",
       "      <td>0.073712</td>\n",
       "      <td>-0.031303</td>\n",
       "      <td>-0.066127</td>\n",
       "    </tr>\n",
       "    <tr>\n",
       "      <th>cat_user_mean_amount</th>\n",
       "      <td>0.746089</td>\n",
       "      <td>0.215194</td>\n",
       "      <td>1.000000</td>\n",
       "      <td>0.001259</td>\n",
       "      <td>0.029673</td>\n",
       "      <td>-0.003237</td>\n",
       "      <td>0.002408</td>\n",
       "    </tr>\n",
       "    <tr>\n",
       "      <th>Cat_user_Deviation</th>\n",
       "      <td>0.666785</td>\n",
       "      <td>0.001807</td>\n",
       "      <td>0.001259</td>\n",
       "      <td>1.000000</td>\n",
       "      <td>-0.010267</td>\n",
       "      <td>0.001443</td>\n",
       "      <td>-0.006555</td>\n",
       "    </tr>\n",
       "    <tr>\n",
       "      <th>freq_veri_poli</th>\n",
       "      <td>0.015278</td>\n",
       "      <td>0.073712</td>\n",
       "      <td>0.029673</td>\n",
       "      <td>-0.010267</td>\n",
       "      <td>1.000000</td>\n",
       "      <td>-0.297082</td>\n",
       "      <td>0.115059</td>\n",
       "    </tr>\n",
       "    <tr>\n",
       "      <th>freq_pol_voil</th>\n",
       "      <td>-0.001451</td>\n",
       "      <td>-0.031303</td>\n",
       "      <td>-0.003237</td>\n",
       "      <td>0.001443</td>\n",
       "      <td>-0.297082</td>\n",
       "      <td>1.000000</td>\n",
       "      <td>-0.213115</td>\n",
       "    </tr>\n",
       "    <tr>\n",
       "      <th>txn_veri_freq</th>\n",
       "      <td>-0.002570</td>\n",
       "      <td>-0.066127</td>\n",
       "      <td>0.002408</td>\n",
       "      <td>-0.006555</td>\n",
       "      <td>0.115059</td>\n",
       "      <td>-0.213115</td>\n",
       "      <td>1.000000</td>\n",
       "    </tr>\n",
       "  </tbody>\n",
       "</table>\n",
       "</div>"
      ],
      "text/plain": [
       "                        amount  category_pol_freq  cat_user_mean_amount  \\\n",
       "amount                1.000000           0.161577              0.746089   \n",
       "category_pol_freq     0.161577           1.000000              0.215194   \n",
       "cat_user_mean_amount  0.746089           0.215194              1.000000   \n",
       "Cat_user_Deviation    0.666785           0.001807              0.001259   \n",
       "freq_veri_poli        0.015278           0.073712              0.029673   \n",
       "freq_pol_voil        -0.001451          -0.031303             -0.003237   \n",
       "txn_veri_freq        -0.002570          -0.066127              0.002408   \n",
       "\n",
       "                      Cat_user_Deviation  freq_veri_poli  freq_pol_voil  \\\n",
       "amount                          0.666785        0.015278      -0.001451   \n",
       "category_pol_freq               0.001807        0.073712      -0.031303   \n",
       "cat_user_mean_amount            0.001259        0.029673      -0.003237   \n",
       "Cat_user_Deviation              1.000000       -0.010267       0.001443   \n",
       "freq_veri_poli                 -0.010267        1.000000      -0.297082   \n",
       "freq_pol_voil                   0.001443       -0.297082       1.000000   \n",
       "txn_veri_freq                  -0.006555        0.115059      -0.213115   \n",
       "\n",
       "                      txn_veri_freq  \n",
       "amount                    -0.002570  \n",
       "category_pol_freq         -0.066127  \n",
       "cat_user_mean_amount       0.002408  \n",
       "Cat_user_Deviation        -0.006555  \n",
       "freq_veri_poli             0.115059  \n",
       "freq_pol_voil             -0.213115  \n",
       "txn_veri_freq              1.000000  "
      ]
     },
     "execution_count": 82,
     "metadata": {},
     "output_type": "execute_result"
    }
   ],
   "source": [
    "df.corr()"
   ]
  },
  {
   "cell_type": "code",
   "execution_count": 83,
   "metadata": {},
   "outputs": [],
   "source": [
    "df.drop(['user_id','cat_user_mean_amount'],axis=1,inplace=True)"
   ]
  },
  {
   "cell_type": "code",
   "execution_count": 84,
   "metadata": {},
   "outputs": [
    {
     "data": {
      "text/plain": [
       "Index(['expense_category', 'amount', 'designation', 'travel_class', 'txn_type',\n",
       "       'report_status', 'city_group', 'country', 'category_pol_freq',\n",
       "       'Cat_user_Deviation', 'freq_veri_poli', 'freq_pol_voil',\n",
       "       'txn_veri_freq'],\n",
       "      dtype='object')"
      ]
     },
     "execution_count": 84,
     "metadata": {},
     "output_type": "execute_result"
    }
   ],
   "source": [
    "df.columns"
   ]
  },
  {
   "cell_type": "code",
   "execution_count": 874,
   "metadata": {},
   "outputs": [],
   "source": [
    "air=df[df['expense_category']!='Hotel Booking Expense'].drop(['expense_category'],axis=1)\n",
    "hotel=df[df['expense_category']=='Hotel Booking Expense'].drop(['expense_category','travel_class'],axis=1)"
   ]
  },
  {
   "cell_type": "markdown",
   "metadata": {},
   "source": [
    "# Model Building on Hotel Expenses"
   ]
  },
  {
   "cell_type": "markdown",
   "metadata": {},
   "source": [
    "### Outliers"
   ]
  },
  {
   "cell_type": "code",
   "execution_count": 875,
   "metadata": {},
   "outputs": [],
   "source": [
    "#hotel.drop(['country_code'],axis=True,inplace = True)"
   ]
  },
  {
   "cell_type": "code",
   "execution_count": 876,
   "metadata": {},
   "outputs": [],
   "source": [
    "hotel=hotel[hotel.amount>850][hotel.amount<200000]"
   ]
  },
  {
   "cell_type": "code",
   "execution_count": 877,
   "metadata": {
    "scrolled": true
   },
   "outputs": [
    {
     "data": {
      "text/html": [
       "<div>\n",
       "<style scoped>\n",
       "    .dataframe tbody tr th:only-of-type {\n",
       "        vertical-align: middle;\n",
       "    }\n",
       "\n",
       "    .dataframe tbody tr th {\n",
       "        vertical-align: top;\n",
       "    }\n",
       "\n",
       "    .dataframe thead th {\n",
       "        text-align: right;\n",
       "    }\n",
       "</style>\n",
       "<table border=\"1\" class=\"dataframe\">\n",
       "  <thead>\n",
       "    <tr style=\"text-align: right;\">\n",
       "      <th></th>\n",
       "      <th>amount</th>\n",
       "      <th>city_group</th>\n",
       "    </tr>\n",
       "    <tr>\n",
       "      <th>country</th>\n",
       "      <th></th>\n",
       "      <th></th>\n",
       "    </tr>\n",
       "  </thead>\n",
       "  <tbody>\n",
       "    <tr>\n",
       "      <th>Zambia</th>\n",
       "      <td>6201.725000</td>\n",
       "      <td>2</td>\n",
       "    </tr>\n",
       "    <tr>\n",
       "      <th>Mozambique</th>\n",
       "      <td>6521.000000</td>\n",
       "      <td>1</td>\n",
       "    </tr>\n",
       "    <tr>\n",
       "      <th>Bhutan</th>\n",
       "      <td>10004.041379</td>\n",
       "      <td>29</td>\n",
       "    </tr>\n",
       "    <tr>\n",
       "      <th>India</th>\n",
       "      <td>12471.027037</td>\n",
       "      <td>7263</td>\n",
       "    </tr>\n",
       "    <tr>\n",
       "      <th>Mexico</th>\n",
       "      <td>17159.986667</td>\n",
       "      <td>3</td>\n",
       "    </tr>\n",
       "    <tr>\n",
       "      <th>Malaysia</th>\n",
       "      <td>17539.060000</td>\n",
       "      <td>7</td>\n",
       "    </tr>\n",
       "    <tr>\n",
       "      <th>Luxembourg</th>\n",
       "      <td>18462.500000</td>\n",
       "      <td>1</td>\n",
       "    </tr>\n",
       "    <tr>\n",
       "      <th>Ireland</th>\n",
       "      <td>21364.195000</td>\n",
       "      <td>2</td>\n",
       "    </tr>\n",
       "    <tr>\n",
       "      <th>Bangladesh</th>\n",
       "      <td>21811.874809</td>\n",
       "      <td>131</td>\n",
       "    </tr>\n",
       "    <tr>\n",
       "      <th>Nepal</th>\n",
       "      <td>21919.237609</td>\n",
       "      <td>46</td>\n",
       "    </tr>\n",
       "    <tr>\n",
       "      <th>Maldives</th>\n",
       "      <td>22501.872000</td>\n",
       "      <td>5</td>\n",
       "    </tr>\n",
       "    <tr>\n",
       "      <th>Myanmar</th>\n",
       "      <td>22842.360000</td>\n",
       "      <td>1</td>\n",
       "    </tr>\n",
       "    <tr>\n",
       "      <th>Netherlands</th>\n",
       "      <td>24779.075000</td>\n",
       "      <td>8</td>\n",
       "    </tr>\n",
       "    <tr>\n",
       "      <th>Philippines</th>\n",
       "      <td>25158.251111</td>\n",
       "      <td>9</td>\n",
       "    </tr>\n",
       "    <tr>\n",
       "      <th>Thailand</th>\n",
       "      <td>25527.735385</td>\n",
       "      <td>13</td>\n",
       "    </tr>\n",
       "    <tr>\n",
       "      <th>Turkey</th>\n",
       "      <td>26834.130000</td>\n",
       "      <td>6</td>\n",
       "    </tr>\n",
       "    <tr>\n",
       "      <th>Vietnam</th>\n",
       "      <td>27822.630000</td>\n",
       "      <td>4</td>\n",
       "    </tr>\n",
       "    <tr>\n",
       "      <th>Belgium</th>\n",
       "      <td>28188.800000</td>\n",
       "      <td>2</td>\n",
       "    </tr>\n",
       "    <tr>\n",
       "      <th>Sri Lanka</th>\n",
       "      <td>28470.068095</td>\n",
       "      <td>21</td>\n",
       "    </tr>\n",
       "    <tr>\n",
       "      <th>Kenya</th>\n",
       "      <td>31057.935000</td>\n",
       "      <td>2</td>\n",
       "    </tr>\n",
       "    <tr>\n",
       "      <th>Senegal</th>\n",
       "      <td>32641.977500</td>\n",
       "      <td>8</td>\n",
       "    </tr>\n",
       "    <tr>\n",
       "      <th>Denmark</th>\n",
       "      <td>32668.918333</td>\n",
       "      <td>6</td>\n",
       "    </tr>\n",
       "    <tr>\n",
       "      <th>Indonesia</th>\n",
       "      <td>34078.750769</td>\n",
       "      <td>13</td>\n",
       "    </tr>\n",
       "    <tr>\n",
       "      <th>Azerbaijan</th>\n",
       "      <td>34813.825000</td>\n",
       "      <td>2</td>\n",
       "    </tr>\n",
       "    <tr>\n",
       "      <th>Mauritius</th>\n",
       "      <td>38171.098333</td>\n",
       "      <td>6</td>\n",
       "    </tr>\n",
       "    <tr>\n",
       "      <th>China</th>\n",
       "      <td>38613.552000</td>\n",
       "      <td>5</td>\n",
       "    </tr>\n",
       "    <tr>\n",
       "      <th>Hong kong</th>\n",
       "      <td>39781.377143</td>\n",
       "      <td>7</td>\n",
       "    </tr>\n",
       "    <tr>\n",
       "      <th>Ivory Coast</th>\n",
       "      <td>39956.960000</td>\n",
       "      <td>3</td>\n",
       "    </tr>\n",
       "    <tr>\n",
       "      <th>Singapore</th>\n",
       "      <td>40291.383913</td>\n",
       "      <td>46</td>\n",
       "    </tr>\n",
       "    <tr>\n",
       "      <th>Kazakhstan</th>\n",
       "      <td>40491.782000</td>\n",
       "      <td>5</td>\n",
       "    </tr>\n",
       "    <tr>\n",
       "      <th>...</th>\n",
       "      <td>...</td>\n",
       "      <td>...</td>\n",
       "    </tr>\n",
       "    <tr>\n",
       "      <th>Canada</th>\n",
       "      <td>42608.360000</td>\n",
       "      <td>9</td>\n",
       "    </tr>\n",
       "    <tr>\n",
       "      <th>Australia</th>\n",
       "      <td>44432.992059</td>\n",
       "      <td>34</td>\n",
       "    </tr>\n",
       "    <tr>\n",
       "      <th>Poland</th>\n",
       "      <td>44911.160000</td>\n",
       "      <td>1</td>\n",
       "    </tr>\n",
       "    <tr>\n",
       "      <th>Qatar</th>\n",
       "      <td>44977.807966</td>\n",
       "      <td>59</td>\n",
       "    </tr>\n",
       "    <tr>\n",
       "      <th>Switzerland</th>\n",
       "      <td>45501.559091</td>\n",
       "      <td>11</td>\n",
       "    </tr>\n",
       "    <tr>\n",
       "      <th>Spain</th>\n",
       "      <td>45943.675000</td>\n",
       "      <td>4</td>\n",
       "    </tr>\n",
       "    <tr>\n",
       "      <th>Kuwait</th>\n",
       "      <td>45967.616000</td>\n",
       "      <td>10</td>\n",
       "    </tr>\n",
       "    <tr>\n",
       "      <th>Oman</th>\n",
       "      <td>46824.312000</td>\n",
       "      <td>15</td>\n",
       "    </tr>\n",
       "    <tr>\n",
       "      <th>Portugal</th>\n",
       "      <td>47114.000000</td>\n",
       "      <td>1</td>\n",
       "    </tr>\n",
       "    <tr>\n",
       "      <th>Italy</th>\n",
       "      <td>49678.602500</td>\n",
       "      <td>16</td>\n",
       "    </tr>\n",
       "    <tr>\n",
       "      <th>Benin</th>\n",
       "      <td>49952.160000</td>\n",
       "      <td>1</td>\n",
       "    </tr>\n",
       "    <tr>\n",
       "      <th>Hong Kong</th>\n",
       "      <td>50404.282308</td>\n",
       "      <td>39</td>\n",
       "    </tr>\n",
       "    <tr>\n",
       "      <th>Bahrain</th>\n",
       "      <td>53297.307500</td>\n",
       "      <td>12</td>\n",
       "    </tr>\n",
       "    <tr>\n",
       "      <th>Cape Verde</th>\n",
       "      <td>53421.260000</td>\n",
       "      <td>1</td>\n",
       "    </tr>\n",
       "    <tr>\n",
       "      <th>United Arab Emirates</th>\n",
       "      <td>55055.645315</td>\n",
       "      <td>333</td>\n",
       "    </tr>\n",
       "    <tr>\n",
       "      <th>United States</th>\n",
       "      <td>55877.491802</td>\n",
       "      <td>111</td>\n",
       "    </tr>\n",
       "    <tr>\n",
       "      <th>Pakistan</th>\n",
       "      <td>56342.660000</td>\n",
       "      <td>2</td>\n",
       "    </tr>\n",
       "    <tr>\n",
       "      <th>South Africa</th>\n",
       "      <td>61286.090000</td>\n",
       "      <td>3</td>\n",
       "    </tr>\n",
       "    <tr>\n",
       "      <th>United Kingdom</th>\n",
       "      <td>61381.155283</td>\n",
       "      <td>53</td>\n",
       "    </tr>\n",
       "    <tr>\n",
       "      <th>Germany</th>\n",
       "      <td>63572.701818</td>\n",
       "      <td>33</td>\n",
       "    </tr>\n",
       "    <tr>\n",
       "      <th>Taiwan</th>\n",
       "      <td>66897.350000</td>\n",
       "      <td>2</td>\n",
       "    </tr>\n",
       "    <tr>\n",
       "      <th>England</th>\n",
       "      <td>69418.171667</td>\n",
       "      <td>6</td>\n",
       "    </tr>\n",
       "    <tr>\n",
       "      <th>Japan</th>\n",
       "      <td>75947.859545</td>\n",
       "      <td>22</td>\n",
       "    </tr>\n",
       "    <tr>\n",
       "      <th>Colombia</th>\n",
       "      <td>79520.730000</td>\n",
       "      <td>1</td>\n",
       "    </tr>\n",
       "    <tr>\n",
       "      <th>Jamica</th>\n",
       "      <td>79690.836667</td>\n",
       "      <td>3</td>\n",
       "    </tr>\n",
       "    <tr>\n",
       "      <th>Lebanon</th>\n",
       "      <td>82405.010000</td>\n",
       "      <td>1</td>\n",
       "    </tr>\n",
       "    <tr>\n",
       "      <th>Ghana</th>\n",
       "      <td>82419.343333</td>\n",
       "      <td>6</td>\n",
       "    </tr>\n",
       "    <tr>\n",
       "      <th>Ethiopia</th>\n",
       "      <td>83480.193333</td>\n",
       "      <td>3</td>\n",
       "    </tr>\n",
       "    <tr>\n",
       "      <th>Israel</th>\n",
       "      <td>116574.650000</td>\n",
       "      <td>2</td>\n",
       "    </tr>\n",
       "    <tr>\n",
       "      <th>Egypt</th>\n",
       "      <td>121931.500000</td>\n",
       "      <td>2</td>\n",
       "    </tr>\n",
       "  </tbody>\n",
       "</table>\n",
       "<p>62 rows × 2 columns</p>\n",
       "</div>"
      ],
      "text/plain": [
       "                             amount  city_group\n",
       "country                                        \n",
       "Zambia                  6201.725000           2\n",
       "Mozambique              6521.000000           1\n",
       "Bhutan                 10004.041379          29\n",
       "India                  12471.027037        7263\n",
       "Mexico                 17159.986667           3\n",
       "Malaysia               17539.060000           7\n",
       "Luxembourg             18462.500000           1\n",
       "Ireland                21364.195000           2\n",
       "Bangladesh             21811.874809         131\n",
       "Nepal                  21919.237609          46\n",
       "Maldives               22501.872000           5\n",
       "Myanmar                22842.360000           1\n",
       "Netherlands            24779.075000           8\n",
       "Philippines            25158.251111           9\n",
       "Thailand               25527.735385          13\n",
       "Turkey                 26834.130000           6\n",
       "Vietnam                27822.630000           4\n",
       "Belgium                28188.800000           2\n",
       "Sri Lanka              28470.068095          21\n",
       "Kenya                  31057.935000           2\n",
       "Senegal                32641.977500           8\n",
       "Denmark                32668.918333           6\n",
       "Indonesia              34078.750769          13\n",
       "Azerbaijan             34813.825000           2\n",
       "Mauritius              38171.098333           6\n",
       "China                  38613.552000           5\n",
       "Hong kong              39781.377143           7\n",
       "Ivory Coast            39956.960000           3\n",
       "Singapore              40291.383913          46\n",
       "Kazakhstan             40491.782000           5\n",
       "...                             ...         ...\n",
       "Canada                 42608.360000           9\n",
       "Australia              44432.992059          34\n",
       "Poland                 44911.160000           1\n",
       "Qatar                  44977.807966          59\n",
       "Switzerland            45501.559091          11\n",
       "Spain                  45943.675000           4\n",
       "Kuwait                 45967.616000          10\n",
       "Oman                   46824.312000          15\n",
       "Portugal               47114.000000           1\n",
       "Italy                  49678.602500          16\n",
       "Benin                  49952.160000           1\n",
       "Hong Kong              50404.282308          39\n",
       "Bahrain                53297.307500          12\n",
       "Cape Verde             53421.260000           1\n",
       "United Arab Emirates   55055.645315         333\n",
       "United States          55877.491802         111\n",
       "Pakistan               56342.660000           2\n",
       "South Africa           61286.090000           3\n",
       "United Kingdom         61381.155283          53\n",
       "Germany                63572.701818          33\n",
       "Taiwan                 66897.350000           2\n",
       "England                69418.171667           6\n",
       "Japan                  75947.859545          22\n",
       "Colombia               79520.730000           1\n",
       "Jamica                 79690.836667           3\n",
       "Lebanon                82405.010000           1\n",
       "Ghana                  82419.343333           6\n",
       "Ethiopia               83480.193333           3\n",
       "Israel                116574.650000           2\n",
       "Egypt                 121931.500000           2\n",
       "\n",
       "[62 rows x 2 columns]"
      ]
     },
     "execution_count": 877,
     "metadata": {},
     "output_type": "execute_result"
    }
   ],
   "source": [
    "hotel[['country','amount','city_group']].pivot_table(['amount','city_group'],\n",
    "                                                         ['country'],aggfunc={'amount':'mean','city_group': len}).sort_values('amount')"
   ]
  },
  {
   "cell_type": "code",
   "execution_count": 878,
   "metadata": {},
   "outputs": [],
   "source": [
    "#hotel[['country','amount','city_group']].pivot_table(['amount','city_group'],\n",
    "#                                                         ['country'],aggfunc={'amount':'mean','city_group': len}).sort_values('amount').to_csv('hotel_country_mean_amount.csv')"
   ]
  },
  {
   "cell_type": "code",
   "execution_count": 879,
   "metadata": {},
   "outputs": [],
   "source": [
    "hotel_country_code=pd.read_csv('hotel_country_mean_amount.csv')\n",
    "hotel=pd.merge(hotel, hotel_country_code[['country_code','country']], on=['country'])"
   ]
  },
  {
   "cell_type": "code",
   "execution_count": 880,
   "metadata": {
    "scrolled": true
   },
   "outputs": [
    {
     "data": {
      "image/png": "[encoded data removed]",
      "text/plain": [
       "<Figure size 2160x648 with 13 Axes>"
      ]
     },
     "metadata": {
      "needs_background": "light"
     },
     "output_type": "display_data"
    }
   ],
   "source": [
    "rcParams['figure.figsize']=30,9\n",
    "for i in (range(1, 14)):\n",
    " plt.subplot(3,5,i)\n",
    " sns.distplot(hotel[hotel['country_code']==i]['amount'],kde_kws={\"color\": \"r\", \"lw\": 1, \"label\": i})\n"
   ]
  },
  {
   "cell_type": "code",
   "execution_count": 881,
   "metadata": {},
   "outputs": [
    {
     "data": {
      "text/plain": [
       "(8470, 12)"
      ]
     },
     "execution_count": 881,
     "metadata": {},
     "output_type": "execute_result"
    }
   ],
   "source": [
    "hotel.shape"
   ]
  },
  {
   "cell_type": "code",
   "execution_count": 882,
   "metadata": {},
   "outputs": [],
   "source": [
    "limit=[55000,70000,80000,85000,110000,150000,160000,200000,200000,200000,200000,200000,280000]\n",
    "for i in range(0,13):\n",
    "     hotel.drop(hotel[hotel.country_code==i+1][hotel.amount>limit[i]].index,axis=0,inplace=True)"
   ]
  },
  {
   "cell_type": "code",
   "execution_count": 883,
   "metadata": {
    "scrolled": true
   },
   "outputs": [
    {
     "data": {
      "text/html": [
       "<div>\n",
       "<style scoped>\n",
       "    .dataframe tbody tr th:only-of-type {\n",
       "        vertical-align: middle;\n",
       "    }\n",
       "\n",
       "    .dataframe tbody tr th {\n",
       "        vertical-align: top;\n",
       "    }\n",
       "\n",
       "    .dataframe thead th {\n",
       "        text-align: right;\n",
       "    }\n",
       "</style>\n",
       "<table border=\"1\" class=\"dataframe\">\n",
       "  <thead>\n",
       "    <tr style=\"text-align: right;\">\n",
       "      <th></th>\n",
       "      <th></th>\n",
       "      <th>country_designation_mean</th>\n",
       "    </tr>\n",
       "    <tr>\n",
       "      <th>country_code</th>\n",
       "      <th>designation</th>\n",
       "      <th></th>\n",
       "    </tr>\n",
       "  </thead>\n",
       "  <tbody>\n",
       "    <tr>\n",
       "      <th rowspan=\"5\" valign=\"top\">1</th>\n",
       "      <th>Administrative</th>\n",
       "      <td>12657.053333</td>\n",
       "    </tr>\n",
       "    <tr>\n",
       "      <th>Associate</th>\n",
       "      <td>12044.866756</td>\n",
       "    </tr>\n",
       "    <tr>\n",
       "      <th>Director</th>\n",
       "      <td>11100.715345</td>\n",
       "    </tr>\n",
       "    <tr>\n",
       "      <th>Executive Director</th>\n",
       "      <td>13508.952573</td>\n",
       "    </tr>\n",
       "    <tr>\n",
       "      <th>Intern/Trainee</th>\n",
       "      <td>8845.059906</td>\n",
       "    </tr>\n",
       "  </tbody>\n",
       "</table>\n",
       "</div>"
      ],
      "text/plain": [
       "                                 country_designation_mean\n",
       "country_code designation                                 \n",
       "1            Administrative                  12657.053333\n",
       "             Associate                       12044.866756\n",
       "             Director                        11100.715345\n",
       "             Executive Director              13508.952573\n",
       "             Intern/Trainee                   8845.059906"
      ]
     },
     "execution_count": 883,
     "metadata": {},
     "output_type": "execute_result"
    }
   ],
   "source": [
    "country_designation_mean=hotel[['country_code','designation','amount']].groupby(['country_code','designation']).mean()\n",
    "country_designation_mean.columns=['country_designation_mean']\n",
    "country_designation_mean.head()"
   ]
  },
  {
   "cell_type": "code",
   "execution_count": 884,
   "metadata": {},
   "outputs": [
    {
     "data": {
      "text/html": [
       "<div>\n",
       "<style scoped>\n",
       "    .dataframe tbody tr th:only-of-type {\n",
       "        vertical-align: middle;\n",
       "    }\n",
       "\n",
       "    .dataframe tbody tr th {\n",
       "        vertical-align: top;\n",
       "    }\n",
       "\n",
       "    .dataframe thead th {\n",
       "        text-align: right;\n",
       "    }\n",
       "</style>\n",
       "<table border=\"1\" class=\"dataframe\">\n",
       "  <thead>\n",
       "    <tr style=\"text-align: right;\">\n",
       "      <th></th>\n",
       "      <th>country_mean</th>\n",
       "    </tr>\n",
       "    <tr>\n",
       "      <th>country_code</th>\n",
       "      <th></th>\n",
       "    </tr>\n",
       "  </thead>\n",
       "  <tbody>\n",
       "    <tr>\n",
       "      <th>1</th>\n",
       "      <td>11294.680761</td>\n",
       "    </tr>\n",
       "    <tr>\n",
       "      <th>2</th>\n",
       "      <td>17883.462781</td>\n",
       "    </tr>\n",
       "    <tr>\n",
       "      <th>3</th>\n",
       "      <td>24678.516066</td>\n",
       "    </tr>\n",
       "    <tr>\n",
       "      <th>4</th>\n",
       "      <td>33287.632581</td>\n",
       "    </tr>\n",
       "    <tr>\n",
       "      <th>5</th>\n",
       "      <td>40464.326429</td>\n",
       "    </tr>\n",
       "  </tbody>\n",
       "</table>\n",
       "</div>"
      ],
      "text/plain": [
       "              country_mean\n",
       "country_code              \n",
       "1             11294.680761\n",
       "2             17883.462781\n",
       "3             24678.516066\n",
       "4             33287.632581\n",
       "5             40464.326429"
      ]
     },
     "execution_count": 884,
     "metadata": {},
     "output_type": "execute_result"
    }
   ],
   "source": [
    "country_mean=hotel[['country_code','amount']].groupby(['country_code']).mean()\n",
    "country_mean.columns=['country_mean']\n",
    "country_mean.head()"
   ]
  },
  {
   "cell_type": "code",
   "execution_count": 885,
   "metadata": {},
   "outputs": [],
   "source": [
    "hotel=pd.merge(hotel, country_designation_mean,'left', on=['country_code','designation'])\n",
    "hotel=pd.merge(hotel, country_mean,'left', on=['country_code'])"
   ]
  },
  {
   "cell_type": "code",
   "execution_count": 886,
   "metadata": {},
   "outputs": [],
   "source": [
    "hotel['CDM_dev']=hotel['amount']-hotel['country_designation_mean']\n",
    "hotel['CM_dev']=hotel['amount']-hotel['country_mean']"
   ]
  },
  {
   "cell_type": "code",
   "execution_count": 887,
   "metadata": {},
   "outputs": [],
   "source": [
    "#hotel=hotel.sort_values('country_designation_mean')\n",
    "#hotel.reset_index(inplace=True)"
   ]
  },
  {
   "cell_type": "code",
   "execution_count": 888,
   "metadata": {},
   "outputs": [],
   "source": [
    "#f=0\n",
    "#l=0\n",
    "#while(l<hotel.shape[0]):\n",
    "#    if(hotel.loc[f,'country_designation_mean']!=hotel.loc[l,'country_designation_mean']):\n",
    " #       temp_matrix=temp.values.reshape(-1,1)\n",
    "  #      scaled=preprocessing.MinMaxScaler()\n",
    "  #      scaled_temp=scaled.fit_transform(temp_matrix)\n",
    "  #      hotel['CDM_dev'][hotel.country_designation_mean==hotel.loc[f,'country_designation_mean']]=scaled_temp\n",
    "  #      f=l\n",
    "  #  l+=1           "
   ]
  },
  {
   "cell_type": "code",
   "execution_count": 889,
   "metadata": {},
   "outputs": [],
   "source": [
    "hotel.drop(['country_designation_mean','country_mean','country'],axis=1,inplace=True)"
   ]
  },
  {
   "cell_type": "code",
   "execution_count": 890,
   "metadata": {
    "scrolled": true
   },
   "outputs": [
    {
     "data": {
      "text/html": [
       "<div>\n",
       "<style scoped>\n",
       "    .dataframe tbody tr th:only-of-type {\n",
       "        vertical-align: middle;\n",
       "    }\n",
       "\n",
       "    .dataframe tbody tr th {\n",
       "        vertical-align: top;\n",
       "    }\n",
       "\n",
       "    .dataframe thead th {\n",
       "        text-align: right;\n",
       "    }\n",
       "</style>\n",
       "<table border=\"1\" class=\"dataframe\">\n",
       "  <thead>\n",
       "    <tr style=\"text-align: right;\">\n",
       "      <th></th>\n",
       "      <th>amount</th>\n",
       "      <th>category_pol_freq</th>\n",
       "      <th>Cat_user_Deviation</th>\n",
       "      <th>freq_veri_poli</th>\n",
       "      <th>freq_pol_voil</th>\n",
       "      <th>txn_veri_freq</th>\n",
       "      <th>country_code</th>\n",
       "      <th>CDM_dev</th>\n",
       "      <th>CM_dev</th>\n",
       "    </tr>\n",
       "  </thead>\n",
       "  <tbody>\n",
       "    <tr>\n",
       "      <th>amount</th>\n",
       "      <td>1.000000e+00</td>\n",
       "      <td>-1.980341e-14</td>\n",
       "      <td>5.682424e-01</td>\n",
       "      <td>9.928780e-03</td>\n",
       "      <td>4.276519e-02</td>\n",
       "      <td>3.219086e-02</td>\n",
       "      <td>6.141108e-01</td>\n",
       "      <td>7.455854e-01</td>\n",
       "      <td>7.861036e-01</td>\n",
       "    </tr>\n",
       "    <tr>\n",
       "      <th>category_pol_freq</th>\n",
       "      <td>-1.980341e-14</td>\n",
       "      <td>1.000000e+00</td>\n",
       "      <td>2.729764e-15</td>\n",
       "      <td>-2.267223e-12</td>\n",
       "      <td>-3.797984e-15</td>\n",
       "      <td>-4.813294e-13</td>\n",
       "      <td>3.648986e-14</td>\n",
       "      <td>-1.096901e-15</td>\n",
       "      <td>-4.192763e-15</td>\n",
       "    </tr>\n",
       "    <tr>\n",
       "      <th>Cat_user_Deviation</th>\n",
       "      <td>5.682424e-01</td>\n",
       "      <td>2.729764e-15</td>\n",
       "      <td>1.000000e+00</td>\n",
       "      <td>-1.191648e-02</td>\n",
       "      <td>-6.745660e-03</td>\n",
       "      <td>1.937051e-02</td>\n",
       "      <td>1.754046e-01</td>\n",
       "      <td>6.012252e-01</td>\n",
       "      <td>5.828071e-01</td>\n",
       "    </tr>\n",
       "    <tr>\n",
       "      <th>freq_veri_poli</th>\n",
       "      <td>9.928780e-03</td>\n",
       "      <td>-2.267223e-12</td>\n",
       "      <td>-1.191648e-02</td>\n",
       "      <td>1.000000e+00</td>\n",
       "      <td>-1.124700e-01</td>\n",
       "      <td>7.348486e-02</td>\n",
       "      <td>5.191908e-02</td>\n",
       "      <td>-3.554024e-02</td>\n",
       "      <td>-2.961147e-02</td>\n",
       "    </tr>\n",
       "    <tr>\n",
       "      <th>freq_pol_voil</th>\n",
       "      <td>4.276519e-02</td>\n",
       "      <td>-3.797984e-15</td>\n",
       "      <td>-6.745660e-03</td>\n",
       "      <td>-1.124700e-01</td>\n",
       "      <td>1.000000e+00</td>\n",
       "      <td>-1.852760e-01</td>\n",
       "      <td>-8.532421e-02</td>\n",
       "      <td>1.289016e-01</td>\n",
       "      <td>1.236329e-01</td>\n",
       "    </tr>\n",
       "    <tr>\n",
       "      <th>txn_veri_freq</th>\n",
       "      <td>3.219086e-02</td>\n",
       "      <td>-4.813294e-13</td>\n",
       "      <td>1.937051e-02</td>\n",
       "      <td>7.348486e-02</td>\n",
       "      <td>-1.852760e-01</td>\n",
       "      <td>1.000000e+00</td>\n",
       "      <td>7.877022e-02</td>\n",
       "      <td>-4.226573e-02</td>\n",
       "      <td>-2.193870e-02</td>\n",
       "    </tr>\n",
       "    <tr>\n",
       "      <th>country_code</th>\n",
       "      <td>6.141108e-01</td>\n",
       "      <td>3.648986e-14</td>\n",
       "      <td>1.754046e-01</td>\n",
       "      <td>5.191908e-02</td>\n",
       "      <td>-8.532421e-02</td>\n",
       "      <td>7.877022e-02</td>\n",
       "      <td>1.000000e+00</td>\n",
       "      <td>6.777107e-18</td>\n",
       "      <td>3.812540e-16</td>\n",
       "    </tr>\n",
       "    <tr>\n",
       "      <th>CDM_dev</th>\n",
       "      <td>7.455854e-01</td>\n",
       "      <td>-1.096901e-15</td>\n",
       "      <td>6.012252e-01</td>\n",
       "      <td>-3.554024e-02</td>\n",
       "      <td>1.289016e-01</td>\n",
       "      <td>-4.226573e-02</td>\n",
       "      <td>6.777107e-18</td>\n",
       "      <td>1.000000e+00</td>\n",
       "      <td>9.484568e-01</td>\n",
       "    </tr>\n",
       "    <tr>\n",
       "      <th>CM_dev</th>\n",
       "      <td>7.861036e-01</td>\n",
       "      <td>-4.192763e-15</td>\n",
       "      <td>5.828071e-01</td>\n",
       "      <td>-2.961147e-02</td>\n",
       "      <td>1.236329e-01</td>\n",
       "      <td>-2.193870e-02</td>\n",
       "      <td>3.812540e-16</td>\n",
       "      <td>9.484568e-01</td>\n",
       "      <td>1.000000e+00</td>\n",
       "    </tr>\n",
       "  </tbody>\n",
       "</table>\n",
       "</div>"
      ],
      "text/plain": [
       "                          amount  category_pol_freq  Cat_user_Deviation  \\\n",
       "amount              1.000000e+00      -1.980341e-14        5.682424e-01   \n",
       "category_pol_freq  -1.980341e-14       1.000000e+00        2.729764e-15   \n",
       "Cat_user_Deviation  5.682424e-01       2.729764e-15        1.000000e+00   \n",
       "freq_veri_poli      9.928780e-03      -2.267223e-12       -1.191648e-02   \n",
       "freq_pol_voil       4.276519e-02      -3.797984e-15       -6.745660e-03   \n",
       "txn_veri_freq       3.219086e-02      -4.813294e-13        1.937051e-02   \n",
       "country_code        6.141108e-01       3.648986e-14        1.754046e-01   \n",
       "CDM_dev             7.455854e-01      -1.096901e-15        6.012252e-01   \n",
       "CM_dev              7.861036e-01      -4.192763e-15        5.828071e-01   \n",
       "\n",
       "                    freq_veri_poli  freq_pol_voil  txn_veri_freq  \\\n",
       "amount                9.928780e-03   4.276519e-02   3.219086e-02   \n",
       "category_pol_freq    -2.267223e-12  -3.797984e-15  -4.813294e-13   \n",
       "Cat_user_Deviation   -1.191648e-02  -6.745660e-03   1.937051e-02   \n",
       "freq_veri_poli        1.000000e+00  -1.124700e-01   7.348486e-02   \n",
       "freq_pol_voil        -1.124700e-01   1.000000e+00  -1.852760e-01   \n",
       "txn_veri_freq         7.348486e-02  -1.852760e-01   1.000000e+00   \n",
       "country_code          5.191908e-02  -8.532421e-02   7.877022e-02   \n",
       "CDM_dev              -3.554024e-02   1.289016e-01  -4.226573e-02   \n",
       "CM_dev               -2.961147e-02   1.236329e-01  -2.193870e-02   \n",
       "\n",
       "                    country_code       CDM_dev        CM_dev  \n",
       "amount              6.141108e-01  7.455854e-01  7.861036e-01  \n",
       "category_pol_freq   3.648986e-14 -1.096901e-15 -4.192763e-15  \n",
       "Cat_user_Deviation  1.754046e-01  6.012252e-01  5.828071e-01  \n",
       "freq_veri_poli      5.191908e-02 -3.554024e-02 -2.961147e-02  \n",
       "freq_pol_voil      -8.532421e-02  1.289016e-01  1.236329e-01  \n",
       "txn_veri_freq       7.877022e-02 -4.226573e-02 -2.193870e-02  \n",
       "country_code        1.000000e+00  6.777107e-18  3.812540e-16  \n",
       "CDM_dev             6.777107e-18  1.000000e+00  9.484568e-01  \n",
       "CM_dev              3.812540e-16  9.484568e-01  1.000000e+00  "
      ]
     },
     "execution_count": 890,
     "metadata": {},
     "output_type": "execute_result"
    }
   ],
   "source": [
    "hotel.corr()"
   ]
  },
  {
   "cell_type": "code",
   "execution_count": 891,
   "metadata": {},
   "outputs": [
    {
     "data": {
      "text/plain": [
       "array(['Administrative', 'Associate', 'Director', 'Executive Director',\n",
       "       'Intern/Trainee', 'Manager', 'Managing Director', 'Partner',\n",
       "       'Senior Associate', 'Senior Manager', 'Specialist'], dtype=object)"
      ]
     },
     "execution_count": 891,
     "metadata": {},
     "output_type": "execute_result"
    }
   ],
   "source": [
    "designation=np.sort(hotel['designation'].unique())\n",
    "designation"
   ]
  },
  {
   "cell_type": "code",
   "execution_count": 892,
   "metadata": {},
   "outputs": [
    {
     "data": {
      "image/png": "[encoded data removed]",
      "text/plain": [
       "<Figure size 2160x648 with 11 Axes>"
      ]
     },
     "metadata": {
      "needs_background": "light"
     },
     "output_type": "display_data"
    }
   ],
   "source": [
    "\n",
    "rcParams['figure.figsize']=30,9\n",
    "for i in (range(0, 11)):\n",
    " plt.subplot(3,4,i+1)\n",
    " sns.distplot(hotel[hotel['designation']==designation[i]]['amount'],kde_kws={\"color\": \"r\", \"lw\": 1, \"label\": designation[i]})\n"
   ]
  },
  {
   "cell_type": "code",
   "execution_count": 893,
   "metadata": {},
   "outputs": [
    {
     "data": {
      "text/plain": [
       "array(['Data Enrichment', 'Verified by Finance', 'Pending for Audit',\n",
       "       'In-Queue', 'Return to update', nan, 'Saved', 'Rejected',\n",
       "       'Pending for Approval', 'Partially Verified'], dtype=object)"
      ]
     },
     "execution_count": 893,
     "metadata": {},
     "output_type": "execute_result"
    }
   ],
   "source": [
    "data2.report_status.unique()"
   ]
  },
  {
   "cell_type": "code",
   "execution_count": 894,
   "metadata": {},
   "outputs": [],
   "source": [
    "hotel=pd.get_dummies(hotel, columns = ['txn_type','city_group'],drop_first = True)\n",
    "hotel=hotel[hotel['report_status'].isin(['Verified by Finance','Rejected',])]"
   ]
  },
  {
   "cell_type": "code",
   "execution_count": 895,
   "metadata": {},
   "outputs": [
    {
     "data": {
      "text/plain": [
       "Verified by Finance    7184\n",
       "Rejected                 85\n",
       "Name: report_status, dtype: int64"
      ]
     },
     "execution_count": 895,
     "metadata": {},
     "output_type": "execute_result"
    }
   ],
   "source": [
    "hotel.report_status.value_counts()"
   ]
  },
  {
   "cell_type": "code",
   "execution_count": 896,
   "metadata": {},
   "outputs": [],
   "source": [
    "#hotel['report_status'][hotel.report_status=='Saved']='Rejected'"
   ]
  },
  {
   "cell_type": "code",
   "execution_count": 897,
   "metadata": {},
   "outputs": [
    {
     "data": {
      "text/html": [
       "<div>\n",
       "<style scoped>\n",
       "    .dataframe tbody tr th:only-of-type {\n",
       "        vertical-align: middle;\n",
       "    }\n",
       "\n",
       "    .dataframe tbody tr th {\n",
       "        vertical-align: top;\n",
       "    }\n",
       "\n",
       "    .dataframe thead th {\n",
       "        text-align: right;\n",
       "    }\n",
       "</style>\n",
       "<table border=\"1\" class=\"dataframe\">\n",
       "  <thead>\n",
       "    <tr style=\"text-align: right;\">\n",
       "      <th></th>\n",
       "      <th>amount</th>\n",
       "      <th>designation</th>\n",
       "      <th>report_status</th>\n",
       "      <th>category_pol_freq</th>\n",
       "      <th>Cat_user_Deviation</th>\n",
       "      <th>freq_veri_poli</th>\n",
       "      <th>freq_pol_voil</th>\n",
       "      <th>txn_veri_freq</th>\n",
       "      <th>country_code</th>\n",
       "      <th>CDM_dev</th>\n",
       "      <th>CM_dev</th>\n",
       "      <th>txn_type_HDFC Expense Cr</th>\n",
       "      <th>txn_type_HDFC Expense Dr</th>\n",
       "      <th>txn_type_Personal Card</th>\n",
       "      <th>city_group_Non-Metro</th>\n",
       "    </tr>\n",
       "  </thead>\n",
       "  <tbody>\n",
       "    <tr>\n",
       "      <th>0</th>\n",
       "      <td>7316.00</td>\n",
       "      <td>Partner</td>\n",
       "      <td>1</td>\n",
       "      <td>0.131456</td>\n",
       "      <td>-786.558</td>\n",
       "      <td>0.84484</td>\n",
       "      <td>0.0</td>\n",
       "      <td>0.893998</td>\n",
       "      <td>1</td>\n",
       "      <td>-6187.348318</td>\n",
       "      <td>-3978.680761</td>\n",
       "      <td>0</td>\n",
       "      <td>1</td>\n",
       "      <td>0</td>\n",
       "      <td>0</td>\n",
       "    </tr>\n",
       "    <tr>\n",
       "      <th>1</th>\n",
       "      <td>9952.43</td>\n",
       "      <td>Partner</td>\n",
       "      <td>1</td>\n",
       "      <td>0.131456</td>\n",
       "      <td>1849.872</td>\n",
       "      <td>0.84484</td>\n",
       "      <td>0.0</td>\n",
       "      <td>0.893998</td>\n",
       "      <td>1</td>\n",
       "      <td>-3550.918318</td>\n",
       "      <td>-1342.250761</td>\n",
       "      <td>0</td>\n",
       "      <td>1</td>\n",
       "      <td>0</td>\n",
       "      <td>0</td>\n",
       "    </tr>\n",
       "    <tr>\n",
       "      <th>2</th>\n",
       "      <td>4425.00</td>\n",
       "      <td>Partner</td>\n",
       "      <td>1</td>\n",
       "      <td>0.131456</td>\n",
       "      <td>-3677.558</td>\n",
       "      <td>0.84484</td>\n",
       "      <td>0.0</td>\n",
       "      <td>0.893998</td>\n",
       "      <td>1</td>\n",
       "      <td>-9078.348318</td>\n",
       "      <td>-6869.680761</td>\n",
       "      <td>0</td>\n",
       "      <td>1</td>\n",
       "      <td>0</td>\n",
       "      <td>0</td>\n",
       "    </tr>\n",
       "    <tr>\n",
       "      <th>3</th>\n",
       "      <td>4425.00</td>\n",
       "      <td>Partner</td>\n",
       "      <td>1</td>\n",
       "      <td>0.131456</td>\n",
       "      <td>-3677.558</td>\n",
       "      <td>0.84484</td>\n",
       "      <td>0.0</td>\n",
       "      <td>0.893998</td>\n",
       "      <td>1</td>\n",
       "      <td>-9078.348318</td>\n",
       "      <td>-6869.680761</td>\n",
       "      <td>0</td>\n",
       "      <td>1</td>\n",
       "      <td>0</td>\n",
       "      <td>0</td>\n",
       "    </tr>\n",
       "    <tr>\n",
       "      <th>4</th>\n",
       "      <td>7997.46</td>\n",
       "      <td>Partner</td>\n",
       "      <td>1</td>\n",
       "      <td>0.131456</td>\n",
       "      <td>-105.098</td>\n",
       "      <td>0.84484</td>\n",
       "      <td>0.0</td>\n",
       "      <td>0.893998</td>\n",
       "      <td>1</td>\n",
       "      <td>-5505.888318</td>\n",
       "      <td>-3297.220761</td>\n",
       "      <td>0</td>\n",
       "      <td>1</td>\n",
       "      <td>0</td>\n",
       "      <td>0</td>\n",
       "    </tr>\n",
       "  </tbody>\n",
       "</table>\n",
       "</div>"
      ],
      "text/plain": [
       "    amount designation  report_status  category_pol_freq  Cat_user_Deviation  \\\n",
       "0  7316.00     Partner              1           0.131456            -786.558   \n",
       "1  9952.43     Partner              1           0.131456            1849.872   \n",
       "2  4425.00     Partner              1           0.131456           -3677.558   \n",
       "3  4425.00     Partner              1           0.131456           -3677.558   \n",
       "4  7997.46     Partner              1           0.131456            -105.098   \n",
       "\n",
       "   freq_veri_poli  freq_pol_voil  txn_veri_freq  country_code      CDM_dev  \\\n",
       "0         0.84484            0.0       0.893998             1 -6187.348318   \n",
       "1         0.84484            0.0       0.893998             1 -3550.918318   \n",
       "2         0.84484            0.0       0.893998             1 -9078.348318   \n",
       "3         0.84484            0.0       0.893998             1 -9078.348318   \n",
       "4         0.84484            0.0       0.893998             1 -5505.888318   \n",
       "\n",
       "        CM_dev  txn_type_HDFC Expense Cr  txn_type_HDFC Expense Dr  \\\n",
       "0 -3978.680761                         0                         1   \n",
       "1 -1342.250761                         0                         1   \n",
       "2 -6869.680761                         0                         1   \n",
       "3 -6869.680761                         0                         1   \n",
       "4 -3297.220761                         0                         1   \n",
       "\n",
       "   txn_type_Personal Card  city_group_Non-Metro  \n",
       "0                       0                     0  \n",
       "1                       0                     0  \n",
       "2                       0                     0  \n",
       "3                       0                     0  \n",
       "4                       0                     0  "
      ]
     },
     "execution_count": 897,
     "metadata": {},
     "output_type": "execute_result"
    }
   ],
   "source": [
    "from sklearn.ensemble import RandomForestClassifier\n",
    "from sklearn.linear_model import LogisticRegression\n",
    "\n",
    "from sklearn.model_selection import cross_val_score\n",
    "from sklearn.preprocessing import LabelEncoder\n",
    "\n",
    "enc = LabelEncoder()\n",
    "hotel['report_status']=enc.fit_transform(hotel['report_status'])\n",
    "hotel.head()"
   ]
  },
  {
   "cell_type": "markdown",
   "metadata": {},
   "source": [
    "# Multiple Model "
   ]
  },
  {
   "cell_type": "code",
   "execution_count": 898,
   "metadata": {},
   "outputs": [],
   "source": [
    "y=hotel['report_status']\n",
    "x=hotel.drop(['report_status','designation'],axis=1)"
   ]
  },
  {
   "cell_type": "code",
   "execution_count": 899,
   "metadata": {},
   "outputs": [],
   "source": [
    "from sklearn.model_selection import KFold, cross_val_score, train_test_split\n",
    "\n",
    "#x_train,x_test,y_train,y_test=train_test_split(x, y,test_size = 0.3, random_state = 30,stratify=y)\n",
    "\n",
    "train_data,test_data=train_test_split(hotel,test_size = 0.3, random_state = 30,stratify=y)"
   ]
  },
  {
   "cell_type": "code",
   "execution_count": 945,
   "metadata": {
    "scrolled": true
   },
   "outputs": [
    {
     "data": {
      "text/plain": [
       "1    5029\n",
       "0     118\n",
       "Name: report_status, dtype: int64"
      ]
     },
     "execution_count": 945,
     "metadata": {},
     "output_type": "execute_result"
    }
   ],
   "source": [
    "train_data['report_status'].value_counts()"
   ]
  },
  {
   "cell_type": "code",
   "execution_count": 946,
   "metadata": {},
   "outputs": [],
   "source": [
    "train_data=pd.concat([train_data,train_data[train_data.report_status==0]],axis=0)\n",
    "test_data=pd.concat([test_data,test_data[test_data.report_status==0]],axis=0)"
   ]
  },
  {
   "cell_type": "markdown",
   "metadata": {},
   "source": [
    "#dict = {\n",
    "    'Verified by Finance': 0,\n",
    "    'Partially Verified': .15,\n",
    "    'Pending for Approval':.5,\n",
    "    'In-Queue': .5,\n",
    "    'Pending for Audit':.6,\n",
    "    'Return to update' :.75,\n",
    "    'Data Enrichment':.85,\n",
    "    'Saved':1, \n",
    "    'Rejected':1 \n",
    "}\n",
    "x['f%'] = x['report_status'].map(dict)\n",
    "y=x['f%']\n",
    "x=x.drop(['report_status','enc'],axis=1)"
   ]
  },
  {
   "cell_type": "code",
   "execution_count": 947,
   "metadata": {},
   "outputs": [
    {
     "data": {
      "text/plain": [
       "Index(['amount', 'designation', 'report_status', 'category_pol_freq',\n",
       "       'Cat_user_Deviation', 'freq_veri_poli', 'freq_pol_voil',\n",
       "       'txn_veri_freq', 'country_code', 'CDM_dev', 'CM_dev',\n",
       "       'txn_type_HDFC Expense Cr', 'txn_type_HDFC Expense Dr',\n",
       "       'txn_type_Personal Card', 'city_group_Non-Metro'],\n",
       "      dtype='object')"
      ]
     },
     "execution_count": 947,
     "metadata": {},
     "output_type": "execute_result"
    }
   ],
   "source": [
    "hotel.columns"
   ]
  },
  {
   "cell_type": "code",
   "execution_count": 970,
   "metadata": {},
   "outputs": [
    {
     "data": {
      "application/vnd.jupyter.widget-view+json": {
       "model_id": "7326e34b075e4e3b84f6b4720f5ff21a",
       "version_major": 2,
       "version_minor": 0
      },
      "text/plain": [
       "HBox(children=(IntProgress(value=0, max=11), HTML(value='')))"
      ]
     },
     "metadata": {},
     "output_type": "display_data"
    },
    {
     "name": "stdout",
     "output_type": "stream",
     "text": [
      "\n"
     ]
    }
   ],
   "source": [
    "model_rfc=RandomForestClassifier(n_estimators=200,max_depth=5)\n",
    "import tqdm\n",
    "from tqdm import tqdm_notebook\n",
    "model_list = []\n",
    "scores_list = []\n",
    "for i in tqdm_notebook(range(0, 11)):\n",
    "  data = train_data[train_data['designation']==designation[i]]\n",
    "  predictors = ['CDM_dev', 'freq_pol_voil', 'freq_veri_poli','txn_veri_freq','city_group_Non-Metro']\n",
    "  target = ['report_status']\n",
    "  X_train = data[predictors]\n",
    "  y_train = data[target]\n",
    "  scores_rfc = cross_val_score(estimator=model_rfc, X=X_train, y=y_train, cv=3)\n",
    "  scores_list.append(scores_rfc.mean())\n",
    "  model_rfc=RandomForestClassifier(n_estimators=200,max_depth=5)\n",
    "  model_rfc.fit(X_train, y_train)\n",
    "  model_list.append(model_rfc)"
   ]
  },
  {
   "cell_type": "code",
   "execution_count": 971,
   "metadata": {
    "scrolled": true
   },
   "outputs": [
    {
     "data": {
      "text/plain": [
       "0.9842847188300626"
      ]
     },
     "execution_count": 971,
     "metadata": {},
     "output_type": "execute_result"
    }
   ],
   "source": [
    "np.array(scores_list).mean()"
   ]
  },
  {
   "cell_type": "code",
   "execution_count": 972,
   "metadata": {},
   "outputs": [],
   "source": [
    "train_data['report_status_pred']=train_data['report_status']\n",
    "for i in (range(0, 11)):\n",
    "    train_data['report_status_pred'][train_data['designation']==designation[i]] = model_list[i].predict(train_data[train_data['designation']==designation[i]][predictors])"
   ]
  },
  {
   "cell_type": "code",
   "execution_count": 973,
   "metadata": {},
   "outputs": [
    {
     "data": {
      "text/plain": [
       "array([[ 128,  108],\n",
       "       [   6, 5023]], dtype=int64)"
      ]
     },
     "execution_count": 973,
     "metadata": {},
     "output_type": "execute_result"
    }
   ],
   "source": [
    "from sklearn.metrics import confusion_matrix\n",
    "confusion_matrix(train_data['report_status'],train_data['report_status_pred'])"
   ]
  },
  {
   "cell_type": "code",
   "execution_count": 974,
   "metadata": {},
   "outputs": [
    {
     "name": "stdout",
     "output_type": "stream",
     "text": [
      "              precision    recall  f1-score   support\n",
      "\n",
      "           0       0.96      0.54      0.69       236\n",
      "           1       0.98      1.00      0.99      5029\n",
      "\n",
      "   micro avg       0.98      0.98      0.98      5265\n",
      "   macro avg       0.97      0.77      0.84      5265\n",
      "weighted avg       0.98      0.98      0.98      5265\n",
      "\n"
     ]
    }
   ],
   "source": [
    "from sklearn.metrics import classification_report\n",
    "\n",
    "print(classification_report(train_data['report_status'],train_data['report_status_pred']))"
   ]
  },
  {
   "cell_type": "code",
   "execution_count": 975,
   "metadata": {},
   "outputs": [
    {
     "data": {
      "text/plain": [
       "array(['Administrative', 'Associate', 'Director', 'Executive Director',\n",
       "       'Intern/Trainee', 'Manager', 'Managing Director', 'Partner',\n",
       "       'Senior Associate', 'Senior Manager', 'Specialist'], dtype=object)"
      ]
     },
     "execution_count": 975,
     "metadata": {},
     "output_type": "execute_result"
    }
   ],
   "source": [
    "designation_test=np.sort(test_data['designation'].unique())\n",
    "designation_test"
   ]
  },
  {
   "cell_type": "code",
   "execution_count": 976,
   "metadata": {},
   "outputs": [],
   "source": [
    "test_data['report_status_pred']=test_data['report_status']\n",
    "for i in (range(0, 11)):\n",
    "    if(test_data[test_data['designation']==designation[i]].shape[0]!=0):\n",
    "        test_data['report_status_pred'][test_data['designation']==designation[i]] = model_list[i].predict(test_data[test_data['designation']==designation[i]][predictors])"
   ]
  },
  {
   "cell_type": "code",
   "execution_count": 977,
   "metadata": {},
   "outputs": [
    {
     "data": {
      "text/plain": [
       "array([[  40,   64],\n",
       "       [   3, 2152]], dtype=int64)"
      ]
     },
     "execution_count": 977,
     "metadata": {},
     "output_type": "execute_result"
    }
   ],
   "source": [
    "confusion_matrix(test_data['report_status'],test_data['report_status_pred'])"
   ]
  },
  {
   "cell_type": "code",
   "execution_count": 978,
   "metadata": {},
   "outputs": [
    {
     "name": "stdout",
     "output_type": "stream",
     "text": [
      "              precision    recall  f1-score   support\n",
      "\n",
      "           0       0.93      0.38      0.54       104\n",
      "           1       0.97      1.00      0.98      2155\n",
      "\n",
      "   micro avg       0.97      0.97      0.97      2259\n",
      "   macro avg       0.95      0.69      0.76      2259\n",
      "weighted avg       0.97      0.97      0.96      2259\n",
      "\n"
     ]
    }
   ],
   "source": [
    "print(classification_report(test_data['report_status'],test_data['report_status_pred']))"
   ]
  },
  {
   "cell_type": "code",
   "execution_count": 979,
   "metadata": {},
   "outputs": [
    {
     "data": {
      "text/plain": [
       "CDM_dev                 0.546644\n",
       "freq_pol_voil           0.208966\n",
       "txn_veri_freq           0.100910\n",
       "freq_veri_poli          0.084387\n",
       "city_group_Non-Metro    0.059094\n",
       "dtype: float64"
      ]
     },
     "execution_count": 979,
     "metadata": {},
     "output_type": "execute_result"
    }
   ],
   "source": [
    "feature_imp = pd.Series(model_list[1].feature_importances_,index=predictors).sort_values(ascending=False)\n",
    "feature_imp"
   ]
  },
  {
   "cell_type": "code",
   "execution_count": null,
   "metadata": {},
   "outputs": [],
   "source": []
  },
  {
   "cell_type": "markdown",
   "metadata": {},
   "source": [
    "# Single model"
   ]
  },
  {
   "cell_type": "code",
   "execution_count": 1021,
   "metadata": {},
   "outputs": [],
   "source": [
    "xtrain,xtest,ytrain,ytest=train_test_split(x,y,test_size = 0.3, random_state = 30,stratify=y)"
   ]
  },
  {
   "cell_type": "code",
   "execution_count": 1022,
   "metadata": {},
   "outputs": [
    {
     "data": {
      "text/plain": [
       "RandomForestClassifier(bootstrap=True, class_weight=None, criterion='gini',\n",
       "            max_depth=10, max_features='auto', max_leaf_nodes=None,\n",
       "            min_impurity_decrease=0.0, min_impurity_split=None,\n",
       "            min_samples_leaf=1, min_samples_split=2,\n",
       "            min_weight_fraction_leaf=0.0, n_estimators=200, n_jobs=None,\n",
       "            oob_score=False, random_state=None, verbose=0,\n",
       "            warm_start=False)"
      ]
     },
     "execution_count": 1022,
     "metadata": {},
     "output_type": "execute_result"
    }
   ],
   "source": [
    "model = RandomForestClassifier(n_estimators=200,max_depth=10)\n",
    "model.fit(xtrain, ytrain)"
   ]
  },
  {
   "cell_type": "code",
   "execution_count": 1023,
   "metadata": {},
   "outputs": [
    {
     "data": {
      "text/plain": [
       "0.9917469050894085"
      ]
     },
     "execution_count": 1023,
     "metadata": {},
     "output_type": "execute_result"
    }
   ],
   "source": [
    "model.score(xtest,ytest)"
   ]
  },
  {
   "cell_type": "code",
   "execution_count": 1024,
   "metadata": {},
   "outputs": [
    {
     "data": {
      "text/plain": [
       "array([[  21,   38],\n",
       "       [   0, 5029]], dtype=int64)"
      ]
     },
     "execution_count": 1024,
     "metadata": {},
     "output_type": "execute_result"
    }
   ],
   "source": [
    "confusion_matrix(ytrain,model.predict(xtrain))"
   ]
  },
  {
   "cell_type": "code",
   "execution_count": 1025,
   "metadata": {},
   "outputs": [
    {
     "data": {
      "text/plain": [
       "array([[   8,   18],\n",
       "       [   0, 2155]], dtype=int64)"
      ]
     },
     "execution_count": 1025,
     "metadata": {},
     "output_type": "execute_result"
    }
   ],
   "source": [
    "confusion_matrix(ytest,model.predict(xtest))"
   ]
  },
  {
   "cell_type": "code",
   "execution_count": 1026,
   "metadata": {},
   "outputs": [
    {
     "name": "stdout",
     "output_type": "stream",
     "text": [
      "              precision    recall  f1-score   support\n",
      "\n",
      "           0       1.00      0.31      0.47        26\n",
      "           1       0.99      1.00      1.00      2155\n",
      "\n",
      "   micro avg       0.99      0.99      0.99      2181\n",
      "   macro avg       1.00      0.65      0.73      2181\n",
      "weighted avg       0.99      0.99      0.99      2181\n",
      "\n"
     ]
    }
   ],
   "source": [
    "print(classification_report(ytest,model.predict(xtest)))"
   ]
  },
  {
   "cell_type": "code",
   "execution_count": null,
   "metadata": {},
   "outputs": [],
   "source": [
    "# Applying Grid Search to find the best model and the best parameters\n",
    "from sklearn.model_selection import GridSearchCV\n",
    "parameters = [{'C': [1, 10, 100, 1000], 'kernel': ['linear']},\n",
    "              {'C': [1, 10, 100, 1000], 'kernel': ['rbf'], 'gamma': [0.1, 0.2, 0.3, 0.4, 0.5, 0.6, 0.7, 0.8, 0.9]}]\n",
    "grid_search = GridSearchCV(estimator = classifier,\n",
    "                           param_grid = parameters,\n",
    "                           scoring = 'accuracy',\n",
    "                           cv = 10,\n",
    "                           n_jobs = -1)\n",
    "grid_search = grid_search.fit(X_train, y_train)\n",
    "best_accuracy = grid_search.best_score_\n",
    "best_parameters = grid_search.best_params_"
   ]
  },
  {
   "cell_type": "code",
   "execution_count": null,
   "metadata": {},
   "outputs": [],
   "source": []
  }
 ],
 "metadata": {
  "kernelspec": {
   "display_name": "Python 3",
   "language": "python",
   "name": "python3"
  },
  "language_info": {
   "codemirror_mode": {
    "name": "ipython",
    "version": 3
   },
   "file_extension": ".py",
   "mimetype": "text/x-python",
   "name": "python",
   "nbconvert_exporter": "python",
   "pygments_lexer": "ipython3",
   "version": "3.7.3"
  }
 },
 "nbformat": 4,
 "nbformat_minor": 2
}
